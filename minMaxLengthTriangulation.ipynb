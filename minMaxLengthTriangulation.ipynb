{
 "cells": [
  {
   "cell_type": "markdown",
   "metadata": {},
   "source": [
    "# Imports"
   ]
  },
  {
   "cell_type": "code",
   "execution_count": 197,
   "metadata": {
    "collapsed": true
   },
   "outputs": [],
   "source": [
    "import numpy as np\n",
    "from scipy.spatial import ConvexHull\n",
    "from scipy.spatial import distance\n",
    "import matplotlib.pyplot as plt\n",
    "import networkx as nx\n",
    "from itertools import chain, combinations\n",
    "import pdb\n",
    "\n",
    "%matplotlib inline"
   ]
  },
  {
   "cell_type": "markdown",
   "metadata": {},
   "source": [
    "# Points"
   ]
  },
  {
   "cell_type": "code",
   "execution_count": 198,
   "metadata": {
    "collapsed": false
   },
   "outputs": [],
   "source": [
    "points = np.random.rand(30, 2)   # 30 random points in 2-D"
   ]
  },
  {
   "cell_type": "markdown",
   "metadata": {},
   "source": [
    "# Graph"
   ]
  },
  {
   "cell_type": "code",
   "execution_count": 199,
   "metadata": {
    "collapsed": false
   },
   "outputs": [],
   "source": [
    "G = nx.Graph()\n",
    "it = np.nditer(points, flags=['multi_index'])\n",
    "while not it.finished:\n",
    "    index = it.multi_index[0]\n",
    "    G.add_node(index,pos=(points[index,0],points[index,1]),label=index)\n",
    "    it.iternext()\n",
    "    it.iternext()"
   ]
  },
  {
   "cell_type": "markdown",
   "metadata": {},
   "source": [
    "# Hull"
   ]
  },
  {
   "cell_type": "code",
   "execution_count": 200,
   "metadata": {
    "collapsed": false
   },
   "outputs": [],
   "source": [
    "hull = ConvexHull(points)\n",
    "for simplex in hull.simplices:\n",
    "    G.add_edge(simplex[0],simplex[1])"
   ]
  },
  {
   "cell_type": "markdown",
   "metadata": {},
   "source": [
    "# RNG Edges"
   ]
  },
  {
   "cell_type": "code",
   "execution_count": 201,
   "metadata": {
    "collapsed": false
   },
   "outputs": [],
   "source": [
    "iti = np.nditer(points, flags=['multi_index'])\n",
    "while not iti.finished:\n",
    "    i = iti.multi_index[0]\n",
    "    itj = np.nditer(points,flags=['multi_index'])\n",
    "    while not itj.finished:\n",
    "        j = itj.multi_index[0]\n",
    "        if j <= i:\n",
    "            itj.iternext()\n",
    "            itj.iternext()\n",
    "            continue\n",
    "        distij = distance.euclidean(points[i],points[j])\n",
    "        itk = np.nditer(points,flags=['multi_index'])\n",
    "        closerNeighborExists = False\n",
    "        while not itk.finished:\n",
    "            k = itk.multi_index[0]\n",
    "            if k == i or k == j:\n",
    "                itk.iternext()\n",
    "                itk.iternext()\n",
    "                continue\n",
    "            distik = distance.euclidean(points[i],points[k])\n",
    "            distjk = distance.euclidean(points[j],points[k])\n",
    "            if distik < distij and distjk < distij:\n",
    "                closerNeighborExists = True\n",
    "                break\n",
    "            itk.iternext()\n",
    "            itk.iternext()\n",
    "        if not closerNeighborExists:\n",
    "            G.add_edge(i,j)\n",
    "        itj.iternext()\n",
    "        itj.iternext()\n",
    "    iti.iternext()\n",
    "    iti.iternext()        "
   ]
  },
  {
   "cell_type": "markdown",
   "metadata": {},
   "source": [
    "# Draw"
   ]
  },
  {
   "cell_type": "code",
   "execution_count": 202,
   "metadata": {
    "collapsed": false
   },
   "outputs": [
    {
     "data": {
      "text/plain": [
       "{0: <matplotlib.text.Text at 0xd7086a0>,\n",
       " 1: <matplotlib.text.Text at 0xd7399b0>,\n",
       " 2: <matplotlib.text.Text at 0xd739f28>,\n",
       " 3: <matplotlib.text.Text at 0xd73f4e0>,\n",
       " 4: <matplotlib.text.Text at 0xd73fa58>,\n",
       " 5: <matplotlib.text.Text at 0xd73ffd0>,\n",
       " 6: <matplotlib.text.Text at 0xd745588>,\n",
       " 7: <matplotlib.text.Text at 0xd745b00>,\n",
       " 8: <matplotlib.text.Text at 0xd74c0b8>,\n",
       " 9: <matplotlib.text.Text at 0xd74c630>,\n",
       " 10: <matplotlib.text.Text at 0xd74cba8>,\n",
       " 11: <matplotlib.text.Text at 0xd752160>,\n",
       " 12: <matplotlib.text.Text at 0xd7526d8>,\n",
       " 13: <matplotlib.text.Text at 0xd752c50>,\n",
       " 14: <matplotlib.text.Text at 0xd757208>,\n",
       " 15: <matplotlib.text.Text at 0xd757780>,\n",
       " 16: <matplotlib.text.Text at 0xd757cf8>,\n",
       " 17: <matplotlib.text.Text at 0xd75d2b0>,\n",
       " 18: <matplotlib.text.Text at 0xd75d828>,\n",
       " 19: <matplotlib.text.Text at 0xd75dda0>,\n",
       " 20: <matplotlib.text.Text at 0xd763358>,\n",
       " 21: <matplotlib.text.Text at 0xd7638d0>,\n",
       " 22: <matplotlib.text.Text at 0xd763e48>,\n",
       " 23: <matplotlib.text.Text at 0xd768400>,\n",
       " 24: <matplotlib.text.Text at 0xd768978>,\n",
       " 25: <matplotlib.text.Text at 0xd768ef0>,\n",
       " 26: <matplotlib.text.Text at 0xd76d4a8>,\n",
       " 27: <matplotlib.text.Text at 0xd76da20>,\n",
       " 28: <matplotlib.text.Text at 0xd76df98>,\n",
       " 29: <matplotlib.text.Text at 0xd774550>}"
      ]
     },
     "execution_count": 202,
     "metadata": {},
     "output_type": "execute_result"
    },
    {
     "data": {
      "image/png": "[encoded data removed]",
      "text/plain": [
       "<matplotlib.figure.Figure at 0xd7086d8>"
      ]
     },
     "metadata": {},
     "output_type": "display_data"
    }
   ],
   "source": [
    "pos = nx.get_node_attributes(G,'pos')\n",
    "\n",
    "nx.draw(G,pos)\n",
    "nx.draw_networkx_labels(G,pos)"
   ]
  },
  {
   "cell_type": "markdown",
   "metadata": {},
   "source": [
    "# Region Enumeration\n",
    "1. Find a cycle basis, containing $c$ cycles\n",
    "1. iterate over the $2^{c}-1$ distinct, non-empty Eulerian subgraphs (do this by iterating over the powerset of the cycle basis and finding the symmetric difference of that powerset-element's elements.\n",
    "  1. check the subgraph for several conditions.    If these conditions are satisfied, we claim that the subgraph is a simply connected region.\n",
    "    1. Each vertex in the subgraph has degree 2\n",
    "    1. The edges of the complete graph on the vertices of the subgraph intersect only edges in the subgraph (and no other edges from the graph)"
   ]
  },
  {
   "cell_type": "code",
   "execution_count": 203,
   "metadata": {
    "collapsed": false
   },
   "outputs": [
    {
     "name": "stdout",
     "output_type": "stream",
     "text": [
      "Yo got dat face: [(9, 21), (9, 23), (3, 4), (3, 21), (4, 23)]\n",
      "([3, 21, 9, 23, 4],)\n",
      "Yo got dat face: [(26, 19), (26, 29), (19, 29)]\n",
      "([19, 29, 26],)\n",
      "Yo got dat face: [(8, 29), (8, 22), (29, 22)]\n",
      "([8, 22, 29],)\n",
      "Yo got dat face: [(24, 10), (24, 22), (10, 22)]\n",
      "([24, 10, 22],)\n",
      "Yo got dat face: [(24, 18), (24, 10), (18, 11), (11, 10)]\n",
      "([24, 18, 11, 10],)\n",
      "Yo got dat face: [(24, 1), (24, 18), (1, 18)]\n",
      "([24, 1, 18],)\n",
      "Yo got dat face: [(25, 27), (25, 12), (27, 20), (20, 13), (13, 12)]\n",
      "([13, 20, 27, 25, 12],)\n",
      "Yo got dat face: [(1, 18), (1, 12), (2, 12), (2, 28), (28, 11), (11, 18)]\n",
      "([28, 2, 12, 1, 18, 11],)\n",
      "Yo got dat face: [(16, 3), (16, 7), (3, 21), (21, 7)]\n",
      "([3, 16, 7, 21],)\n",
      "Yo got dat face: [(16, 3), (16, 7), (3, 4), (4, 23), (21, 9), (21, 7), (23, 9)]\n",
      "([3, 21, 9, 23, 4], [3, 16, 7, 21])\n",
      "Yo got dat face: [(24, 1), (24, 10), (1, 18), (18, 11), (11, 10)]\n",
      "([24, 18, 11, 10], [24, 1, 18])\n",
      "Yo got dat face: [(1, 24), (1, 12), (18, 24), (18, 11), (12, 2), (11, 28), (28, 2)]\n",
      "([24, 1, 18], [28, 2, 12, 1, 18, 11])\n"
     ]
    }
   ],
   "source": [
    "def powerset(iterable):\n",
    "    \"\"\"\n",
    "    Enumerate all non-empty subsets of an iterable.\n",
    "    For example: powerset([1,2,3]) --> (1,) (2,) (3,) (1,2) (1,3) (2,3) (1,2,3)\n",
    "    \"\"\"\n",
    "    s = list(iterable)\n",
    "    return chain.from_iterable(combinations(s, r) for r in range(1,len(s)+1,1))\n",
    "\n",
    "def symmetric_difference_graph(cycle_tuple,graph):\n",
    "    \"\"\"\n",
    "    Given a tuple of lists of nodes, cycle_tuple, an element from the powerset of the cycle basis of a given graph, G, where each list in the given tuple represents a cycle of its contained nodes, return the graph defined by the symmetric difference of the cycles represented by the input tuple's lists.\n",
    "    \"\"\"\n",
    "    G = nx.Graph()\n",
    "    \n",
    "    for cycle in cycle_tuple:\n",
    "        cycle_length = len(cycle)\n",
    "        cycle_edges = [(cycle[idx],cycle[idx+1]) for idx in range(cycle_length-1)]\n",
    "        # Close the loop\n",
    "        cycle_edges.append((cycle[cycle_length-1],cycle[0]))\n",
    "        \n",
    "        for edge in cycle_edges:\n",
    "            i,j = edge\n",
    "            if G.has_edge(i,j):\n",
    "                G.remove_edge(i,j)\n",
    "            else:\n",
    "                G.add_edge(i,j)\n",
    "    \n",
    "    # position the nodes in the symmetric difference graph\n",
    "    nx.set_node_attributes(G,'pos',{node:(nx.get_node_attributes(graph,'pos'))[node] for node in nx.nodes(G)})\n",
    "    \n",
    "    return G\n",
    "\n",
    "def union(cycle_tuple):\n",
    "\n",
    "def difference_graph_subgraph(graph,subgraph):\n",
    "    \"\"\"\n",
    "    (should probably be combined with symmetric_difference_graph function) return a subgraph of graph resulting from the removal of edges in cycle from graph\n",
    "    \"\"\"\n",
    "    \n",
    "    G = nx.Graph()\n",
    "    G.add_edges_from(graph.edges())\n",
    "    G.remove_edges_from(subgraph.edges())\n",
    "    H = nx.Graph()\n",
    "    H.add_edges_from(G.edges())\n",
    "    return H\n",
    "    \n",
    "\n",
    "class Point:\n",
    "    def __init__(self,x,y):\n",
    "        self.x = x\n",
    "        self.y = y\n",
    "\n",
    "def ccw(A,B,C):\n",
    "    return (C.y-A.y) * (B.x-A.x) > (B.y-A.y) * (C.x-A.x)\n",
    "\n",
    "# Return true if line segments AB and CD intersect\n",
    "def intersect(A,B,C,D):\n",
    "    return ccw(A,C,D) != ccw(B,C,D) and ccw(A,B,C) != ccw(A,B,D)\n",
    "\n",
    "def edge_intersection(edge1,edge2,graph):\n",
    "    if edge1[0] != edge2[0] and edge1[0] != edge2[1] and edge1[1] != edge2[0] and edge1[1] != edge2[1]:\n",
    "        pos = nx.get_node_attributes(graph,'pos')\n",
    "        A = Point(pos[edge1[0]][0],pos[edge1[0]][1])\n",
    "        B = Point(pos[edge1[1]][0],pos[edge1[1]][1])\n",
    "        C = Point(pos[edge2[0]][0],pos[edge2[0]][1])\n",
    "        D = Point(pos[edge2[1]][0],pos[edge2[1]][1])\n",
    "        return intersect(A,B,C,D)\n",
    "    return False\n",
    "\n",
    "def check_for_regionness(subgraph,graph):\n",
    "    \"\"\"\n",
    "    Given a subgraph and its containing graph (each of which has position data),\n",
    "    determine whether the subgraph encloses a single, simply connected region in\n",
    "    the current layout of the graph.\n",
    "    \"\"\"\n",
    "    # Is subgraph connected?\n",
    "    if nx.number_connected_components(subgraph) != 1:\n",
    "        return False\n",
    "    \n",
    "    # Does each node in subgraph have degree 2?\n",
    "    for node in subgraph.nodes():\n",
    "        if subgraph.degree(node) != 2:\n",
    "            return False\n",
    "    \n",
    "    # Does each edge in subgraph intersect only subgraph edges (and no other edges in graph)?\n",
    "    # This will fail for many non-convex regions, though\n",
    "    pos = nx.get_node_attributes(graph,'pos')\n",
    "    for subgraph_edge in combinations(subgraph.nodes(),2):\n",
    "        for graph_edge in (difference_graph_subgraph(graph,subgraph)).edges():\n",
    "            if edge_intersection(subgraph_edge,graph_edge,graph):\n",
    "                return False\n",
    "    return True\n",
    "\n",
    "for subset_cycle_basis in powerset(nx.cycle_basis(G)):\n",
    "    #print(\"TESTING:\",(symmetric_difference_graph(subset_cycle_basis,G)).edges())\n",
    "    if check_for_regionness(symmetric_difference_graph(subset_cycle_basis,G),G):\n",
    "        print(\"Yo got dat face:\",(symmetric_difference_graph(subset_cycle_basis,G)).edges())\n",
    "        print(subset_cycle_basis)"
   ]
  },
  {
   "cell_type": "markdown",
   "metadata": {},
   "source": [
    "# Next Steps\n",
    "1. since there may exist several minmax length triangulations of a face, one could enumerate all such triangulations and find those that are more ideal with respect to:\n",
    "  1. daily travel\n",
    "  1. opponent activity\n",
    "  1. node degree\n",
    "1. allow for the input of \"layer nodes,\" which will not be included in the triangulation, but as"
   ]
  },
  {
   "cell_type": "code",
   "execution_count": null,
   "metadata": {
    "collapsed": true
   },
   "outputs": [],
   "source": []
  }
 ],
 "metadata": {
  "kernelspec": {
   "display_name": "Python 3",
   "language": "python",
   "name": "python3"
  },
  "language_info": {
   "codemirror_mode": {
    "name": "ipython",
    "version": 3
   },
   "file_extension": ".py",
   "mimetype": "text/x-python",
   "name": "python",
   "nbconvert_exporter": "python",
   "pygments_lexer": "ipython3",
   "version": "3.4.3"
  }
 },
 "nbformat": 4,
 "nbformat_minor": 0
}
