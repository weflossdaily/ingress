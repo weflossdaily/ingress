{
 "cells": [
  {
   "cell_type": "code",
   "execution_count": 1,
   "metadata": {
    "collapsed": true
   },
   "outputs": [],
   "source": [
    "import bokeh.plotting"
   ]
  },
  {
   "cell_type": "code",
   "execution_count": 2,
   "metadata": {
    "collapsed": false
   },
   "outputs": [
    {
     "data": {
      "text/html": [
       "\n",
       "    <div class=\"bk-root\">\n",
       "        <a href=\"http://bokeh.pydata.org\" target=\"_blank\" class=\"bk-logo bk-logo-small bk-logo-notebook\"></a>\n",
       "        <span id=\"0eb56a9c-9a0f-4207-a9e4-4f4ac5aada19\">Loading BokehJS ...</span>\n",
       "    </div>"
      ]
     },
     "metadata": {},
     "output_type": "display_data"
    },
    {
     "data": {
      "application/javascript": [
       "\n",
       "(function(global) {\n",
       "  function now() {\n",
       "    return new Date();\n",
       "  }\n",
       "\n",
       "  var force = \"1\";\n",
       "\n",
       "  if (typeof (window._bokeh_onload_callbacks) === \"undefined\" || force !== \"\") {\n",
       "    window._bokeh_onload_callbacks = [];\n",
       "    window._bokeh_is_loading = undefined;\n",
       "  }\n",
       "\n",
       "  function run_callbacks() {\n",
       "    window._bokeh_onload_callbacks.forEach(function(callback) { callback() });\n",
       "    delete window._bokeh_onload_callbacks\n",
       "    console.info(\"Bokeh: all callbacks have finished\");\n",
       "  }\n",
       "\n",
       "  function load_libs(js_urls, callback) {\n",
       "    window._bokeh_onload_callbacks.push(callback);\n",
       "    if (window._bokeh_is_loading > 0) {\n",
       "      console.log(\"Bokeh: BokehJS is being loaded, scheduling callback at\", now());\n",
       "      return null;\n",
       "    }\n",
       "    if (js_urls == null || js_urls.length === 0) {\n",
       "      run_callbacks();\n",
       "      return null;\n",
       "    }\n",
       "    console.log(\"Bokeh: BokehJS not loaded, scheduling load and callback at\", now());\n",
       "    window._bokeh_is_loading = js_urls.length;\n",
       "    for (var i = 0; i < js_urls.length; i++) {\n",
       "      var url = js_urls[i];\n",
       "      var s = document.createElement('script');\n",
       "      s.src = url;\n",
       "      s.async = false;\n",
       "      s.onreadystatechange = s.onload = function() {\n",
       "        window._bokeh_is_loading--;\n",
       "        if (window._bokeh_is_loading === 0) {\n",
       "          console.log(\"Bokeh: all BokehJS libraries loaded\");\n",
       "          run_callbacks()\n",
       "        }\n",
       "      };\n",
       "      s.onerror = function() {\n",
       "        console.warn(\"failed to load library \" + url);\n",
       "      };\n",
       "      console.log(\"Bokeh: injecting script tag for BokehJS library: \", url);\n",
       "      document.getElementsByTagName(\"head\")[0].appendChild(s);\n",
       "    }\n",
       "  };\n",
       "\n",
       "  var js_urls = ['https://cdn.pydata.org/bokeh/release/bokeh-0.12.1.min.js', 'https://cdn.pydata.org/bokeh/release/bokeh-widgets-0.12.1.min.js', 'https://cdn.pydata.org/bokeh/release/bokeh-compiler-0.12.1.min.js'];\n",
       "\n",
       "  var inline_js = [\n",
       "    function(Bokeh) {\n",
       "      Bokeh.set_log_level(\"info\");\n",
       "    },\n",
       "    \n",
       "    function(Bokeh) {\n",
       "      \n",
       "      Bokeh.$(\"#0eb56a9c-9a0f-4207-a9e4-4f4ac5aada19\").text(\"BokehJS successfully loaded\");\n",
       "      var kernel = Jupyter.notebook.kernel\n",
       "      if (kernel.execute !== undefined) {\n",
       "          kernel.execute(\"import bokeh.io; bokeh.io._nb_loaded = True\");\n",
       "      }\n",
       "    },\n",
       "    function(Bokeh) {\n",
       "      console.log(\"Bokeh: injecting CSS: https://cdn.pydata.org/bokeh/release/bokeh-0.12.1.min.css\");\n",
       "      Bokeh.embed.inject_css(\"https://cdn.pydata.org/bokeh/release/bokeh-0.12.1.min.css\");\n",
       "      console.log(\"Bokeh: injecting CSS: https://cdn.pydata.org/bokeh/release/bokeh-widgets-0.12.1.min.css\");\n",
       "      Bokeh.embed.inject_css(\"https://cdn.pydata.org/bokeh/release/bokeh-widgets-0.12.1.min.css\");\n",
       "    }\n",
       "  ];\n",
       "\n",
       "  function run_inline_js() {\n",
       "    for (var i = 0; i < inline_js.length; i++) {\n",
       "      inline_js[i](window.Bokeh);\n",
       "    }\n",
       "  }\n",
       "\n",
       "  if (window._bokeh_is_loading === 0) {\n",
       "    console.log(\"Bokeh: BokehJS loaded, going straight to plotting\");\n",
       "    run_inline_js();\n",
       "  } else {\n",
       "    load_libs(js_urls, function() {\n",
       "      console.log(\"Bokeh: BokehJS plotting callback run at\", now());\n",
       "      run_inline_js();\n",
       "    });\n",
       "  }\n",
       "}(this));"
      ]
     },
     "metadata": {},
     "output_type": "display_data"
    }
   ],
   "source": [
    "bokeh.plotting.output_notebook()"
   ]
  },
  {
   "cell_type": "markdown",
   "metadata": {},
   "source": [
    "# Imports"
   ]
  },
  {
   "cell_type": "code",
   "execution_count": 3,
   "metadata": {
    "collapsed": true
   },
   "outputs": [],
   "source": [
    "import numpy as np\n",
    "from scipy.spatial import ConvexHull\n",
    "from scipy.spatial import distance\n",
    "import matplotlib.pyplot as plt\n",
    "import networkx as nx\n",
    "from itertools import chain, combinations\n",
    "import pdb\n",
    "import triangle\n",
    "import triangle.plot\n",
    "from bokeh.plotting import figure, show, output_file\n",
    "from bokeh.models import ColumnDataSource, LabelSet, Label\n",
    "\n",
    "%matplotlib inline"
   ]
  },
  {
   "cell_type": "markdown",
   "metadata": {},
   "source": [
    "# Points"
   ]
  },
  {
   "cell_type": "code",
   "execution_count": 4,
   "metadata": {
    "collapsed": false
   },
   "outputs": [],
   "source": [
    "# points = np.random.rand(30, 2)   # 30 random points in 2-D\n",
    "\n",
    "bookmarkJSON = {\"maps\":{\"idOthers\":{\"label\":\"Others\",\"state\":1,\"bkmrk\":{}}},\"portals\":{\"id1436081056637\":{\"label\":\"0A2198FE: Inwood Recharge\",\"state\":0,\"bkmrk\":{\"id1436081177062\":{\"guid\":\"76cbeac0b8884a61999911370f3ef7b3.16\",\"latlng\":\"40.862411,-73.920096\",\"label\":\"204th Graffiti\"},\"id1436081203050\":{\"guid\":\"d45f78c7330f415295dad5a2a88c1b2d.16\",\"latlng\":\"40.864628,-73.918741\",\"label\":\"207 St. Station\"},\"id1436081219785\":{\"guid\":\"27fad55af4574b46a6dcc74d35251773.16\",\"latlng\":\"40.869281,-73.915268\",\"label\":\"215 St Station\"},\"id1436081249244\":{\"guid\":\"1c66a05a92cb40a9aa1d13517c3068d2.16\",\"latlng\":\"40.869941,-73.915052\",\"label\":\"215 Street Subway Station\"},\"id1436081269757\":{\"guid\":\"1537b020c1594d378e8283ce7b8b5d89.16\",\"latlng\":\"40.87446,-73.909914\",\"label\":\"225 St Station Train\"},\"id1445475245664\":{\"guid\":\"14419aaeb5b34d6983e156e19854bb12.16\",\"latlng\":\"40.864574,-73.929394\",\"label\":\"Aardvark Sculpture\"},\"id1436083329163\":{\"guid\":\"c3eddf56a4bb416d8d0ba48a043e902f.16\",\"latlng\":\"40.866229,-73.924762\",\"label\":\"Academy Street Art\"},\"id1436081282965\":{\"guid\":\"e27db2c68cc2465a99e4c9e7a3632b21.16\",\"latlng\":\"40.868224,-73.922308\",\"label\":\"Alexander's Garden\"},\"id1440854735540\":{\"guid\":\"0790aca399c2441ca74340868ee96d15.16\",\"latlng\":\"40.865499,-73.928236\",\"label\":\"Anne Loftus Playground\"},\"id1436081295648\":{\"guid\":\"5f86f6d37d8c4db88eb0319d90f29284.16\",\"latlng\":\"40.864711,-73.918982\",\"label\":\"Barber \"},\"id1436083319902\":{\"guid\":\"90bb29efc45c43d2aac4a0097f13e027.16\",\"latlng\":\"40.866656,-73.923711\",\"label\":\"Boat Medallion\"},\"id1436081401719\":{\"guid\":\"5174cf82814648539e06bf55f3fb7b2a.16\",\"latlng\":\"40.869955,-73.917582\",\"label\":\"Bruce's Garden\"},\"id1436081439355\":{\"guid\":\"b9d690fa1a9a430fbf61ff40310892b2.16\",\"latlng\":\"40.875367,-73.909051\",\"label\":\"Carolina Baptist Church\"},\"id1436083315745\":{\"guid\":\"29ef421b4da9426f8a868129c0dbc8e3.16\",\"latlng\":\"40.866979,-73.922238\",\"label\":\"Castle Black Beehive\"},\"id1436081460351\":{\"guid\":\"51294cc16211439291f9fbe95bc922f6.16\",\"latlng\":\"40.868301,-73.918366\",\"label\":\"Castle Black Lion\"},\"id1436081536916\":{\"guid\":\"f27206297cc045c7871e3bbbf4447108.16\",\"latlng\":\"40.868246,-73.92018\",\"label\":\"Church of Good Shepherd\"},\"id1436081555126\":{\"guid\":\"f547f7f594f34f0db48b01a701cd552d.16\",\"latlng\":\"40.863069,-73.919757\",\"label\":\"Church of Saint Jude\"},\"id1440851892601\":{\"guid\":\"3c78d65a41024ca999a0f7b4c1dc5f0f.16\",\"latlng\":\"40.86405,-73.925274\",\"label\":\"Cloud City Mural\"},\"id1436081578516\":{\"guid\":\"1bb87d6614e647289bf6ebb53e9505ff.16\",\"latlng\":\"40.86902,-73.916993\",\"label\":\"College\"},\"id1436083293069\":{\"guid\":\"8499cad992434f7c9373d6e02220de56.16\",\"latlng\":\"40.873607,-73.918067\",\"label\":\"Columbia Boathouse\"},\"id1436081592358\":{\"guid\":\"d3b8c29677aa4017b332d7859dea9da2.16\",\"latlng\":\"40.872244,-73.916094\",\"label\":\"Columbia Stadium Gates\"},\"id1436081606034\":{\"guid\":\"ce6663098aad44639d5be272c385115d.16\",\"latlng\":\"40.86621,-73.918347\",\"label\":\"Cone Mural\"},\"id1436081619761\":{\"guid\":\"c8c1d62cd4b94f82b71e1e403f3c29a3.16\",\"latlng\":\"40.86857,-73.921463\",\"label\":\"Cooper St Mural\"},\"id1436083285538\":{\"guid\":\"6c4b409141774deb8b6aaea3e9afcec8.16\",\"latlng\":\"40.873866,-73.917486\",\"label\":\"Dick Savitt Tennis Center\"},\"id1436081636248\":{\"guid\":\"9f84864f5c4f48c399b3bc752a33c3d4.16\",\"latlng\":\"40.864674,-73.919485\",\"label\":\"Dig This Mural\"},\"id1436081649236\":{\"guid\":\"be5d7e2dce184f3681e4bbcc44b3baed.16\",\"latlng\":\"40.874053,-73.909239\",\"label\":\"Duarte Statue\"},\"id1436081662827\":{\"guid\":\"c7adbe65efd445f99e9a282ba19a7733.12\",\"latlng\":\"40.867262,-73.923\",\"label\":\"Dyckman Farmhouse Museum\"},\"id1440854666328\":{\"guid\":\"747082f4897a4d60a886a8755fb45cf1.16\",\"latlng\":\"40.860579,-73.925597\",\"label\":\"Dyckman Street Station\"},\"id1436081676502\":{\"guid\":\"b3b4838187df4e488c5f086386b97f4d.16\",\"latlng\":\"40.869418,-73.922118\",\"label\":\"Emerson Playground\"},\"id1436081690819\":{\"guid\":\"8731ad8ea53646218bd8fcabf19ac6b1.16\",\"latlng\":\"40.869893,-73.915561\",\"label\":\"Faces on Face Mural\"},\"id1436081707204\":{\"guid\":\"e96576dae3514070b03a74ecaa65f149.16\",\"latlng\":\"40.869423,-73.915564\",\"label\":\"Father Time\"},\"id1436083296708\":{\"guid\":\"0467135003ba4df690681ca5583c09ad.16\",\"latlng\":\"40.872602,-73.921309\",\"label\":\"Forest Restoration Sign\"},\"id1440853156288\":{\"guid\":\"241253aaff234a86819a00be65694128.16\",\"latlng\":\"40.865803,-73.929862\",\"label\":\"Fort Tryon Park\"},\"id1440852378084\":{\"guid\":\"facc926858ed4c38978b02a181c30ee2.16\",\"latlng\":\"40.865323,-73.92818\",\"label\":\"Fort Tryon Park\"},\"id1440852343401\":{\"guid\":\"b918c319ed2747b39898044f8b40a19b.16\",\"latlng\":\"40.864974,-73.928845\",\"label\":\"Fort Tryon Play Area\"},\"id1436081869197\":{\"guid\":\"81df69e66bc14408afc6a11d0b34962b.16\",\"latlng\":\"40.867824,-73.930212\",\"label\":\"Fort Washington Park\"},\"id1436081849483\":{\"guid\":\"caecfb23810b4a8880ae610d3952835b.16\",\"latlng\":\"40.867053,-73.927125\",\"label\":\"Fountain on Seaman Ave\"},\"id1436083281515\":{\"guid\":\"eeb933102e964810963fb09751c68a01.16\",\"latlng\":\"40.867428,-73.921741\",\"label\":\"Four Eyed Lion\"},\"id1436081910674\":{\"guid\":\"ce0fc2b8921c41739489c86a7283937c.16\",\"latlng\":\"40.867344,-73.926723\",\"label\":\"Gargoyle Statue\"},\"id1444213639809\":{\"guid\":\"a5c68fd48652457a95e923785cba758a.16\",\"latlng\":\"40.864119,-73.928419\",\"label\":\"Golden Eagle Plates\"},\"id1436081943521\":{\"guid\":\"5e6b8e9d8bec4c02a498368943d7f9f4.16\",\"latlng\":\"40.871186,-73.913661\",\"label\":\"Grand Theft Auto Mural\"},\"id1436081958474\":{\"guid\":\"ce6d12aa1ea1481bbe24d481740bf898.16\",\"latlng\":\"40.876083,-73.923811\",\"label\":\"Henry Hudson Bridge\"},\"id1444213775035\":{\"guid\":\"4411ab8569b64136997d41ac52fe447e.16\",\"latlng\":\"40.85881,-73.923048\",\"label\":\"Highbridge Park\"},\"id1436083337147\":{\"guid\":\"6b56fc94b5c34f5db1a59979eb42fefe.16\",\"latlng\":\"40.866586,-73.92668\",\"label\":\"Holy Trinity Episcopal Church\"},\"id1436082079435\":{\"guid\":\"f6469ce1260444f9addd7a4b55af9efc.16\",\"latlng\":\"40.871049,-73.921674\",\"label\":\"Homer's Run \"},\"id1436082095213\":{\"guid\":\"fae015c9a9d74f7e82217fd255c046d0.16\",\"latlng\":\"40.869824,-73.916185\",\"label\":\"Hong Mural\"},\"id1436083289459\":{\"guid\":\"c9d56d10b2974ddf926628275b38bf0d.16\",\"latlng\":\"40.873832,-73.91774\",\"label\":\"Horace E. Daveport Class 1929\"},\"id1436083975973\":{\"guid\":\"41416be363544a24bc692a8af39e5e16.16\",\"latlng\":\"40.866271,-73.921721\",\"label\":\"Iglesia Adventista Del 7mo DIA\"},\"id1440852576416\":{\"guid\":\"b7e476d662a54175a224ad07c97deb1e.16\",\"latlng\":\"40.863943,-73.926389\",\"label\":\"Iglesia Cristiana Church\"},\"id1436082118628\":{\"guid\":\"f8cef2105ff34679b807c11cc85c2123.16\",\"latlng\":\"40.863672,-73.919204\",\"label\":\"In Memory\"},\"id1436082131612\":{\"guid\":\"12dda8dd3413487b9273e7e4ea412840.16\",\"latlng\":\"40.871782,-73.919893\",\"label\":\"Indian Road Playground \"},\"id1436083341701\":{\"guid\":\"ebffadcd874d4bdca184d94c48eb60d1.16\",\"latlng\":\"40.867349,-73.928038\",\"label\":\"Inwood Hill Park\"},\"id1436082150147\":{\"guid\":\"e979c340763c4c518034bbaf3b2dcc5c.16\",\"latlng\":\"40.867989,-73.927118\",\"label\":\"Inwood Hill Park\"},\"id1436082170060\":{\"guid\":\"2205e1b538ef43299672e6b9a8b530b4.16\",\"latlng\":\"40.873109,-73.91879\",\"label\":\"Inwood Hill Park\"},\"id1436082173539\":{\"guid\":\"bd681759fbf24e00864b29b9a25e4b1b.16\",\"latlng\":\"40.870084,-73.921009\",\"label\":\"Inwood Hill Park\"},\"id1440852727944\":{\"guid\":\"f6106d3da6c843e4ad987912d2824837.16\",\"latlng\":\"40.8701,-73.922285\",\"label\":\"Inwood Hill Park Tennis Courts\"},\"id1436082394221\":{\"guid\":\"0ab9319403864190875739b985cf7bb4.16\",\"latlng\":\"40.871286,-73.919098\",\"label\":\"Isham Gardens\"},\"id1436082305797\":{\"guid\":\"99c353b019e14485b98265cc90eb6a15.16\",\"latlng\":\"40.869168,-73.917479\",\"label\":\"Isham Park\"},\"id1436082312642\":{\"guid\":\"c87b343c267f467886b3392ffc765a3e.16\",\"latlng\":\"40.869238,-73.919735\",\"label\":\"Isham Park \"},\"id1436082320884\":{\"guid\":\"d9611f74347a4e5297eb145c79dc9a7e.16\",\"latlng\":\"40.870657,-73.919259\",\"label\":\"Isham Park Lower Entrance\"},\"id1436083276779\":{\"guid\":\"a158916097f24e30ae39d3be86b0afb0.16\",\"latlng\":\"40.868447,-73.919259\",\"label\":\"Isham Park South Broadway\"},\"id1444213968913\":{\"guid\":\"51f9db63f69b432c8633e4a83cca5315.16\",\"latlng\":\"40.863664,-73.927068\",\"label\":\"Jesus Saves Church\"},\"id1436083270678\":{\"guid\":\"e499e2503a734bb28506203941646bcc.16\",\"latlng\":\"40.874102,-73.917842\",\"label\":\"Kayak And Canoe Launch\"},\"id1440853062084\":{\"guid\":\"0ac8e52c9ec94fdeaff19c267c9b5d89.16\",\"latlng\":\"40.862571,-73.922754\",\"label\":\"Live Free Mural\"},\"id1436082340785\":{\"guid\":\"59ce41d2352544dc9e8dc2c882ea681a.16\",\"latlng\":\"40.86825,-73.925251\",\"label\":\"Lorraine Court\"},\"id1436082352510\":{\"guid\":\"90709bd04c344c9493e35449f13b09ee.16\",\"latlng\":\"40.866197,-73.927722\",\"label\":\"Mama Sushi\"},\"id1440853025993\":{\"guid\":\"9e84736ef7ef4a48b54c78fa80946105.16\",\"latlng\":\"40.862962,-73.920601\",\"label\":\"Monsignor Kett Playground\"},\"id1436084002922\":{\"guid\":\"3b3641bc8a4048cfb0e3500247010e1f.16\",\"latlng\":\"40.865964,-73.923133\",\"label\":\"Mt. Washington Presbyterian Church \"},\"id1436082366546\":{\"guid\":\"932591e81df444f18edce8f214a4d1f2.16\",\"latlng\":\"40.870903,-73.913964\",\"label\":\"MTA Sign\"},\"id1436082377213\":{\"guid\":\"bbf9e7a1f9a1405c8db3446b3f0c6201.16\",\"latlng\":\"40.872895,-73.917737\",\"label\":\"Muscota Marsh Park\"},\"id1436082386155\":{\"guid\":\"af3b9a7b95484f6fbfd16efc723006f7.16\",\"latlng\":\"40.871583,-73.914381\",\"label\":\"New millennium campbell sport recreation center\"},\"id1436083332768\":{\"guid\":\"4d8baee038504608926d1fe8313828c6.12\",\"latlng\":\"40.865895,-73.925905\",\"label\":\"New York Public Library - Inwood Branch\"},\"id1445475250885\":{\"guid\":\"d4bb0b0d23b0422d8eeca7c728c620c9.16\",\"latlng\":\"40.863582,-73.928065\",\"label\":\"Our Lady Queen of Martyrs Church\"},\"id1436082423153\":{\"guid\":\"2e171f152ac344ef877161e9a08d2426.16\",\"latlng\":\"40.866977,-73.928573\",\"label\":\"Payson Playground\"},\"id1436083346209\":{\"guid\":\"37d8300ec4b0490e854f7f35427f5779.16\",\"latlng\":\"40.867346,-73.929108\",\"label\":\"Payson Playground Cabin\"},\"id1436082472067\":{\"guid\":\"b566274121054256936c27e50fd6a72a.16\",\"latlng\":\"40.864197,-73.918496\",\"label\":\"Prissy\"},\"id1444214130865\":{\"guid\":\"7e2667d2bc384473aa15610c1bc5f99f.16\",\"latlng\":\"40.865749,-73.927685\",\"label\":\"R.I.N.G. Garden\"},\"id1436082490518\":{\"guid\":\"6cf14e93dc384c32910e2ac1a0104ffd.16\",\"latlng\":\"40.864891,-73.918955\",\"label\":\"Ree Graffiti at 10 Ave\"},\"id1436082503173\":{\"guid\":\"0366e5fd149149c3b18246dc4300d7db.16\",\"latlng\":\"40.865296,-73.91933\",\"label\":\"Roof BANDIT Graffiti \"},\"id1444214164253\":{\"guid\":\"1087ae74aea24e709c9d9ec00a1f9c6f.16\",\"latlng\":\"40.862592,-73.920577\",\"label\":\"Sealion Statue\"},\"id1436082516933\":{\"guid\":\"fa3fb421430447bea453753abf23b043.16\",\"latlng\":\"40.859522,-73.9224\",\"label\":\"Sherman Park\"},\"id1436083258880\":{\"guid\":\"492a06af29614ffbbe21265be5c0eab1.16\",\"latlng\":\"40.873512,-73.923694\",\"label\":\"Shorakkopoch\"},\"id1436082543620\":{\"guid\":\"aa81162d9bbd47d8a2c336e72edcf54e.16\",\"latlng\":\"40.86853,-73.920186\",\"label\":\"The Capuchin Franciscans Statue\"},\"id1436082561711\":{\"guid\":\"6d96eed6ff65426b8c7a4b1e16b2c7a7.11\",\"latlng\":\"40.866077,-73.929535\",\"label\":\"The Church of Jesus Christ\"},\"id1436083352123\":{\"guid\":\"e402f49e4d2949ab8175167796cbe470.12\",\"latlng\":\"40.867702,-73.922804\",\"label\":\"The Hessian Military Hut\"},\"id1436083323564\":{\"guid\":\"284c86a6cf474d6d8948167cc610f7ad.16\",\"latlng\":\"40.866723,-73.924374\",\"label\":\"The Stack\"},\"id1436082574221\":{\"guid\":\"88e0915d99754473a97c508c4e3e86d6.16\",\"latlng\":\"40.86541,-73.921922\",\"label\":\"Tree Shadow\"},\"id1440852888744\":{\"guid\":\"2e82e416016b42d0aaa6fd1bc55dd824.16\",\"latlng\":\"40.864958,-73.927906\",\"label\":\"Trying Public House Mural\"},\"id1436082586647\":{\"guid\":\"d1fbeb14a45e41569e672e983a67bcd4.16\",\"latlng\":\"40.869691,-73.915213\",\"label\":\"Turtles\"},\"id1436082646313\":{\"guid\":\"6d7004606e1c4ebaba44910a985506cc.12\",\"latlng\":\"40.877309,-73.906197\",\"label\":\"US Post Office, Bdwy, Bronx, NY\"},\"id1436082659356\":{\"guid\":\"383d266255fe46dbbd36f380efd842f7.12\",\"latlng\":\"40.866056,-73.922796\",\"label\":\"US Post Office, Vermilyea Ave, New York\"},\"id1436082677318\":{\"guid\":\"333e0f28e4d449489f3b4432da7c0b62.16\",\"latlng\":\"40.871378,-73.913484\",\"label\":\"V&S Mural the Sting is Real\"},\"id1436082692289\":{\"guid\":\"eea501d04d8242fcbb39edb5162c532a.16\",\"latlng\":\"40.865936,-73.918093\",\"label\":\"WataahWall\"},\"id1436082705656\":{\"guid\":\"dfb173e677524d80b3587ced97e1a6d6.16\",\"latlng\":\"40.874589,-73.910658\",\"label\":\"Welcome To The Bronx Mural\"},\"id1436082726199\":{\"guid\":\"bab976ede27643e98b86dc3eb190a5ac.16\",\"latlng\":\"40.87287,-73.911575\",\"label\":\"Yoshi Mural\"},\"id1436082748693\":{\"guid\":\"e4e38d1607044994ad409b3eb6bc7875.12\",\"latlng\":\"40.866657,-73.929252\",\"label\":\"Zipcar-270 Dyckman Street\"},\"id1436083360193\":{\"guid\":\"42550ab7815d4a7389a11c67ca134b2f.12\",\"latlng\":\"40.86785,-73.916895\",\"label\":\"Zipcar-3976 10th Avenue\"}}},\"id1436083228889\":{\"label\":\"To Get\",\"state\":0,\"bkmrk\":{\"id1436083254414\":{\"guid\":\"aaac81351f7d40dd8360a7793f0bbd57.16\",\"latlng\":\"40.875549,-73.927594\",\"label\":\"Drone Graffiti\"},\"id1436083263367\":{\"guid\":\"a48b0900a55d46049f3e60c694d0c548.16\",\"latlng\":\"40.874221,-73.920161\",\"label\":\"Inwood Hill Nature Center\"},\"id1436084327544\":{\"guid\":\"41bc9baf78684e95bffae5bc57e86566.16\",\"latlng\":\"40.865874,-73.919147\",\"label\":\"Fountain\"},\"id1436083301292\":{\"guid\":\"f47e4d743f004fa2b6c0b6a0d903d73f.16\",\"latlng\":\"40.86985,-73.924415\",\"label\":\"Inwood Hill Park Forest Restoration\"},\"id1445336527369\":{\"guid\":\"ce7565d3122c45108b85ce0c372b18f3.16\",\"latlng\":\"40.868688,-73.931721\",\"label\":\"Fort Washington Park\"}}},\"idOthers\":{\"label\":\"Others\",\"state\":1,\"bkmrk\":{}},\"id1446382806673\":{\"label\":\"Convex Hull\",\"state\":0,\"bkmrk\":{}},\"id1446382847766\":{\"label\":\"Folder\",\"state\":1,\"bkmrk\":{}}}}\n",
    "\n",
    "class BookmarkReader(object):\n",
    "    \"\"\"A BookmarkReader reads a bookmark JSON object copied from\n",
    "    BookmarkOpts in the Ingress Intel Map.\"\"\"\n",
    "    \n",
    "    def __init__(self,bookmarkJSON):\n",
    "        self.bookmarkJSON = bookmarkJSON\n",
    "        \n",
    "        portals = bookmarkJSON['portals']\n",
    "        for key, value in portals.items():\n",
    "            if value['label'] == '0A2198FE: Inwood Recharge':\n",
    "                self.portalsJSON = portals[key]['bkmrk']\n",
    "                break\n",
    "                \n",
    "        graph = nx.Graph()\n",
    "        node_positions = {}\n",
    "        node_labels = {}\n",
    "        for key, value in self.portalsJSON.items():\n",
    "            label = self.portalsJSON[key]['label']\n",
    "            latlng = self.portalsJSON[key]['latlng'].split(',')\n",
    "            latitude = float(latlng[0])\n",
    "            longitude = float(latlng[1])\n",
    "            graph.add_node(key, label = label, latitude = latitude, longitude = longitude)\n",
    "            node_positions[key] = (longitude, latitude * 2.0)\n",
    "            # node_positions[key] = (latitude,longitude)\n",
    "            node_labels[key] = label\n",
    "        self.graph = graph\n",
    "        self.node_positions = node_positions\n",
    "        self.node_labels = node_labels\n",
    "        \n",
    "        point_array = np.asarray([point for point in self.node_positions.values()])\n",
    "        label_array = np.asarray([label for label in self.node_labels.values()])\n",
    "        self.point_array = point_array\n",
    "        self.label_array = label_array\n",
    "    \n",
    "    def hull(self):\n",
    "        hull = ConvexHull(self.point_array)\n",
    "        \n",
    "        # hull.simplices is a list (in counter clockwise order) of edges in the Convex Hull,\n",
    "        # where each edge is a list of two items, namely, the indexes (within the supplied point array) of the edge's endpoints\n",
    "        \n",
    "        # reverse the dictionary to lookup by position\n",
    "        p = dict(zip(self.node_positions.values(),self.node_positions.keys()))\n",
    "        # print(p)\n",
    "        print(self.node_positions)\n",
    "        print(self.point_array)\n",
    "        \n",
    "        for simplex in hull.simplices:\n",
    "            self.graph.add_edge(p[self.point_array[simplex[0]]],p[self.point_array[simplex[1]]])\n",
    "            print(simplex)\n",
    "\n",
    "#    def rng(self):\n",
    "    \n",
    "    def draw(self):\n",
    "        nx.draw(\n",
    "            self.graph,\n",
    "            pos = self.node_positions,\n",
    "            labels = self.node_labels,\n",
    "            node_shape = '.'\n",
    "        )\n",
    "\n",
    "wright = BookmarkReader(bookmarkJSON)\n",
    "points = wright.point_array"
   ]
  },
  {
   "cell_type": "markdown",
   "metadata": {},
   "source": [
    "# Graph"
   ]
  },
  {
   "cell_type": "code",
   "execution_count": 5,
   "metadata": {
    "collapsed": false
   },
   "outputs": [],
   "source": [
    "G = nx.Graph()\n",
    "it = np.nditer(points, flags=['multi_index'])\n",
    "while not it.finished:\n",
    "    index = it.multi_index[0]\n",
    "    G.add_node(index,pos=(points[index,0],points[index,1]),label=index)\n",
    "    it.iternext()\n",
    "    it.iternext()\n",
    "pos = nx.get_node_attributes(G,'pos')"
   ]
  },
  {
   "cell_type": "markdown",
   "metadata": {},
   "source": [
    "# Hull"
   ]
  },
  {
   "cell_type": "code",
   "execution_count": 6,
   "metadata": {
    "collapsed": false
   },
   "outputs": [],
   "source": [
    "hull = ConvexHull(points)\n",
    "for simplex in hull.simplices:\n",
    "    G.add_edge(simplex[0],simplex[1])"
   ]
  },
  {
   "cell_type": "markdown",
   "metadata": {},
   "source": [
    "# RNG Edges"
   ]
  },
  {
   "cell_type": "code",
   "execution_count": 7,
   "metadata": {
    "collapsed": false
   },
   "outputs": [],
   "source": [
    "for i in G.nodes():\n",
    "    for j in [j for j in G.nodes() if j != i]:\n",
    "        closerNeighborFound = False\n",
    "        distij = distance.euclidean(pos[i],pos[j])\n",
    "        for k in [k for k in G.nodes() if k != i and k != j]:\n",
    "            distik = distance.euclidean(pos[i],pos[k])\n",
    "            distjk = distance.euclidean(pos[j],pos[k])\n",
    "            if distik < distij and distjk < distij:\n",
    "                closerNeighborFound = True\n",
    "                break\n",
    "        if not closerNeighborFound:\n",
    "            G.add_edge(i,j)"
   ]
  },
  {
   "cell_type": "code",
   "execution_count": 8,
   "metadata": {
    "collapsed": false
   },
   "outputs": [],
   "source": [
    "forced_edges = []\n",
    "nops = range(len(wright.point_array))\n",
    "for i in nops:\n",
    "    for j in [j for j in nops if j != i]:\n",
    "        closerNeighborFound = False\n",
    "        distij = distance.euclidean(wright.point_array[i],wright.point_array[j])\n",
    "        for k in [k for k in nops if k != i and k != j]:\n",
    "            distik = distance.euclidean(wright.point_array[i],wright.point_array[k])\n",
    "            distjk = distance.euclidean(wright.point_array[j],wright.point_array[k])\n",
    "            if distik < distij and distjk < distij:\n",
    "                closerNeighborFound = True\n",
    "                break\n",
    "        if not closerNeighborFound:\n",
    "            forced_edges.append([i,j])"
   ]
  },
  {
   "cell_type": "markdown",
   "metadata": {},
   "source": [
    "# Draw"
   ]
  },
  {
   "cell_type": "markdown",
   "metadata": {},
   "source": [
    "## Bokeh"
   ]
  },
  {
   "cell_type": "code",
   "execution_count": 9,
   "metadata": {
    "collapsed": false
   },
   "outputs": [],
   "source": [
    "tris=triangle.triangulate({\"vertices\":wright.point_array,\"segments\":forced_edges})"
   ]
  },
  {
   "cell_type": "code",
   "execution_count": 10,
   "metadata": {
    "collapsed": false
   },
   "outputs": [],
   "source": [
    "xs = []\n",
    "ys = []\n",
    "x0 = []\n",
    "x1 = []\n",
    "y0 = []\n",
    "y1 = []\n",
    "portal_names = []\n",
    "\n",
    "linkJSON = \"\"\"[\"\"\"\n",
    "\n",
    "for triangle in tris['triangles']:\n",
    "    # fields\n",
    "    xs.append([wright.point_array[triangle[0]][0],wright.point_array[triangle[1]][0],wright.point_array[triangle[2]][0]])\n",
    "    ys.append([wright.point_array[triangle[0]][1],wright.point_array[triangle[1]][1],wright.point_array[triangle[2]][1]])\n",
    "    \n",
    "    # links\n",
    "    x0.append(wright.point_array[triangle[0]][0])\n",
    "    x1.append(wright.point_array[triangle[1]][0])\n",
    "    y0.append(wright.point_array[triangle[0]][1])\n",
    "    y1.append(wright.point_array[triangle[1]][1])\n",
    "    \n",
    "    x0.append(wright.point_array[triangle[1]][0])\n",
    "    x1.append(wright.point_array[triangle[2]][0])\n",
    "    y0.append(wright.point_array[triangle[1]][1])\n",
    "    y1.append(wright.point_array[triangle[2]][1])\n",
    "    \n",
    "    x0.append(wright.point_array[triangle[2]][0])\n",
    "    x1.append(wright.point_array[triangle[0]][0])\n",
    "    y0.append(wright.point_array[triangle[2]][1])\n",
    "    y1.append(wright.point_array[triangle[0]][1])\n",
    "    \n",
    "    link_element = \"\"\"{\"type\":\"polyline\",\"latLngs\":[{\"lat\":\"\"\" + str(wright.point_array[triangle[0]][0]) + \"\"\",\"lng\":\"\"\" + str(wright.point_array[triangle[0]][1]) + \"\"\"},{\"lat\":\"\"\" + str(wright.point_array[triangle[1]][0]) + \"\"\",\"lng\":\"\"\" + str(wright.point_array[triangle[1]][1]) + \"\"\"}],\"color\":\"#a24ac3\"},\"\"\"\n",
    "    linkJSON += link_element\n",
    "    \n",
    "linkJSON +=\"\"\"]\"\"\"\n",
    "\n",
    "circlex = []\n",
    "circley = []\n",
    "for point in wright.point_array:\n",
    "    circlex.append(point[0])\n",
    "    circley.append(point[1])\n",
    "\n",
    "for portal_name in wright.label_array:\n",
    "    portal_names.append(portal_name)"
   ]
  },
  {
   "cell_type": "code",
   "execution_count": 11,
   "metadata": {
    "collapsed": false
   },
   "outputs": [
    {
     "data": {
      "text/html": [
       "\n",
       "\n",
       "    <div class=\"bk-root\">\n",
       "        <div class=\"plotdiv\" id=\"df4f89eb-d235-459a-91da-feda50f9a70e\"></div>\n",
       "    </div>\n",
       "<script type=\"text/javascript\">\n",
       "  \n",
       "  (function(global) {\n",
       "    function now() {\n",
       "      return new Date();\n",
       "    }\n",
       "  \n",
       "    var force = \"\";\n",
       "  \n",
       "    if (typeof (window._bokeh_onload_callbacks) === \"undefined\" || force !== \"\") {\n",
       "      window._bokeh_onload_callbacks = [];\n",
       "      window._bokeh_is_loading = undefined;\n",
       "    }\n",
       "  \n",
       "    function run_callbacks() {\n",
       "      window._bokeh_onload_callbacks.forEach(function(callback) { callback() });\n",
       "      delete window._bokeh_onload_callbacks\n",
       "      console.info(\"Bokeh: all callbacks have finished\");\n",
       "    }\n",
       "  \n",
       "    function load_libs(js_urls, callback) {\n",
       "      window._bokeh_onload_callbacks.push(callback);\n",
       "      if (window._bokeh_is_loading > 0) {\n",
       "        console.log(\"Bokeh: BokehJS is being loaded, scheduling callback at\", now());\n",
       "        return null;\n",
       "      }\n",
       "      if (js_urls == null || js_urls.length === 0) {\n",
       "        run_callbacks();\n",
       "        return null;\n",
       "      }\n",
       "      console.log(\"Bokeh: BokehJS not loaded, scheduling load and callback at\", now());\n",
       "      window._bokeh_is_loading = js_urls.length;\n",
       "      for (var i = 0; i < js_urls.length; i++) {\n",
       "        var url = js_urls[i];\n",
       "        var s = document.createElement('script');\n",
       "        s.src = url;\n",
       "        s.async = false;\n",
       "        s.onreadystatechange = s.onload = function() {\n",
       "          window._bokeh_is_loading--;\n",
       "          if (window._bokeh_is_loading === 0) {\n",
       "            console.log(\"Bokeh: all BokehJS libraries loaded\");\n",
       "            run_callbacks()\n",
       "          }\n",
       "        };\n",
       "        s.onerror = function() {\n",
       "          console.warn(\"failed to load library \" + url);\n",
       "        };\n",
       "        console.log(\"Bokeh: injecting script tag for BokehJS library: \", url);\n",
       "        document.getElementsByTagName(\"head\")[0].appendChild(s);\n",
       "      }\n",
       "    };var element = document.getElementById(\"df4f89eb-d235-459a-91da-feda50f9a70e\");\n",
       "    if (element == null) {\n",
       "      console.log(\"Bokeh: ERROR: autoload.js configured with elementid 'df4f89eb-d235-459a-91da-feda50f9a70e' but no matching script tag was found. \")\n",
       "      return false;\n",
       "    }\n",
       "  \n",
       "    var js_urls = [];\n",
       "  \n",
       "    var inline_js = [\n",
       "      function(Bokeh) {\n",
       "        Bokeh.$(function() {\n",
       "            var docs_json = {\"973ffe83-152a-4c41-8273-5fb93706b54f\":{\"roots\":{\"references\":[{\"attributes\":{},\"id\":\"393be4cb-18f5-4e29-8ad6-8c210f7497bf\",\"type\":\"BasicTicker\"},{\"attributes\":{\"callback\":null},\"id\":\"3204321c-ab6e-4663-b27b-01b196231d15\",\"type\":\"DataRange1d\"},{\"attributes\":{\"plot\":{\"id\":\"9a70e7d5-9c29-4c67-9b39-374da25601ff\",\"subtype\":\"Figure\",\"type\":\"Plot\"}},\"id\":\"31c0a6f2-19b9-42c1-9d29-f5eaa5c041e4\",\"type\":\"RedoTool\"},{\"attributes\":{\"callback\":null,\"overlay\":{\"id\":\"88bbd1eb-7d8d-411e-8f9d-4a207cbc8bbb\",\"type\":\"PolyAnnotation\"},\"plot\":{\"id\":\"9a70e7d5-9c29-4c67-9b39-374da25601ff\",\"subtype\":\"Figure\",\"type\":\"Plot\"}},\"id\":\"c4cd0a20-8f49-40f1-9ddb-55121ce3f06d\",\"type\":\"LassoSelectTool\"},{\"attributes\":{\"plot\":{\"id\":\"9a70e7d5-9c29-4c67-9b39-374da25601ff\",\"subtype\":\"Figure\",\"type\":\"Plot\"}},\"id\":\"024e3fed-524a-46bb-964c-5fd4f26c2ae0\",\"type\":\"WheelZoomTool\"},{\"attributes\":{\"dimension\":1,\"plot\":{\"id\":\"9a70e7d5-9c29-4c67-9b39-374da25601ff\",\"subtype\":\"Figure\",\"type\":\"Plot\"},\"ticker\":{\"id\":\"393be4cb-18f5-4e29-8ad6-8c210f7497bf\",\"type\":\"BasicTicker\"}},\"id\":\"3f83af42-bfa6-4298-9009-1f794b876af5\",\"type\":\"Grid\"},{\"attributes\":{\"formatter\":{\"id\":\"87f28fbe-5b0d-4cb1-9974-5c2f2c404778\",\"type\":\"BasicTickFormatter\"},\"plot\":{\"id\":\"9a70e7d5-9c29-4c67-9b39-374da25601ff\",\"subtype\":\"Figure\",\"type\":\"Plot\"},\"ticker\":{\"id\":\"8ca0c066-1487-41ef-a8de-c8ec50939ce9\",\"type\":\"BasicTicker\"}},\"id\":\"d2ebb054-c274-4fb5-9a37-448015669950\",\"type\":\"LinearAxis\"},{\"attributes\":{\"callback\":null},\"id\":\"97ee3b72-d28e-4017-adce-5035a3d6aa31\",\"type\":\"DataRange1d\"},{\"attributes\":{\"callback\":null,\"column_names\":[\"y\",\"x\"],\"data\":{\"x\":[-73.927722,-73.914381,-73.925274,-73.928038,-73.916094,-73.915564,-73.924762,-73.91933,-73.906197,-73.919485,-73.913964,-73.918741,-73.927906,-73.919098,-73.918955,-73.928419,-73.925251,-73.922804,-73.909051,-73.918366,-73.922796,-73.918067,-73.927068,-73.926389,-73.917737,-73.927685,-73.929862,-73.919735,-73.921674,-73.911575,-73.922308,-73.921721,-73.909239,-73.920186,-73.925597,-73.92818,-73.924374,-73.926723,-73.919757,-73.917582,-73.923133,-73.917842,-73.925905,-73.921741,-73.921463,-73.921922,-73.920096,-73.928236,-73.927125,-73.921009,-73.920577,-73.917479,-73.922238,-73.91879,-73.922118,-73.916895,-73.918347,-73.916185,-73.92018,-73.923,-73.928573,-73.923711,-73.913661,-73.915213,-73.921309,-73.918982,-73.929108,-73.923694,-73.922754,-73.928065,-73.918093,-73.927118,-73.923811,-73.929535,-73.916993,-73.917486,-73.919893,-73.928845,-73.929394,-73.91774,-73.910658,-73.915268,-73.919259,-73.922285,-73.920601,-73.915561,-73.9224,-73.915052,-73.918496,-73.909914,-73.92668,-73.919259,-73.919204,-73.913484,-73.923048,-73.929252,-73.930212],\"y\":[81.732394,81.743166,81.7281,81.734698,81.744488,81.738846,81.732458,81.730592,81.754618,81.729348,81.741806,81.729256,81.729916,81.742572,81.729782,81.728238,81.7365,81.735404,81.750734,81.736602,81.732112,81.747214,81.727328,81.727886,81.74579,81.731498,81.731606,81.738476,81.742098,81.74574,81.736448,81.732542,81.748106,81.73706,81.721158,81.730646,81.733446,81.734688,81.726138,81.73991,81.731928,81.748204,81.73179,81.734856,81.73714,81.73082,81.724822,81.730998,81.734106,81.740168,81.725184,81.738336,81.733958,81.746218,81.738836,81.7357,81.73242,81.739648,81.736492,81.734524,81.733954,81.733312,81.742372,81.739382,81.745204,81.729422,81.734692,81.747024,81.725142,81.727164,81.731872,81.735978,81.752166,81.732154,81.73804,81.747732,81.743564,81.729948,81.729148,81.747664,81.749178,81.738562,81.741314,81.7402,81.725924,81.739786,81.719044,81.739882,81.728394,81.74892,81.733172,81.736894,81.727344,81.742756,81.71762,81.733314,81.735648]}},\"id\":\"67abaf6f-8eed-448a-94ff-a445bf25c191\",\"type\":\"ColumnDataSource\"},{\"attributes\":{\"plot\":{\"id\":\"9a70e7d5-9c29-4c67-9b39-374da25601ff\",\"subtype\":\"Figure\",\"type\":\"Plot\"}},\"id\":\"e315aa2b-a68b-444a-b239-305dd4c140a9\",\"type\":\"UndoTool\"},{\"attributes\":{\"bottom_units\":\"screen\",\"fill_alpha\":{\"value\":0.5},\"fill_color\":{\"value\":\"lightgrey\"},\"left_units\":\"screen\",\"level\":\"overlay\",\"line_alpha\":{\"value\":1.0},\"line_color\":{\"value\":\"black\"},\"line_dash\":[4,4],\"line_width\":{\"value\":2},\"plot\":null,\"render_mode\":\"css\",\"right_units\":\"screen\",\"top_units\":\"screen\"},\"id\":\"8acd0492-3e53-4c64-913c-72d940f4c513\",\"type\":\"BoxAnnotation\"},{\"attributes\":{\"level\":\"glyph\",\"plot\":{\"id\":\"9a70e7d5-9c29-4c67-9b39-374da25601ff\",\"subtype\":\"Figure\",\"type\":\"Plot\"},\"source\":{\"id\":\"014edd67-b19f-47b3-8c62-c9fbc3f469f2\",\"type\":\"ColumnDataSource\"},\"text\":{\"field\":\"labels\"},\"text_font_size\":{\"value\":\"8pt\"},\"x\":{\"field\":\"x\"},\"x_offset\":{\"value\":5},\"y\":{\"field\":\"y\"},\"y_offset\":{\"value\":5}},\"id\":\"317ad7d6-ca2b-4138-a451-94fc79fd0e40\",\"type\":\"LabelSet\"},{\"attributes\":{\"callback\":null,\"column_names\":[\"xs\",\"ys\"],\"data\":{\"xs\":[[-73.929394,-73.928419,-73.928845],[-73.928419,-73.929394,-73.928065],[-73.928845,-73.928419,-73.927906],[-73.929394,-73.928845,-73.929862],[-73.928419,-73.926389,-73.927906],[-73.927068,-73.928065,-73.925597],[-73.927685,-73.927906,-73.925905],[-73.927068,-73.928419,-73.928065],[-73.929394,-73.925597,-73.928065],[-73.928845,-73.927906,-73.92818],[-73.929862,-73.928236,-73.929535],[-73.929862,-73.928845,-73.928236],[-73.929535,-73.928236,-73.927722],[-73.929862,-73.929535,-73.930212],[-73.927685,-73.927722,-73.928236],[-73.927685,-73.92818,-73.927906],[-73.925905,-73.927722,-73.927685],[-73.927685,-73.928236,-73.92818],[-73.928845,-73.92818,-73.928236],[-73.929535,-73.927722,-73.929252],[-73.927068,-73.926389,-73.928419],[-73.926389,-73.927068,-73.925274],[-73.922754,-73.927068,-73.925597],[-73.927068,-73.922754,-73.925274],[-73.925274,-73.925905,-73.927906],[-73.9224,-73.922754,-73.925597],[-73.9224,-73.923048,-73.906197],[-73.920601,-73.925274,-73.922754],[-73.9224,-73.925597,-73.923048],[-73.921922,-73.925274,-73.920601],[-73.925905,-73.923133,-73.924762],[-73.925905,-73.925274,-73.923133],[-73.923711,-73.924762,-73.923133],[-73.927722,-73.925905,-73.92668],[-73.922796,-73.921922,-73.921721],[-73.921922,-73.922796,-73.923133],[-73.91933,-73.921721,-73.921922],[-73.923711,-73.923133,-73.922796],[-73.925274,-73.921922,-73.923133],[-73.92668,-73.925905,-73.924762],[-73.921741,-73.921721,-73.918347],[-73.925274,-73.927906,-73.926389],[-73.921721,-73.922238,-73.922796],[-73.927722,-73.927125,-73.928573],[-73.928573,-73.929252,-73.927722],[-73.928038,-73.928573,-73.927125],[-73.929252,-73.928573,-73.929108],[-73.926723,-73.92668,-73.924374],[-73.92668,-73.926723,-73.927125],[-73.92668,-73.924762,-73.924374],[-73.926723,-73.924374,-73.925251],[-73.92668,-73.927125,-73.927722],[-73.928038,-73.927125,-73.926723],[-73.927118,-73.930212,-73.929108],[-73.929108,-73.930212,-73.929252],[-73.928038,-73.929108,-73.928573],[-73.927118,-73.929108,-73.928038],[-73.923694,-73.930212,-73.927118],[-73.927118,-73.928038,-73.926723],[-73.925251,-73.922285,-73.927118],[-73.930212,-73.923694,-73.923811],[-73.926723,-73.925251,-73.927118],[-73.925251,-73.924374,-73.923],[-73.929252,-73.930212,-73.929535],[-73.923,-73.922804,-73.925251],[-73.923,-73.923711,-73.922238],[-73.922804,-73.923,-73.921741],[-73.925251,-73.922804,-73.922308],[-73.922804,-73.921741,-73.922308],[-73.921741,-73.923,-73.922238],[-73.921741,-73.922238,-73.921721],[-73.921463,-73.922308,-73.92018],[-73.923711,-73.922796,-73.922238],[-73.922308,-73.922118,-73.925251],[-73.922285,-73.923694,-73.927118],[-73.925251,-73.922118,-73.922285],[-73.921674,-73.922285,-73.921009],[-73.923694,-73.922285,-73.921674],[-73.921309,-73.921674,-73.919893],[-73.922285,-73.922118,-73.921009],[-73.921463,-73.919735,-73.922118],[-73.921674,-73.921309,-73.923694],[-73.922118,-73.922308,-73.921463],[-73.923811,-73.923694,-73.917842],[-73.92018,-73.922308,-73.921741],[-73.923711,-73.923,-73.924374],[-73.924762,-73.923711,-73.924374],[-73.91879,-73.923694,-73.921309],[-73.9224,-73.920096,-73.922754],[-73.919757,-73.920601,-73.920577],[-73.920577,-73.920601,-73.922754],[-73.920096,-73.920577,-73.922754],[-73.919757,-73.920577,-73.920096],[-73.919204,-73.919485,-73.920601],[-73.919204,-73.919757,-73.920096],[-73.918982,-73.919485,-73.918741],[-73.919204,-73.920601,-73.919757],[-73.920096,-73.918496,-73.919204],[-73.919485,-73.91933,-73.921922],[-73.919735,-73.920186,-73.919259],[-73.920186,-73.921463,-73.92018],[-73.919259,-73.920186,-73.92018],[-73.919735,-73.921009,-73.922118],[-73.92018,-73.921741,-73.918347],[-73.919485,-73.918955,-73.91933],[-73.918982,-73.918955,-73.919485],[-73.92018,-73.918366,-73.919259],[-73.91933,-73.918347,-73.921721],[-73.919735,-73.919259,-73.917479],[-73.919485,-73.919204,-73.918496],[-73.920186,-73.919735,-73.921463],[-73.918982,-73.918741,-73.918955],[-73.918741,-73.919485,-73.918496],[-73.918741,-73.918496,-73.918093],[-73.918955,-73.918741,-73.918093],[-73.918347,-73.918093,-73.916895],[-73.918347,-73.91933,-73.918093],[-73.915268,-73.916895,-73.918093],[-73.918347,-73.916895,-73.918366],[-73.918093,-73.918496,-73.915268],[-73.918347,-73.918366,-73.92018],[-73.918366,-73.916993,-73.917479],[-73.918366,-73.916895,-73.916993],[-73.916185,-73.917479,-73.916993],[-73.918366,-73.917479,-73.919259],[-73.915564,-73.915268,-73.915213],[-73.915268,-73.915564,-73.916993],[-73.915213,-73.915268,-73.915052],[-73.916185,-73.916993,-73.915564],[-73.916895,-73.915268,-73.916993],[-73.919735,-73.917479,-73.917582],[-73.918496,-73.909239,-73.915268],[-73.91933,-73.918955,-73.918093],[-73.9224,-73.918496,-73.920096],[-73.915213,-73.915561,-73.915564],[-73.919098,-73.921674,-73.919259],[-73.921009,-73.919735,-73.919259],[-73.921674,-73.919098,-73.919893],[-73.919259,-73.921674,-73.921009],[-73.916094,-73.919098,-73.917582],[-73.917582,-73.919098,-73.919259],[-73.919259,-73.919735,-73.917582],[-73.919893,-73.919098,-73.917737],[-73.917479,-73.916185,-73.917582],[-73.916094,-73.917737,-73.919098],[-73.91879,-73.918067,-73.917842],[-73.918067,-73.91879,-73.917737],[-73.917842,-73.918067,-73.91774],[-73.91879,-73.917842,-73.923694],[-73.918067,-73.917486,-73.91774],[-73.917486,-73.918067,-73.917737],[-73.916094,-73.917486,-73.917737],[-73.91774,-73.917486,-73.917842],[-73.91879,-73.919893,-73.917737],[-73.917842,-73.917486,-73.910658],[-73.916185,-73.914381,-73.917582],[-73.919893,-73.91879,-73.921309],[-73.914381,-73.915561,-73.913964],[-73.915561,-73.916185,-73.915564],[-73.913964,-73.915561,-73.915052],[-73.914381,-73.916094,-73.917582],[-73.913661,-73.913484,-73.914381],[-73.913964,-73.915268,-73.913661],[-73.913484,-73.913661,-73.911575],[-73.913661,-73.914381,-73.913964],[-73.915268,-73.913964,-73.915052],[-73.914381,-73.913484,-73.911575],[-73.911575,-73.910658,-73.917486],[-73.911575,-73.916094,-73.914381],[-73.910658,-73.911575,-73.909239],[-73.909051,-73.917842,-73.910658],[-73.909914,-73.909239,-73.909051],[-73.909239,-73.909914,-73.910658],[-73.923811,-73.909051,-73.906197],[-73.906197,-73.909051,-73.909239],[-73.9224,-73.909239,-73.918496],[-73.909914,-73.909051,-73.910658],[-73.911575,-73.913661,-73.909239],[-73.917486,-73.916094,-73.911575],[-73.909239,-73.913661,-73.915268],[-73.914381,-73.916185,-73.915561],[-73.915213,-73.915052,-73.915561],[-73.909051,-73.923811,-73.917842],[-73.9224,-73.906197,-73.909239],[-73.920601,-73.919485,-73.921922]],\"ys\":[[81.729148,81.728238,81.729948],[81.728238,81.729148,81.727164],[81.729948,81.728238,81.729916],[81.729148,81.729948,81.731606],[81.728238,81.727886,81.729916],[81.727328,81.727164,81.721158],[81.731498,81.729916,81.73179],[81.727328,81.728238,81.727164],[81.729148,81.721158,81.727164],[81.729948,81.729916,81.730646],[81.731606,81.730998,81.732154],[81.731606,81.729948,81.730998],[81.732154,81.730998,81.732394],[81.731606,81.732154,81.735648],[81.731498,81.732394,81.730998],[81.731498,81.730646,81.729916],[81.73179,81.732394,81.731498],[81.731498,81.730998,81.730646],[81.729948,81.730646,81.730998],[81.732154,81.732394,81.733314],[81.727328,81.727886,81.728238],[81.727886,81.727328,81.7281],[81.725142,81.727328,81.721158],[81.727328,81.725142,81.7281],[81.7281,81.73179,81.729916],[81.719044,81.725142,81.721158],[81.719044,81.71762,81.754618],[81.725924,81.7281,81.725142],[81.719044,81.721158,81.71762],[81.73082,81.7281,81.725924],[81.73179,81.731928,81.732458],[81.73179,81.7281,81.731928],[81.733312,81.732458,81.731928],[81.732394,81.73179,81.733172],[81.732112,81.73082,81.732542],[81.73082,81.732112,81.731928],[81.730592,81.732542,81.73082],[81.733312,81.731928,81.732112],[81.7281,81.73082,81.731928],[81.733172,81.73179,81.732458],[81.734856,81.732542,81.73242],[81.7281,81.729916,81.727886],[81.732542,81.733958,81.732112],[81.732394,81.734106,81.733954],[81.733954,81.733314,81.732394],[81.734698,81.733954,81.734106],[81.733314,81.733954,81.734692],[81.734688,81.733172,81.733446],[81.733172,81.734688,81.734106],[81.733172,81.732458,81.733446],[81.734688,81.733446,81.7365],[81.733172,81.734106,81.732394],[81.734698,81.734106,81.734688],[81.735978,81.735648,81.734692],[81.734692,81.735648,81.733314],[81.734698,81.734692,81.733954],[81.735978,81.734692,81.734698],[81.747024,81.735648,81.735978],[81.735978,81.734698,81.734688],[81.7365,81.7402,81.735978],[81.735648,81.747024,81.752166],[81.734688,81.7365,81.735978],[81.7365,81.733446,81.734524],[81.733314,81.735648,81.732154],[81.734524,81.735404,81.7365],[81.734524,81.733312,81.733958],[81.735404,81.734524,81.734856],[81.7365,81.735404,81.736448],[81.735404,81.734856,81.736448],[81.734856,81.734524,81.733958],[81.734856,81.733958,81.732542],[81.73714,81.736448,81.736492],[81.733312,81.732112,81.733958],[81.736448,81.738836,81.7365],[81.7402,81.747024,81.735978],[81.7365,81.738836,81.7402],[81.742098,81.7402,81.740168],[81.747024,81.7402,81.742098],[81.745204,81.742098,81.743564],[81.7402,81.738836,81.740168],[81.73714,81.738476,81.738836],[81.742098,81.745204,81.747024],[81.738836,81.736448,81.73714],[81.752166,81.747024,81.748204],[81.736492,81.736448,81.734856],[81.733312,81.734524,81.733446],[81.732458,81.733312,81.733446],[81.746218,81.747024,81.745204],[81.719044,81.724822,81.725142],[81.726138,81.725924,81.725184],[81.725184,81.725924,81.725142],[81.724822,81.725184,81.725142],[81.726138,81.725184,81.724822],[81.727344,81.729348,81.725924],[81.727344,81.726138,81.724822],[81.729422,81.729348,81.729256],[81.727344,81.725924,81.726138],[81.724822,81.728394,81.727344],[81.729348,81.730592,81.73082],[81.738476,81.73706,81.736894],[81.73706,81.73714,81.736492],[81.736894,81.73706,81.736492],[81.738476,81.740168,81.738836],[81.736492,81.734856,81.73242],[81.729348,81.729782,81.730592],[81.729422,81.729782,81.729348],[81.736492,81.736602,81.736894],[81.730592,81.73242,81.732542],[81.738476,81.736894,81.738336],[81.729348,81.727344,81.728394],[81.73706,81.738476,81.73714],[81.729422,81.729256,81.729782],[81.729256,81.729348,81.728394],[81.729256,81.728394,81.731872],[81.729782,81.729256,81.731872],[81.73242,81.731872,81.7357],[81.73242,81.730592,81.731872],[81.738562,81.7357,81.731872],[81.73242,81.7357,81.736602],[81.731872,81.728394,81.738562],[81.73242,81.736602,81.736492],[81.736602,81.73804,81.738336],[81.736602,81.7357,81.73804],[81.739648,81.738336,81.73804],[81.736602,81.738336,81.736894],[81.738846,81.738562,81.739382],[81.738562,81.738846,81.73804],[81.739382,81.738562,81.739882],[81.739648,81.73804,81.738846],[81.7357,81.738562,81.73804],[81.738476,81.738336,81.73991],[81.728394,81.748106,81.738562],[81.730592,81.729782,81.731872],[81.719044,81.728394,81.724822],[81.739382,81.739786,81.738846],[81.742572,81.742098,81.741314],[81.740168,81.738476,81.741314],[81.742098,81.742572,81.743564],[81.741314,81.742098,81.740168],[81.744488,81.742572,81.73991],[81.73991,81.742572,81.741314],[81.741314,81.738476,81.73991],[81.743564,81.742572,81.74579],[81.738336,81.739648,81.73991],[81.744488,81.74579,81.742572],[81.746218,81.747214,81.748204],[81.747214,81.746218,81.74579],[81.748204,81.747214,81.747664],[81.746218,81.748204,81.747024],[81.747214,81.747732,81.747664],[81.747732,81.747214,81.74579],[81.744488,81.747732,81.74579],[81.747664,81.747732,81.748204],[81.746218,81.743564,81.74579],[81.748204,81.747732,81.749178],[81.739648,81.743166,81.73991],[81.743564,81.746218,81.745204],[81.743166,81.739786,81.741806],[81.739786,81.739648,81.738846],[81.741806,81.739786,81.739882],[81.743166,81.744488,81.73991],[81.742372,81.742756,81.743166],[81.741806,81.738562,81.742372],[81.742756,81.742372,81.74574],[81.742372,81.743166,81.741806],[81.738562,81.741806,81.739882],[81.743166,81.742756,81.74574],[81.74574,81.749178,81.747732],[81.74574,81.744488,81.743166],[81.749178,81.74574,81.748106],[81.750734,81.748204,81.749178],[81.74892,81.748106,81.750734],[81.748106,81.74892,81.749178],[81.752166,81.750734,81.754618],[81.754618,81.750734,81.748106],[81.719044,81.748106,81.728394],[81.74892,81.750734,81.749178],[81.74574,81.742372,81.748106],[81.747732,81.744488,81.74574],[81.748106,81.742372,81.738562],[81.743166,81.739648,81.739786],[81.739382,81.739882,81.739786],[81.750734,81.752166,81.748204],[81.719044,81.754618,81.748106],[81.725924,81.729348,81.73082]]}},\"id\":\"e49fd752-47de-4dd1-8c64-ca581df30df2\",\"type\":\"ColumnDataSource\"},{\"attributes\":{\"plot\":{\"id\":\"9a70e7d5-9c29-4c67-9b39-374da25601ff\",\"subtype\":\"Figure\",\"type\":\"Plot\"},\"ticker\":{\"id\":\"8ca0c066-1487-41ef-a8de-c8ec50939ce9\",\"type\":\"BasicTicker\"}},\"id\":\"fc5ab01a-a2d6-4044-bbb3-781fee35e3ae\",\"type\":\"Grid\"},{\"attributes\":{\"fill_alpha\":{\"value\":0.5},\"fill_color\":{\"value\":\"navy\"},\"line_alpha\":{\"value\":0.5},\"line_color\":{\"value\":\"navy\"},\"size\":{\"units\":\"screen\",\"value\":10},\"x\":{\"field\":\"x\"},\"y\":{\"field\":\"y\"}},\"id\":\"cb862fbe-916e-4aaf-a2e9-affb9054d236\",\"type\":\"Circle\"},{\"attributes\":{\"callback\":null,\"overlay\":{\"id\":\"8acd0492-3e53-4c64-913c-72d940f4c513\",\"type\":\"BoxAnnotation\"},\"plot\":{\"id\":\"9a70e7d5-9c29-4c67-9b39-374da25601ff\",\"subtype\":\"Figure\",\"type\":\"Plot\"},\"renderers\":[{\"id\":\"a1e00f8a-a0f9-4444-8b6a-3f4ca469d532\",\"type\":\"GlyphRenderer\"},{\"id\":\"cabf8a82-8438-45e6-bb8a-a6e7dca9ce12\",\"type\":\"GlyphRenderer\"},{\"id\":\"38e32388-31b0-47b8-9db9-c5df8628a528\",\"type\":\"GlyphRenderer\"}]},\"id\":\"ce5c9bba-41ab-4920-9531-33364bd4fb80\",\"type\":\"BoxSelectTool\"},{\"attributes\":{\"callback\":null,\"column_names\":[\"labels\",\"x\",\"y\"],\"data\":{\"labels\":[\"Mama Sushi\",\"New millennium campbell sport recreation center\",\"Cloud City Mural\",\"Inwood Hill Park\",\"Columbia Stadium Gates\",\"Father Time\",\"Academy Street Art\",\"Roof BANDIT Graffiti \",\"US Post Office, Bdwy, Bronx, NY\",\"Dig This Mural\",\"MTA Sign\",\"207 St. Station\",\"Trying Public House Mural\",\"Isham Gardens\",\"Ree Graffiti at 10 Ave\",\"Golden Eagle Plates\",\"Lorraine Court\",\"The Hessian Military Hut\",\"Carolina Baptist Church\",\"Castle Black Lion\",\"US Post Office, Vermilyea Ave, New York\",\"Columbia Boathouse\",\"Jesus Saves Church\",\"Iglesia Cristiana Church\",\"Muscota Marsh Park\",\"R.I.N.G. Garden\",\"Fort Tryon Park\",\"Isham Park \",\"Homer's Run \",\"Yoshi Mural\",\"Alexander's Garden\",\"Iglesia Adventista Del 7mo DIA\",\"Duarte Statue\",\"The Capuchin Franciscans Statue\",\"Dyckman Street Station\",\"Fort Tryon Park\",\"The Stack\",\"Gargoyle Statue\",\"Church of Saint Jude\",\"Bruce's Garden\",\"Mt. Washington Presbyterian Church \",\"Kayak And Canoe Launch\",\"New York Public Library - Inwood Branch\",\"Four Eyed Lion\",\"Cooper St Mural\",\"Tree Shadow\",\"204th Graffiti\",\"Anne Loftus Playground\",\"Fountain on Seaman Ave\",\"Inwood Hill Park\",\"Sealion Statue\",\"Isham Park\",\"Castle Black Beehive\",\"Inwood Hill Park\",\"Emerson Playground\",\"Zipcar-3976 10th Avenue\",\"Cone Mural\",\"Hong Mural\",\"Church of Good Shepherd\",\"Dyckman Farmhouse Museum\",\"Payson Playground\",\"Boat Medallion\",\"Grand Theft Auto Mural\",\"Turtles\",\"Forest Restoration Sign\",\"Barber \",\"Payson Playground Cabin\",\"Shorakkopoch\",\"Live Free Mural\",\"Our Lady Queen of Martyrs Church\",\"WataahWall\",\"Inwood Hill Park\",\"Henry Hudson Bridge\",\"The Church of Jesus Christ\",\"College\",\"Dick Savitt Tennis Center\",\"Indian Road Playground \",\"Fort Tryon Play Area\",\"Aardvark Sculpture\",\"Horace E. Daveport Class 1929\",\"Welcome To The Bronx Mural\",\"215 St Station\",\"Isham Park Lower Entrance\",\"Inwood Hill Park Tennis Courts\",\"Monsignor Kett Playground\",\"Faces on Face Mural\",\"Sherman Park\",\"215 Street Subway Station\",\"Prissy\",\"225 St Station Train\",\"Holy Trinity Episcopal Church\",\"Isham Park South Broadway\",\"In Memory\",\"V&S Mural the Sting is Real\",\"Highbridge Park\",\"Zipcar-270 Dyckman Street\",\"Fort Washington Park\"],\"x\":[-73.927722,-73.914381,-73.925274,-73.928038,-73.916094,-73.915564,-73.924762,-73.91933,-73.906197,-73.919485,-73.913964,-73.918741,-73.927906,-73.919098,-73.918955,-73.928419,-73.925251,-73.922804,-73.909051,-73.918366,-73.922796,-73.918067,-73.927068,-73.926389,-73.917737,-73.927685,-73.929862,-73.919735,-73.921674,-73.911575,-73.922308,-73.921721,-73.909239,-73.920186,-73.925597,-73.92818,-73.924374,-73.926723,-73.919757,-73.917582,-73.923133,-73.917842,-73.925905,-73.921741,-73.921463,-73.921922,-73.920096,-73.928236,-73.927125,-73.921009,-73.920577,-73.917479,-73.922238,-73.91879,-73.922118,-73.916895,-73.918347,-73.916185,-73.92018,-73.923,-73.928573,-73.923711,-73.913661,-73.915213,-73.921309,-73.918982,-73.929108,-73.923694,-73.922754,-73.928065,-73.918093,-73.927118,-73.923811,-73.929535,-73.916993,-73.917486,-73.919893,-73.928845,-73.929394,-73.91774,-73.910658,-73.915268,-73.919259,-73.922285,-73.920601,-73.915561,-73.9224,-73.915052,-73.918496,-73.909914,-73.92668,-73.919259,-73.919204,-73.913484,-73.923048,-73.929252,-73.930212],\"y\":[81.732394,81.743166,81.7281,81.734698,81.744488,81.738846,81.732458,81.730592,81.754618,81.729348,81.741806,81.729256,81.729916,81.742572,81.729782,81.728238,81.7365,81.735404,81.750734,81.736602,81.732112,81.747214,81.727328,81.727886,81.74579,81.731498,81.731606,81.738476,81.742098,81.74574,81.736448,81.732542,81.748106,81.73706,81.721158,81.730646,81.733446,81.734688,81.726138,81.73991,81.731928,81.748204,81.73179,81.734856,81.73714,81.73082,81.724822,81.730998,81.734106,81.740168,81.725184,81.738336,81.733958,81.746218,81.738836,81.7357,81.73242,81.739648,81.736492,81.734524,81.733954,81.733312,81.742372,81.739382,81.745204,81.729422,81.734692,81.747024,81.725142,81.727164,81.731872,81.735978,81.752166,81.732154,81.73804,81.747732,81.743564,81.729948,81.729148,81.747664,81.749178,81.738562,81.741314,81.7402,81.725924,81.739786,81.719044,81.739882,81.728394,81.74892,81.733172,81.736894,81.727344,81.742756,81.71762,81.733314,81.735648]}},\"id\":\"014edd67-b19f-47b3-8c62-c9fbc3f469f2\",\"type\":\"ColumnDataSource\"},{\"attributes\":{\"fill_alpha\":{\"value\":0.5},\"fill_color\":{\"value\":\"lightgrey\"},\"level\":\"overlay\",\"line_alpha\":{\"value\":1.0},\"line_color\":{\"value\":\"black\"},\"line_dash\":[4,4],\"line_width\":{\"value\":2},\"plot\":null,\"xs_units\":\"screen\",\"ys_units\":\"screen\"},\"id\":\"88bbd1eb-7d8d-411e-8f9d-4a207cbc8bbb\",\"type\":\"PolyAnnotation\"},{\"attributes\":{},\"id\":\"87f28fbe-5b0d-4cb1-9974-5c2f2c404778\",\"type\":\"BasicTickFormatter\"},{\"attributes\":{\"fill_alpha\":{\"value\":0.1},\"fill_color\":{\"value\":\"#1f77b4\"},\"line_alpha\":{\"value\":0.1},\"line_color\":{\"value\":\"#1f77b4\"},\"xs\":{\"field\":\"xs\"},\"ys\":{\"field\":\"ys\"}},\"id\":\"45dacbb4-4614-48d0-a278-9ef7b6c89b2c\",\"type\":\"Patches\"},{\"attributes\":{\"data_source\":{\"id\":\"e49fd752-47de-4dd1-8c64-ca581df30df2\",\"type\":\"ColumnDataSource\"},\"glyph\":{\"id\":\"6ad91680-eb3e-46d7-8cd7-2a37225bfb33\",\"type\":\"Patches\"},\"hover_glyph\":null,\"nonselection_glyph\":{\"id\":\"45dacbb4-4614-48d0-a278-9ef7b6c89b2c\",\"type\":\"Patches\"},\"selection_glyph\":null},\"id\":\"a1e00f8a-a0f9-4444-8b6a-3f4ca469d532\",\"type\":\"GlyphRenderer\"},{\"attributes\":{\"fill_color\":{\"value\":\"#A6FFA6\"},\"line_color\":{\"value\":\"#A6FFA6\"},\"xs\":{\"field\":\"xs\"},\"ys\":{\"field\":\"ys\"}},\"id\":\"6ad91680-eb3e-46d7-8cd7-2a37225bfb33\",\"type\":\"Patches\"},{\"attributes\":{\"below\":[{\"id\":\"d2ebb054-c274-4fb5-9a37-448015669950\",\"type\":\"LinearAxis\"}],\"left\":[{\"id\":\"d10103ce-dd6a-42ea-978e-2d0bcaf120a3\",\"type\":\"LinearAxis\"}],\"plot_height\":1000,\"plot_width\":900,\"renderers\":[{\"id\":\"d2ebb054-c274-4fb5-9a37-448015669950\",\"type\":\"LinearAxis\"},{\"id\":\"fc5ab01a-a2d6-4044-bbb3-781fee35e3ae\",\"type\":\"Grid\"},{\"id\":\"d10103ce-dd6a-42ea-978e-2d0bcaf120a3\",\"type\":\"LinearAxis\"},{\"id\":\"3f83af42-bfa6-4298-9009-1f794b876af5\",\"type\":\"Grid\"},{\"id\":\"de352a8e-ed6f-4652-99b2-081a34c40fb5\",\"type\":\"BoxAnnotation\"},{\"id\":\"8acd0492-3e53-4c64-913c-72d940f4c513\",\"type\":\"BoxAnnotation\"},{\"id\":\"79a66787-5a1f-4036-a4ef-84ecf1f4aa84\",\"type\":\"PolyAnnotation\"},{\"id\":\"88bbd1eb-7d8d-411e-8f9d-4a207cbc8bbb\",\"type\":\"PolyAnnotation\"},{\"id\":\"a1e00f8a-a0f9-4444-8b6a-3f4ca469d532\",\"type\":\"GlyphRenderer\"},{\"id\":\"cabf8a82-8438-45e6-bb8a-a6e7dca9ce12\",\"type\":\"GlyphRenderer\"},{\"id\":\"38e32388-31b0-47b8-9db9-c5df8628a528\",\"type\":\"GlyphRenderer\"},{\"id\":\"317ad7d6-ca2b-4138-a451-94fc79fd0e40\",\"type\":\"LabelSet\"}],\"title\":{\"id\":\"a6a50e04-21bd-4f78-9426-81692c9cee64\",\"type\":\"Title\"},\"tool_events\":{\"id\":\"933fd493-38ea-4355-852c-11ba7e45edcf\",\"type\":\"ToolEvents\"},\"toolbar\":{\"id\":\"0f8a9782-2bec-425f-bb57-dd94eb5a764f\",\"type\":\"Toolbar\"},\"x_range\":{\"id\":\"97ee3b72-d28e-4017-adce-5035a3d6aa31\",\"type\":\"DataRange1d\"},\"y_range\":{\"id\":\"3204321c-ab6e-4663-b27b-01b196231d15\",\"type\":\"DataRange1d\"}},\"id\":\"9a70e7d5-9c29-4c67-9b39-374da25601ff\",\"subtype\":\"Figure\",\"type\":\"Plot\"},{\"attributes\":{\"overlay\":{\"id\":\"de352a8e-ed6f-4652-99b2-081a34c40fb5\",\"type\":\"BoxAnnotation\"},\"plot\":{\"id\":\"9a70e7d5-9c29-4c67-9b39-374da25601ff\",\"subtype\":\"Figure\",\"type\":\"Plot\"}},\"id\":\"5d0ffe62-28bb-484d-bfc3-fe89a5f8f9c9\",\"type\":\"BoxZoomTool\"},{\"attributes\":{\"fill_alpha\":{\"value\":0.1},\"fill_color\":{\"value\":\"#1f77b4\"},\"line_alpha\":{\"value\":0.1},\"line_color\":{\"value\":\"#1f77b4\"},\"size\":{\"units\":\"screen\",\"value\":10},\"x\":{\"field\":\"x\"},\"y\":{\"field\":\"y\"}},\"id\":\"a0943ccc-db09-4c0a-bfd7-94d7484ef3da\",\"type\":\"Circle\"},{\"attributes\":{\"plot\":{\"id\":\"9a70e7d5-9c29-4c67-9b39-374da25601ff\",\"subtype\":\"Figure\",\"type\":\"Plot\"}},\"id\":\"ff15447a-12a5-455f-84ee-5cfe7a28e2ee\",\"type\":\"SaveTool\"},{\"attributes\":{},\"id\":\"933fd493-38ea-4355-852c-11ba7e45edcf\",\"type\":\"ToolEvents\"},{\"attributes\":{\"active_drag\":\"auto\",\"active_scroll\":\"auto\",\"active_tap\":\"auto\",\"tools\":[{\"id\":\"90422e6a-298d-439f-9a91-83ef2980b04b\",\"type\":\"CrosshairTool\"},{\"id\":\"0025a76a-2ec4-4bde-9b8b-f78ae26df752\",\"type\":\"PanTool\"},{\"id\":\"024e3fed-524a-46bb-964c-5fd4f26c2ae0\",\"type\":\"WheelZoomTool\"},{\"id\":\"5d0ffe62-28bb-484d-bfc3-fe89a5f8f9c9\",\"type\":\"BoxZoomTool\"},{\"id\":\"e315aa2b-a68b-444a-b239-305dd4c140a9\",\"type\":\"UndoTool\"},{\"id\":\"31c0a6f2-19b9-42c1-9d29-f5eaa5c041e4\",\"type\":\"RedoTool\"},{\"id\":\"a5caf582-4e80-4c71-aafd-6fb5585086e4\",\"type\":\"ResetTool\"},{\"id\":\"7294cd7f-9260-4dec-8305-e9f8d1d609f4\",\"type\":\"TapTool\"},{\"id\":\"ff15447a-12a5-455f-84ee-5cfe7a28e2ee\",\"type\":\"SaveTool\"},{\"id\":\"ce5c9bba-41ab-4920-9531-33364bd4fb80\",\"type\":\"BoxSelectTool\"},{\"id\":\"9139d167-e2bc-46b1-bb65-b844d86d6277\",\"type\":\"PolySelectTool\"},{\"id\":\"c4cd0a20-8f49-40f1-9ddb-55121ce3f06d\",\"type\":\"LassoSelectTool\"}]},\"id\":\"0f8a9782-2bec-425f-bb57-dd94eb5a764f\",\"type\":\"Toolbar\"},{\"attributes\":{\"formatter\":{\"id\":\"ec615ebc-4c4f-4c5e-9209-cd7d7e3b3aa6\",\"type\":\"BasicTickFormatter\"},\"plot\":{\"id\":\"9a70e7d5-9c29-4c67-9b39-374da25601ff\",\"subtype\":\"Figure\",\"type\":\"Plot\"},\"ticker\":{\"id\":\"393be4cb-18f5-4e29-8ad6-8c210f7497bf\",\"type\":\"BasicTicker\"}},\"id\":\"d10103ce-dd6a-42ea-978e-2d0bcaf120a3\",\"type\":\"LinearAxis\"},{\"attributes\":{\"bottom_units\":\"screen\",\"fill_alpha\":{\"value\":0.5},\"fill_color\":{\"value\":\"lightgrey\"},\"left_units\":\"screen\",\"level\":\"overlay\",\"line_alpha\":{\"value\":1.0},\"line_color\":{\"value\":\"black\"},\"line_dash\":[4,4],\"line_width\":{\"value\":2},\"plot\":null,\"render_mode\":\"css\",\"right_units\":\"screen\",\"top_units\":\"screen\"},\"id\":\"de352a8e-ed6f-4652-99b2-081a34c40fb5\",\"type\":\"BoxAnnotation\"},{\"attributes\":{\"plot\":null,\"text\":null},\"id\":\"a6a50e04-21bd-4f78-9426-81692c9cee64\",\"type\":\"Title\"},{\"attributes\":{\"data_source\":{\"id\":\"67abaf6f-8eed-448a-94ff-a445bf25c191\",\"type\":\"ColumnDataSource\"},\"glyph\":{\"id\":\"cb862fbe-916e-4aaf-a2e9-affb9054d236\",\"type\":\"Circle\"},\"hover_glyph\":null,\"nonselection_glyph\":{\"id\":\"a0943ccc-db09-4c0a-bfd7-94d7484ef3da\",\"type\":\"Circle\"},\"selection_glyph\":null},\"id\":\"38e32388-31b0-47b8-9db9-c5df8628a528\",\"type\":\"GlyphRenderer\"},{\"attributes\":{\"overlay\":{\"id\":\"79a66787-5a1f-4036-a4ef-84ecf1f4aa84\",\"type\":\"PolyAnnotation\"},\"plot\":{\"id\":\"9a70e7d5-9c29-4c67-9b39-374da25601ff\",\"subtype\":\"Figure\",\"type\":\"Plot\"}},\"id\":\"9139d167-e2bc-46b1-bb65-b844d86d6277\",\"type\":\"PolySelectTool\"},{\"attributes\":{\"line_color\":{\"value\":\"#F4A582\"},\"line_width\":{\"value\":3},\"x0\":{\"field\":\"x0\"},\"x1\":{\"field\":\"x1\"},\"y0\":{\"field\":\"y0\"},\"y1\":{\"field\":\"y1\"}},\"id\":\"562ea62a-1cf1-4a86-9518-500cfda78b85\",\"type\":\"Segment\"},{\"attributes\":{\"plot\":{\"id\":\"9a70e7d5-9c29-4c67-9b39-374da25601ff\",\"subtype\":\"Figure\",\"type\":\"Plot\"}},\"id\":\"a5caf582-4e80-4c71-aafd-6fb5585086e4\",\"type\":\"ResetTool\"},{\"attributes\":{\"plot\":{\"id\":\"9a70e7d5-9c29-4c67-9b39-374da25601ff\",\"subtype\":\"Figure\",\"type\":\"Plot\"}},\"id\":\"0025a76a-2ec4-4bde-9b8b-f78ae26df752\",\"type\":\"PanTool\"},{\"attributes\":{\"callback\":null,\"plot\":{\"id\":\"9a70e7d5-9c29-4c67-9b39-374da25601ff\",\"subtype\":\"Figure\",\"type\":\"Plot\"}},\"id\":\"7294cd7f-9260-4dec-8305-e9f8d1d609f4\",\"type\":\"TapTool\"},{\"attributes\":{},\"id\":\"ec615ebc-4c4f-4c5e-9209-cd7d7e3b3aa6\",\"type\":\"BasicTickFormatter\"},{\"attributes\":{\"callback\":null,\"column_names\":[\"y1\",\"y0\",\"x1\",\"x0\"],\"data\":{\"x0\":[-73.929394,-73.928419,-73.928845,-73.928419,-73.929394,-73.928065,-73.928845,-73.928419,-73.927906,-73.929394,-73.928845,-73.929862,-73.928419,-73.926389,-73.927906,-73.927068,-73.928065,-73.925597,-73.927685,-73.927906,-73.925905,-73.927068,-73.928419,-73.928065,-73.929394,-73.925597,-73.928065,-73.928845,-73.927906,-73.92818,-73.929862,-73.928236,-73.929535,-73.929862,-73.928845,-73.928236,-73.929535,-73.928236,-73.927722,-73.929862,-73.929535,-73.930212,-73.927685,-73.927722,-73.928236,-73.927685,-73.92818,-73.927906,-73.925905,-73.927722,-73.927685,-73.927685,-73.928236,-73.92818,-73.928845,-73.92818,-73.928236,-73.929535,-73.927722,-73.929252,-73.927068,-73.926389,-73.928419,-73.926389,-73.927068,-73.925274,-73.922754,-73.927068,-73.925597,-73.927068,-73.922754,-73.925274,-73.925274,-73.925905,-73.927906,-73.9224,-73.922754,-73.925597,-73.9224,-73.923048,-73.906197,-73.920601,-73.925274,-73.922754,-73.9224,-73.925597,-73.923048,-73.921922,-73.925274,-73.920601,-73.925905,-73.923133,-73.924762,-73.925905,-73.925274,-73.923133,-73.923711,-73.924762,-73.923133,-73.927722,-73.925905,-73.92668,-73.922796,-73.921922,-73.921721,-73.921922,-73.922796,-73.923133,-73.91933,-73.921721,-73.921922,-73.923711,-73.923133,-73.922796,-73.925274,-73.921922,-73.923133,-73.92668,-73.925905,-73.924762,-73.921741,-73.921721,-73.918347,-73.925274,-73.927906,-73.926389,-73.921721,-73.922238,-73.922796,-73.927722,-73.927125,-73.928573,-73.928573,-73.929252,-73.927722,-73.928038,-73.928573,-73.927125,-73.929252,-73.928573,-73.929108,-73.926723,-73.92668,-73.924374,-73.92668,-73.926723,-73.927125,-73.92668,-73.924762,-73.924374,-73.926723,-73.924374,-73.925251,-73.92668,-73.927125,-73.927722,-73.928038,-73.927125,-73.926723,-73.927118,-73.930212,-73.929108,-73.929108,-73.930212,-73.929252,-73.928038,-73.929108,-73.928573,-73.927118,-73.929108,-73.928038,-73.923694,-73.930212,-73.927118,-73.927118,-73.928038,-73.926723,-73.925251,-73.922285,-73.927118,-73.930212,-73.923694,-73.923811,-73.926723,-73.925251,-73.927118,-73.925251,-73.924374,-73.923,-73.929252,-73.930212,-73.929535,-73.923,-73.922804,-73.925251,-73.923,-73.923711,-73.922238,-73.922804,-73.923,-73.921741,-73.925251,-73.922804,-73.922308,-73.922804,-73.921741,-73.922308,-73.921741,-73.923,-73.922238,-73.921741,-73.922238,-73.921721,-73.921463,-73.922308,-73.92018,-73.923711,-73.922796,-73.922238,-73.922308,-73.922118,-73.925251,-73.922285,-73.923694,-73.927118,-73.925251,-73.922118,-73.922285,-73.921674,-73.922285,-73.921009,-73.923694,-73.922285,-73.921674,-73.921309,-73.921674,-73.919893,-73.922285,-73.922118,-73.921009,-73.921463,-73.919735,-73.922118,-73.921674,-73.921309,-73.923694,-73.922118,-73.922308,-73.921463,-73.923811,-73.923694,-73.917842,-73.92018,-73.922308,-73.921741,-73.923711,-73.923,-73.924374,-73.924762,-73.923711,-73.924374,-73.91879,-73.923694,-73.921309,-73.9224,-73.920096,-73.922754,-73.919757,-73.920601,-73.920577,-73.920577,-73.920601,-73.922754,-73.920096,-73.920577,-73.922754,-73.919757,-73.920577,-73.920096,-73.919204,-73.919485,-73.920601,-73.919204,-73.919757,-73.920096,-73.918982,-73.919485,-73.918741,-73.919204,-73.920601,-73.919757,-73.920096,-73.918496,-73.919204,-73.919485,-73.91933,-73.921922,-73.919735,-73.920186,-73.919259,-73.920186,-73.921463,-73.92018,-73.919259,-73.920186,-73.92018,-73.919735,-73.921009,-73.922118,-73.92018,-73.921741,-73.918347,-73.919485,-73.918955,-73.91933,-73.918982,-73.918955,-73.919485,-73.92018,-73.918366,-73.919259,-73.91933,-73.918347,-73.921721,-73.919735,-73.919259,-73.917479,-73.919485,-73.919204,-73.918496,-73.920186,-73.919735,-73.921463,-73.918982,-73.918741,-73.918955,-73.918741,-73.919485,-73.918496,-73.918741,-73.918496,-73.918093,-73.918955,-73.918741,-73.918093,-73.918347,-73.918093,-73.916895,-73.918347,-73.91933,-73.918093,-73.915268,-73.916895,-73.918093,-73.918347,-73.916895,-73.918366,-73.918093,-73.918496,-73.915268,-73.918347,-73.918366,-73.92018,-73.918366,-73.916993,-73.917479,-73.918366,-73.916895,-73.916993,-73.916185,-73.917479,-73.916993,-73.918366,-73.917479,-73.919259,-73.915564,-73.915268,-73.915213,-73.915268,-73.915564,-73.916993,-73.915213,-73.915268,-73.915052,-73.916185,-73.916993,-73.915564,-73.916895,-73.915268,-73.916993,-73.919735,-73.917479,-73.917582,-73.918496,-73.909239,-73.915268,-73.91933,-73.918955,-73.918093,-73.9224,-73.918496,-73.920096,-73.915213,-73.915561,-73.915564,-73.919098,-73.921674,-73.919259,-73.921009,-73.919735,-73.919259,-73.921674,-73.919098,-73.919893,-73.919259,-73.921674,-73.921009,-73.916094,-73.919098,-73.917582,-73.917582,-73.919098,-73.919259,-73.919259,-73.919735,-73.917582,-73.919893,-73.919098,-73.917737,-73.917479,-73.916185,-73.917582,-73.916094,-73.917737,-73.919098,-73.91879,-73.918067,-73.917842,-73.918067,-73.91879,-73.917737,-73.917842,-73.918067,-73.91774,-73.91879,-73.917842,-73.923694,-73.918067,-73.917486,-73.91774,-73.917486,-73.918067,-73.917737,-73.916094,-73.917486,-73.917737,-73.91774,-73.917486,-73.917842,-73.91879,-73.919893,-73.917737,-73.917842,-73.917486,-73.910658,-73.916185,-73.914381,-73.917582,-73.919893,-73.91879,-73.921309,-73.914381,-73.915561,-73.913964,-73.915561,-73.916185,-73.915564,-73.913964,-73.915561,-73.915052,-73.914381,-73.916094,-73.917582,-73.913661,-73.913484,-73.914381,-73.913964,-73.915268,-73.913661,-73.913484,-73.913661,-73.911575,-73.913661,-73.914381,-73.913964,-73.915268,-73.913964,-73.915052,-73.914381,-73.913484,-73.911575,-73.911575,-73.910658,-73.917486,-73.911575,-73.916094,-73.914381,-73.910658,-73.911575,-73.909239,-73.909051,-73.917842,-73.910658,-73.909914,-73.909239,-73.909051,-73.909239,-73.909914,-73.910658,-73.923811,-73.909051,-73.906197,-73.906197,-73.909051,-73.909239,-73.9224,-73.909239,-73.918496,-73.909914,-73.909051,-73.910658,-73.911575,-73.913661,-73.909239,-73.917486,-73.916094,-73.911575,-73.909239,-73.913661,-73.915268,-73.914381,-73.916185,-73.915561,-73.915213,-73.915052,-73.915561,-73.909051,-73.923811,-73.917842,-73.9224,-73.906197,-73.909239,-73.920601,-73.919485,-73.921922],\"x1\":[-73.928419,-73.928845,-73.929394,-73.929394,-73.928065,-73.928419,-73.928419,-73.927906,-73.928845,-73.928845,-73.929862,-73.929394,-73.926389,-73.927906,-73.928419,-73.928065,-73.925597,-73.927068,-73.927906,-73.925905,-73.927685,-73.928419,-73.928065,-73.927068,-73.925597,-73.928065,-73.929394,-73.927906,-73.92818,-73.928845,-73.928236,-73.929535,-73.929862,-73.928845,-73.928236,-73.929862,-73.928236,-73.927722,-73.929535,-73.929535,-73.930212,-73.929862,-73.927722,-73.928236,-73.927685,-73.92818,-73.927906,-73.927685,-73.927722,-73.927685,-73.925905,-73.928236,-73.92818,-73.927685,-73.92818,-73.928236,-73.928845,-73.927722,-73.929252,-73.929535,-73.926389,-73.928419,-73.927068,-73.927068,-73.925274,-73.926389,-73.927068,-73.925597,-73.922754,-73.922754,-73.925274,-73.927068,-73.925905,-73.927906,-73.925274,-73.922754,-73.925597,-73.9224,-73.923048,-73.906197,-73.9224,-73.925274,-73.922754,-73.920601,-73.925597,-73.923048,-73.9224,-73.925274,-73.920601,-73.921922,-73.923133,-73.924762,-73.925905,-73.925274,-73.923133,-73.925905,-73.924762,-73.923133,-73.923711,-73.925905,-73.92668,-73.927722,-73.921922,-73.921721,-73.922796,-73.922796,-73.923133,-73.921922,-73.921721,-73.921922,-73.91933,-73.923133,-73.922796,-73.923711,-73.921922,-73.923133,-73.925274,-73.925905,-73.924762,-73.92668,-73.921721,-73.918347,-73.921741,-73.927906,-73.926389,-73.925274,-73.922238,-73.922796,-73.921721,-73.927125,-73.928573,-73.927722,-73.929252,-73.927722,-73.928573,-73.928573,-73.927125,-73.928038,-73.928573,-73.929108,-73.929252,-73.92668,-73.924374,-73.926723,-73.926723,-73.927125,-73.92668,-73.924762,-73.924374,-73.92668,-73.924374,-73.925251,-73.926723,-73.927125,-73.927722,-73.92668,-73.927125,-73.926723,-73.928038,-73.930212,-73.929108,-73.927118,-73.930212,-73.929252,-73.929108,-73.929108,-73.928573,-73.928038,-73.929108,-73.928038,-73.927118,-73.930212,-73.927118,-73.923694,-73.928038,-73.926723,-73.927118,-73.922285,-73.927118,-73.925251,-73.923694,-73.923811,-73.930212,-73.925251,-73.927118,-73.926723,-73.924374,-73.923,-73.925251,-73.930212,-73.929535,-73.929252,-73.922804,-73.925251,-73.923,-73.923711,-73.922238,-73.923,-73.923,-73.921741,-73.922804,-73.922804,-73.922308,-73.925251,-73.921741,-73.922308,-73.922804,-73.923,-73.922238,-73.921741,-73.922238,-73.921721,-73.921741,-73.922308,-73.92018,-73.921463,-73.922796,-73.922238,-73.923711,-73.922118,-73.925251,-73.922308,-73.923694,-73.927118,-73.922285,-73.922118,-73.922285,-73.925251,-73.922285,-73.921009,-73.921674,-73.922285,-73.921674,-73.923694,-73.921674,-73.919893,-73.921309,-73.922118,-73.921009,-73.922285,-73.919735,-73.922118,-73.921463,-73.921309,-73.923694,-73.921674,-73.922308,-73.921463,-73.922118,-73.923694,-73.917842,-73.923811,-73.922308,-73.921741,-73.92018,-73.923,-73.924374,-73.923711,-73.923711,-73.924374,-73.924762,-73.923694,-73.921309,-73.91879,-73.920096,-73.922754,-73.9224,-73.920601,-73.920577,-73.919757,-73.920601,-73.922754,-73.920577,-73.920577,-73.922754,-73.920096,-73.920577,-73.920096,-73.919757,-73.919485,-73.920601,-73.919204,-73.919757,-73.920096,-73.919204,-73.919485,-73.918741,-73.918982,-73.920601,-73.919757,-73.919204,-73.918496,-73.919204,-73.920096,-73.91933,-73.921922,-73.919485,-73.920186,-73.919259,-73.919735,-73.921463,-73.92018,-73.920186,-73.920186,-73.92018,-73.919259,-73.921009,-73.922118,-73.919735,-73.921741,-73.918347,-73.92018,-73.918955,-73.91933,-73.919485,-73.918955,-73.919485,-73.918982,-73.918366,-73.919259,-73.92018,-73.918347,-73.921721,-73.91933,-73.919259,-73.917479,-73.919735,-73.919204,-73.918496,-73.919485,-73.919735,-73.921463,-73.920186,-73.918741,-73.918955,-73.918982,-73.919485,-73.918496,-73.918741,-73.918496,-73.918093,-73.918741,-73.918741,-73.918093,-73.918955,-73.918093,-73.916895,-73.918347,-73.91933,-73.918093,-73.918347,-73.916895,-73.918093,-73.915268,-73.916895,-73.918366,-73.918347,-73.918496,-73.915268,-73.918093,-73.918366,-73.92018,-73.918347,-73.916993,-73.917479,-73.918366,-73.916895,-73.916993,-73.918366,-73.917479,-73.916993,-73.916185,-73.917479,-73.919259,-73.918366,-73.915268,-73.915213,-73.915564,-73.915564,-73.916993,-73.915268,-73.915268,-73.915052,-73.915213,-73.916993,-73.915564,-73.916185,-73.915268,-73.916993,-73.916895,-73.917479,-73.917582,-73.919735,-73.909239,-73.915268,-73.918496,-73.918955,-73.918093,-73.91933,-73.918496,-73.920096,-73.9224,-73.915561,-73.915564,-73.915213,-73.921674,-73.919259,-73.919098,-73.919735,-73.919259,-73.921009,-73.919098,-73.919893,-73.921674,-73.921674,-73.921009,-73.919259,-73.919098,-73.917582,-73.916094,-73.919098,-73.919259,-73.917582,-73.919735,-73.917582,-73.919259,-73.919098,-73.917737,-73.919893,-73.916185,-73.917582,-73.917479,-73.917737,-73.919098,-73.916094,-73.918067,-73.917842,-73.91879,-73.91879,-73.917737,-73.918067,-73.918067,-73.91774,-73.917842,-73.917842,-73.923694,-73.91879,-73.917486,-73.91774,-73.918067,-73.918067,-73.917737,-73.917486,-73.917486,-73.917737,-73.916094,-73.917486,-73.917842,-73.91774,-73.919893,-73.917737,-73.91879,-73.917486,-73.910658,-73.917842,-73.914381,-73.917582,-73.916185,-73.91879,-73.921309,-73.919893,-73.915561,-73.913964,-73.914381,-73.916185,-73.915564,-73.915561,-73.915561,-73.915052,-73.913964,-73.916094,-73.917582,-73.914381,-73.913484,-73.914381,-73.913661,-73.915268,-73.913661,-73.913964,-73.913661,-73.911575,-73.913484,-73.914381,-73.913964,-73.913661,-73.913964,-73.915052,-73.915268,-73.913484,-73.911575,-73.914381,-73.910658,-73.917486,-73.911575,-73.916094,-73.914381,-73.911575,-73.911575,-73.909239,-73.910658,-73.917842,-73.910658,-73.909051,-73.909239,-73.909051,-73.909914,-73.909914,-73.910658,-73.909239,-73.909051,-73.906197,-73.923811,-73.909051,-73.909239,-73.906197,-73.909239,-73.918496,-73.9224,-73.909051,-73.910658,-73.909914,-73.913661,-73.909239,-73.911575,-73.916094,-73.911575,-73.917486,-73.913661,-73.915268,-73.909239,-73.916185,-73.915561,-73.914381,-73.915052,-73.915561,-73.915213,-73.923811,-73.917842,-73.909051,-73.906197,-73.909239,-73.9224,-73.919485,-73.921922,-73.920601],\"y0\":[81.729148,81.728238,81.729948,81.728238,81.729148,81.727164,81.729948,81.728238,81.729916,81.729148,81.729948,81.731606,81.728238,81.727886,81.729916,81.727328,81.727164,81.721158,81.731498,81.729916,81.73179,81.727328,81.728238,81.727164,81.729148,81.721158,81.727164,81.729948,81.729916,81.730646,81.731606,81.730998,81.732154,81.731606,81.729948,81.730998,81.732154,81.730998,81.732394,81.731606,81.732154,81.735648,81.731498,81.732394,81.730998,81.731498,81.730646,81.729916,81.73179,81.732394,81.731498,81.731498,81.730998,81.730646,81.729948,81.730646,81.730998,81.732154,81.732394,81.733314,81.727328,81.727886,81.728238,81.727886,81.727328,81.7281,81.725142,81.727328,81.721158,81.727328,81.725142,81.7281,81.7281,81.73179,81.729916,81.719044,81.725142,81.721158,81.719044,81.71762,81.754618,81.725924,81.7281,81.725142,81.719044,81.721158,81.71762,81.73082,81.7281,81.725924,81.73179,81.731928,81.732458,81.73179,81.7281,81.731928,81.733312,81.732458,81.731928,81.732394,81.73179,81.733172,81.732112,81.73082,81.732542,81.73082,81.732112,81.731928,81.730592,81.732542,81.73082,81.733312,81.731928,81.732112,81.7281,81.73082,81.731928,81.733172,81.73179,81.732458,81.734856,81.732542,81.73242,81.7281,81.729916,81.727886,81.732542,81.733958,81.732112,81.732394,81.734106,81.733954,81.733954,81.733314,81.732394,81.734698,81.733954,81.734106,81.733314,81.733954,81.734692,81.734688,81.733172,81.733446,81.733172,81.734688,81.734106,81.733172,81.732458,81.733446,81.734688,81.733446,81.7365,81.733172,81.734106,81.732394,81.734698,81.734106,81.734688,81.735978,81.735648,81.734692,81.734692,81.735648,81.733314,81.734698,81.734692,81.733954,81.735978,81.734692,81.734698,81.747024,81.735648,81.735978,81.735978,81.734698,81.734688,81.7365,81.7402,81.735978,81.735648,81.747024,81.752166,81.734688,81.7365,81.735978,81.7365,81.733446,81.734524,81.733314,81.735648,81.732154,81.734524,81.735404,81.7365,81.734524,81.733312,81.733958,81.735404,81.734524,81.734856,81.7365,81.735404,81.736448,81.735404,81.734856,81.736448,81.734856,81.734524,81.733958,81.734856,81.733958,81.732542,81.73714,81.736448,81.736492,81.733312,81.732112,81.733958,81.736448,81.738836,81.7365,81.7402,81.747024,81.735978,81.7365,81.738836,81.7402,81.742098,81.7402,81.740168,81.747024,81.7402,81.742098,81.745204,81.742098,81.743564,81.7402,81.738836,81.740168,81.73714,81.738476,81.738836,81.742098,81.745204,81.747024,81.738836,81.736448,81.73714,81.752166,81.747024,81.748204,81.736492,81.736448,81.734856,81.733312,81.734524,81.733446,81.732458,81.733312,81.733446,81.746218,81.747024,81.745204,81.719044,81.724822,81.725142,81.726138,81.725924,81.725184,81.725184,81.725924,81.725142,81.724822,81.725184,81.725142,81.726138,81.725184,81.724822,81.727344,81.729348,81.725924,81.727344,81.726138,81.724822,81.729422,81.729348,81.729256,81.727344,81.725924,81.726138,81.724822,81.728394,81.727344,81.729348,81.730592,81.73082,81.738476,81.73706,81.736894,81.73706,81.73714,81.736492,81.736894,81.73706,81.736492,81.738476,81.740168,81.738836,81.736492,81.734856,81.73242,81.729348,81.729782,81.730592,81.729422,81.729782,81.729348,81.736492,81.736602,81.736894,81.730592,81.73242,81.732542,81.738476,81.736894,81.738336,81.729348,81.727344,81.728394,81.73706,81.738476,81.73714,81.729422,81.729256,81.729782,81.729256,81.729348,81.728394,81.729256,81.728394,81.731872,81.729782,81.729256,81.731872,81.73242,81.731872,81.7357,81.73242,81.730592,81.731872,81.738562,81.7357,81.731872,81.73242,81.7357,81.736602,81.731872,81.728394,81.738562,81.73242,81.736602,81.736492,81.736602,81.73804,81.738336,81.736602,81.7357,81.73804,81.739648,81.738336,81.73804,81.736602,81.738336,81.736894,81.738846,81.738562,81.739382,81.738562,81.738846,81.73804,81.739382,81.738562,81.739882,81.739648,81.73804,81.738846,81.7357,81.738562,81.73804,81.738476,81.738336,81.73991,81.728394,81.748106,81.738562,81.730592,81.729782,81.731872,81.719044,81.728394,81.724822,81.739382,81.739786,81.738846,81.742572,81.742098,81.741314,81.740168,81.738476,81.741314,81.742098,81.742572,81.743564,81.741314,81.742098,81.740168,81.744488,81.742572,81.73991,81.73991,81.742572,81.741314,81.741314,81.738476,81.73991,81.743564,81.742572,81.74579,81.738336,81.739648,81.73991,81.744488,81.74579,81.742572,81.746218,81.747214,81.748204,81.747214,81.746218,81.74579,81.748204,81.747214,81.747664,81.746218,81.748204,81.747024,81.747214,81.747732,81.747664,81.747732,81.747214,81.74579,81.744488,81.747732,81.74579,81.747664,81.747732,81.748204,81.746218,81.743564,81.74579,81.748204,81.747732,81.749178,81.739648,81.743166,81.73991,81.743564,81.746218,81.745204,81.743166,81.739786,81.741806,81.739786,81.739648,81.738846,81.741806,81.739786,81.739882,81.743166,81.744488,81.73991,81.742372,81.742756,81.743166,81.741806,81.738562,81.742372,81.742756,81.742372,81.74574,81.742372,81.743166,81.741806,81.738562,81.741806,81.739882,81.743166,81.742756,81.74574,81.74574,81.749178,81.747732,81.74574,81.744488,81.743166,81.749178,81.74574,81.748106,81.750734,81.748204,81.749178,81.74892,81.748106,81.750734,81.748106,81.74892,81.749178,81.752166,81.750734,81.754618,81.754618,81.750734,81.748106,81.719044,81.748106,81.728394,81.74892,81.750734,81.749178,81.74574,81.742372,81.748106,81.747732,81.744488,81.74574,81.748106,81.742372,81.738562,81.743166,81.739648,81.739786,81.739382,81.739882,81.739786,81.750734,81.752166,81.748204,81.719044,81.754618,81.748106,81.725924,81.729348,81.73082],\"y1\":[81.728238,81.729948,81.729148,81.729148,81.727164,81.728238,81.728238,81.729916,81.729948,81.729948,81.731606,81.729148,81.727886,81.729916,81.728238,81.727164,81.721158,81.727328,81.729916,81.73179,81.731498,81.728238,81.727164,81.727328,81.721158,81.727164,81.729148,81.729916,81.730646,81.729948,81.730998,81.732154,81.731606,81.729948,81.730998,81.731606,81.730998,81.732394,81.732154,81.732154,81.735648,81.731606,81.732394,81.730998,81.731498,81.730646,81.729916,81.731498,81.732394,81.731498,81.73179,81.730998,81.730646,81.731498,81.730646,81.730998,81.729948,81.732394,81.733314,81.732154,81.727886,81.728238,81.727328,81.727328,81.7281,81.727886,81.727328,81.721158,81.725142,81.725142,81.7281,81.727328,81.73179,81.729916,81.7281,81.725142,81.721158,81.719044,81.71762,81.754618,81.719044,81.7281,81.725142,81.725924,81.721158,81.71762,81.719044,81.7281,81.725924,81.73082,81.731928,81.732458,81.73179,81.7281,81.731928,81.73179,81.732458,81.731928,81.733312,81.73179,81.733172,81.732394,81.73082,81.732542,81.732112,81.732112,81.731928,81.73082,81.732542,81.73082,81.730592,81.731928,81.732112,81.733312,81.73082,81.731928,81.7281,81.73179,81.732458,81.733172,81.732542,81.73242,81.734856,81.729916,81.727886,81.7281,81.733958,81.732112,81.732542,81.734106,81.733954,81.732394,81.733314,81.732394,81.733954,81.733954,81.734106,81.734698,81.733954,81.734692,81.733314,81.733172,81.733446,81.734688,81.734688,81.734106,81.733172,81.732458,81.733446,81.733172,81.733446,81.7365,81.734688,81.734106,81.732394,81.733172,81.734106,81.734688,81.734698,81.735648,81.734692,81.735978,81.735648,81.733314,81.734692,81.734692,81.733954,81.734698,81.734692,81.734698,81.735978,81.735648,81.735978,81.747024,81.734698,81.734688,81.735978,81.7402,81.735978,81.7365,81.747024,81.752166,81.735648,81.7365,81.735978,81.734688,81.733446,81.734524,81.7365,81.735648,81.732154,81.733314,81.735404,81.7365,81.734524,81.733312,81.733958,81.734524,81.734524,81.734856,81.735404,81.735404,81.736448,81.7365,81.734856,81.736448,81.735404,81.734524,81.733958,81.734856,81.733958,81.732542,81.734856,81.736448,81.736492,81.73714,81.732112,81.733958,81.733312,81.738836,81.7365,81.736448,81.747024,81.735978,81.7402,81.738836,81.7402,81.7365,81.7402,81.740168,81.742098,81.7402,81.742098,81.747024,81.742098,81.743564,81.745204,81.738836,81.740168,81.7402,81.738476,81.738836,81.73714,81.745204,81.747024,81.742098,81.736448,81.73714,81.738836,81.747024,81.748204,81.752166,81.736448,81.734856,81.736492,81.734524,81.733446,81.733312,81.733312,81.733446,81.732458,81.747024,81.745204,81.746218,81.724822,81.725142,81.719044,81.725924,81.725184,81.726138,81.725924,81.725142,81.725184,81.725184,81.725142,81.724822,81.725184,81.724822,81.726138,81.729348,81.725924,81.727344,81.726138,81.724822,81.727344,81.729348,81.729256,81.729422,81.725924,81.726138,81.727344,81.728394,81.727344,81.724822,81.730592,81.73082,81.729348,81.73706,81.736894,81.738476,81.73714,81.736492,81.73706,81.73706,81.736492,81.736894,81.740168,81.738836,81.738476,81.734856,81.73242,81.736492,81.729782,81.730592,81.729348,81.729782,81.729348,81.729422,81.736602,81.736894,81.736492,81.73242,81.732542,81.730592,81.736894,81.738336,81.738476,81.727344,81.728394,81.729348,81.738476,81.73714,81.73706,81.729256,81.729782,81.729422,81.729348,81.728394,81.729256,81.728394,81.731872,81.729256,81.729256,81.731872,81.729782,81.731872,81.7357,81.73242,81.730592,81.731872,81.73242,81.7357,81.731872,81.738562,81.7357,81.736602,81.73242,81.728394,81.738562,81.731872,81.736602,81.736492,81.73242,81.73804,81.738336,81.736602,81.7357,81.73804,81.736602,81.738336,81.73804,81.739648,81.738336,81.736894,81.736602,81.738562,81.739382,81.738846,81.738846,81.73804,81.738562,81.738562,81.739882,81.739382,81.73804,81.738846,81.739648,81.738562,81.73804,81.7357,81.738336,81.73991,81.738476,81.748106,81.738562,81.728394,81.729782,81.731872,81.730592,81.728394,81.724822,81.719044,81.739786,81.738846,81.739382,81.742098,81.741314,81.742572,81.738476,81.741314,81.740168,81.742572,81.743564,81.742098,81.742098,81.740168,81.741314,81.742572,81.73991,81.744488,81.742572,81.741314,81.73991,81.738476,81.73991,81.741314,81.742572,81.74579,81.743564,81.739648,81.73991,81.738336,81.74579,81.742572,81.744488,81.747214,81.748204,81.746218,81.746218,81.74579,81.747214,81.747214,81.747664,81.748204,81.748204,81.747024,81.746218,81.747732,81.747664,81.747214,81.747214,81.74579,81.747732,81.747732,81.74579,81.744488,81.747732,81.748204,81.747664,81.743564,81.74579,81.746218,81.747732,81.749178,81.748204,81.743166,81.73991,81.739648,81.746218,81.745204,81.743564,81.739786,81.741806,81.743166,81.739648,81.738846,81.739786,81.739786,81.739882,81.741806,81.744488,81.73991,81.743166,81.742756,81.743166,81.742372,81.738562,81.742372,81.741806,81.742372,81.74574,81.742756,81.743166,81.741806,81.742372,81.741806,81.739882,81.738562,81.742756,81.74574,81.743166,81.749178,81.747732,81.74574,81.744488,81.743166,81.74574,81.74574,81.748106,81.749178,81.748204,81.749178,81.750734,81.748106,81.750734,81.74892,81.74892,81.749178,81.748106,81.750734,81.754618,81.752166,81.750734,81.748106,81.754618,81.748106,81.728394,81.719044,81.750734,81.749178,81.74892,81.742372,81.748106,81.74574,81.744488,81.74574,81.747732,81.742372,81.738562,81.748106,81.739648,81.739786,81.743166,81.739882,81.739786,81.739382,81.752166,81.748204,81.750734,81.754618,81.748106,81.719044,81.729348,81.73082,81.725924]}},\"id\":\"2a3dcd21-2348-400c-bd98-f5925677e706\",\"type\":\"ColumnDataSource\"},{\"attributes\":{\"plot\":{\"id\":\"9a70e7d5-9c29-4c67-9b39-374da25601ff\",\"subtype\":\"Figure\",\"type\":\"Plot\"}},\"id\":\"90422e6a-298d-439f-9a91-83ef2980b04b\",\"type\":\"CrosshairTool\"},{\"attributes\":{\"data_source\":{\"id\":\"2a3dcd21-2348-400c-bd98-f5925677e706\",\"type\":\"ColumnDataSource\"},\"glyph\":{\"id\":\"562ea62a-1cf1-4a86-9518-500cfda78b85\",\"type\":\"Segment\"},\"hover_glyph\":null,\"nonselection_glyph\":{\"id\":\"5a02eaf8-4692-4a53-b5c9-ae3b847b2dc1\",\"type\":\"Segment\"},\"selection_glyph\":null},\"id\":\"cabf8a82-8438-45e6-bb8a-a6e7dca9ce12\",\"type\":\"GlyphRenderer\"},{\"attributes\":{\"fill_alpha\":{\"value\":0.5},\"fill_color\":{\"value\":\"lightgrey\"},\"level\":\"overlay\",\"line_alpha\":{\"value\":1.0},\"line_color\":{\"value\":\"black\"},\"line_dash\":[4,4],\"line_width\":{\"value\":2},\"plot\":null,\"xs_units\":\"screen\",\"ys_units\":\"screen\"},\"id\":\"79a66787-5a1f-4036-a4ef-84ecf1f4aa84\",\"type\":\"PolyAnnotation\"},{\"attributes\":{},\"id\":\"8ca0c066-1487-41ef-a8de-c8ec50939ce9\",\"type\":\"BasicTicker\"},{\"attributes\":{\"line_alpha\":{\"value\":0.1},\"line_color\":{\"value\":\"#1f77b4\"},\"line_width\":{\"value\":3},\"x0\":{\"field\":\"x0\"},\"x1\":{\"field\":\"x1\"},\"y0\":{\"field\":\"y0\"},\"y1\":{\"field\":\"y1\"}},\"id\":\"5a02eaf8-4692-4a53-b5c9-ae3b847b2dc1\",\"type\":\"Segment\"}],\"root_ids\":[\"9a70e7d5-9c29-4c67-9b39-374da25601ff\"]},\"title\":\"Bokeh Application\",\"version\":\"0.12.1\"}};\n",
       "            var render_items = [{\"docid\":\"973ffe83-152a-4c41-8273-5fb93706b54f\",\"elementid\":\"df4f89eb-d235-459a-91da-feda50f9a70e\",\"modelid\":\"9a70e7d5-9c29-4c67-9b39-374da25601ff\",\"notebook_comms_target\":\"a5e264c9-89ee-4bdc-bd62-14d633df7090\"}];\n",
       "            \n",
       "            Bokeh.embed.embed_items(docs_json, render_items);\n",
       "        });\n",
       "      },\n",
       "      function(Bokeh) {\n",
       "      }\n",
       "    ];\n",
       "  \n",
       "    function run_inline_js() {\n",
       "      for (var i = 0; i < inline_js.length; i++) {\n",
       "        inline_js[i](window.Bokeh);\n",
       "      }\n",
       "    }\n",
       "  \n",
       "    if (window._bokeh_is_loading === 0) {\n",
       "      console.log(\"Bokeh: BokehJS loaded, going straight to plotting\");\n",
       "      run_inline_js();\n",
       "    } else {\n",
       "      load_libs(js_urls, function() {\n",
       "        console.log(\"Bokeh: BokehJS plotting callback run at\", now());\n",
       "        run_inline_js();\n",
       "      });\n",
       "    }\n",
       "  }(this));\n",
       "</script>"
      ]
     },
     "metadata": {},
     "output_type": "display_data"
    },
    {
     "data": {
      "text/html": [
       "<p><code>&lt;Bokeh Notebook handle for <strong>In[11]</strong>&gt;</code></p>"
      ],
      "text/plain": [
       "<bokeh.io._CommsHandle at 0x119f49390>"
      ]
     },
     "execution_count": 11,
     "metadata": {},
     "output_type": "execute_result"
    }
   ],
   "source": [
    "TOOLS=\"crosshair,pan,wheel_zoom,box_zoom,undo,redo,reset,tap,save,box_select,poly_select,lasso_select\"\n",
    "p = figure(tools=TOOLS,plot_width = 900, plot_height = 1000)\n",
    "p.patches(xs = xs, ys = ys, color = '#A6FFA6')\n",
    "p.segment(x0=x0, y0=y0, x1=x1,\n",
    "            y1=y1, color=\"#F4A582\",\n",
    "            line_width=3)\n",
    "\n",
    "p.circle(circlex, circley, size=10, color=\"navy\", alpha=0.5)\n",
    "\n",
    "source = ColumnDataSource(data=dict(x=circlex,y=circley,labels=portal_names))\n",
    "\n",
    "labels = LabelSet(x='x',y='y',text='labels',level='glyph',x_offset=5,y_offset=5,source=source,render_mode='canvas',text_font_size = '8pt')\n",
    "\n",
    "p.add_layout(labels)\n",
    "\n",
    "show(p)"
   ]
  },
  {
   "cell_type": "markdown",
   "metadata": {},
   "source": [
    "## NetworkX"
   ]
  },
  {
   "cell_type": "code",
   "execution_count": null,
   "metadata": {
    "collapsed": false
   },
   "outputs": [],
   "source": [
    "triangle.plot.compare(plt,{\"vertices\":wright.point_array},tris)"
   ]
  },
  {
   "cell_type": "code",
   "execution_count": null,
   "metadata": {
    "collapsed": false
   },
   "outputs": [],
   "source": [
    "# networkx\n",
    "# nx.draw(G,pos)\n",
    "# nx.draw_networkx_labels(G,pos)"
   ]
  },
  {
   "cell_type": "markdown",
   "metadata": {},
   "source": [
    "# Region Enumeration\n",
    "1. Find a cycle basis, containing $c$ cycles\n",
    "1. iterate over the $2^{c}-1$ distinct, non-empty Eulerian subgraphs (do this by iterating over the powerset of the cycle basis and finding the symmetric difference of that powerset-element's elements.\n",
    "  1. check the subgraph for several conditions.    If these conditions are satisfied, we claim that the subgraph is a simply connected region.\n",
    "    1. Each vertex in the subgraph has degree 2\n",
    "    1. The edges of the complete graph on the vertices of the subgraph intersect only edges in the subgraph (and no other edges from the graph)"
   ]
  },
  {
   "cell_type": "code",
   "execution_count": null,
   "metadata": {
    "collapsed": false
   },
   "outputs": [],
   "source": [
    "def powerset(iterable):\n",
    "    \"\"\"\n",
    "    Enumerate all non-empty subsets of an iterable.\n",
    "    For example: powerset([1,2,3]) --> (1,) (2,) (3,) (1,2) (1,3) (2,3) (1,2,3)\n",
    "    \"\"\"\n",
    "    s = list(iterable)\n",
    "    return chain.from_iterable(combinations(s, r) for r in range(1,len(s)+1,1))\n",
    "\n",
    "def symmetric_difference_graph(cycle_tuple,graph):\n",
    "    \"\"\"\n",
    "    Given a tuple of lists of nodes, cycle_tuple, an element from the\n",
    "    powerset of the cycle basis of a given graph, G, where each list\n",
    "    in the given tuple represents a cycle of its contained nodes, return\n",
    "    the graph defined by the symmetric difference of the cycles\n",
    "    represented by the input tuple's lists.\n",
    "    \"\"\"\n",
    "    G = nx.Graph()\n",
    "    \n",
    "    for cycle in cycle_tuple:\n",
    "        cycle_length = len(cycle)\n",
    "        cycle_edges = [(cycle[idx],cycle[idx+1]) for idx in range(cycle_length-1)]\n",
    "        # Close the loop\n",
    "        cycle_edges.append((cycle[cycle_length-1],cycle[0]))\n",
    "        \n",
    "        for edge in cycle_edges:\n",
    "            i,j = edge\n",
    "            if G.has_edge(i,j):\n",
    "                G.remove_edge(i,j)\n",
    "            else:\n",
    "                G.add_edge(i,j)\n",
    "    \n",
    "    # position the nodes in the symmetric difference graph\n",
    "    nx.set_node_attributes(G,'pos',{node:(nx.get_node_attributes(graph,'pos'))[node] for node in nx.nodes(G)})\n",
    "    \n",
    "    return G\n",
    "\n",
    "# def union(cycle_tuple):\n",
    "\n",
    "def difference_graph_subgraph(graph,subgraph):\n",
    "    \"\"\"\n",
    "    (should probably be combined with symmetric_difference_graph function) return a subgraph of graph resulting from the removal of edges in cycle from graph\n",
    "    \"\"\"\n",
    "    \n",
    "    G = nx.Graph()\n",
    "    G.add_edges_from(graph.edges())\n",
    "    G.remove_edges_from(subgraph.edges())\n",
    "    H = nx.Graph()\n",
    "    H.add_edges_from(G.edges())\n",
    "    return H\n",
    "    \n",
    "\n",
    "class Point:\n",
    "    def __init__(self,x,y):\n",
    "        self.x = x\n",
    "        self.y = y\n",
    "\n",
    "def ccw(A,B,C):\n",
    "    return (C.y-A.y) * (B.x-A.x) > (B.y-A.y) * (C.x-A.x)\n",
    "\n",
    "# Return true if line segments AB and CD intersect\n",
    "def intersect(A,B,C,D):\n",
    "    return ccw(A,C,D) != ccw(B,C,D) and ccw(A,B,C) != ccw(A,B,D)\n",
    "\n",
    "def edge_intersection(edge1,edge2,graph):\n",
    "    if edge1[0] != edge2[0] and edge1[0] != edge2[1] and edge1[1] != edge2[0] and edge1[1] != edge2[1]:\n",
    "        pos = nx.get_node_attributes(graph,'pos')\n",
    "        A = Point(pos[edge1[0]][0],pos[edge1[0]][1])\n",
    "        B = Point(pos[edge1[1]][0],pos[edge1[1]][1])\n",
    "        C = Point(pos[edge2[0]][0],pos[edge2[0]][1])\n",
    "        D = Point(pos[edge2[1]][0],pos[edge2[1]][1])\n",
    "        return intersect(A,B,C,D)\n",
    "    return False\n",
    "\n",
    "def check_for_regionness(subgraph,graph):\n",
    "    \"\"\"\n",
    "    Given a subgraph and its containing graph (each of which has position data),\n",
    "    determine whether the subgraph encloses a single, simply connected region in\n",
    "    the current layout of the graph.\n",
    "    \"\"\"\n",
    "    # Is subgraph connected?\n",
    "    if nx.number_connected_components(subgraph) != 1:\n",
    "        return False\n",
    "    \n",
    "    # Does each node in subgraph have degree 2?\n",
    "    for node in subgraph.nodes():\n",
    "        if subgraph.degree(node) != 2:\n",
    "            return False\n",
    "    \n",
    "    # Does each edge in subgraph intersect only subgraph edges (and no other edges in graph)?\n",
    "    # This will fail for many non-convex regions, though\n",
    "    pos = nx.get_node_attributes(graph,'pos')\n",
    "    for subgraph_edge in combinations(subgraph.nodes(),2):\n",
    "        for graph_edge in (difference_graph_subgraph(graph,subgraph)).edges():\n",
    "            if edge_intersection(subgraph_edge,graph_edge,graph):\n",
    "                return False\n",
    "    return True\n",
    "\n",
    "\"\"\"\n",
    "for subset_cycle_basis in powerset(nx.cycle_basis(G)):\n",
    "    #print(\"TESTING:\",(symmetric_difference_graph(subset_cycle_basis,G)).edges())\n",
    "    if check_for_regionness(symmetric_difference_graph(subset_cycle_basis,G),G):\n",
    "        print(\"Yo got dat face:\",(symmetric_difference_graph(subset_cycle_basis,G)).edges())\n",
    "        print(subset_cycle_basis)\n",
    "\"\"\""
   ]
  },
  {
   "cell_type": "markdown",
   "metadata": {},
   "source": [
    "# Next Steps\n",
    "1. since there may exist several minmax length triangulations of a face, one could enumerate all such triangulations and find those that are more ideal with respect to:\n",
    "  1. daily travel\n",
    "  1. opponent activity\n",
    "  1. node degree\n",
    "  1. minimizing the maximum length Hamilton Path on each node and its neighbors\n",
    "    1. since we assume one must walk the HP to collect keys to repair damaged fields\n",
    "1. allow for the input of \"layer nodes,\" which will not be included in the triangulation, but as portals internal to fields for $K_4$ layering\n",
    "1. highlight $K_4$ that naturally occur in the triangulation to alert for link dependencies"
   ]
  },
  {
   "cell_type": "code",
   "execution_count": null,
   "metadata": {
    "collapsed": false
   },
   "outputs": [],
   "source": [
    "linkJSON"
   ]
  },
  {
   "cell_type": "code",
   "execution_count": null,
   "metadata": {
    "collapsed": false
   },
   "outputs": [],
   "source": [
    "wright.label_array"
   ]
  },
  {
   "cell_type": "code",
   "execution_count": null,
   "metadata": {
    "collapsed": true
   },
   "outputs": [],
   "source": []
  }
 ],
 "metadata": {
  "kernelspec": {
   "display_name": "Python [Root]",
   "language": "python",
   "name": "Python [Root]"
  },
  "language_info": {
   "codemirror_mode": {
    "name": "ipython",
    "version": 3
   },
   "file_extension": ".py",
   "mimetype": "text/x-python",
   "name": "python",
   "nbconvert_exporter": "python",
   "pygments_lexer": "ipython3",
   "version": "3.5.2"
  }
 },
 "nbformat": 4,
 "nbformat_minor": 0
}
