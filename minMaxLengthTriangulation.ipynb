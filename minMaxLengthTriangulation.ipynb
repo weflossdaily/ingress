{
 "cells": [
  {
   "cell_type": "code",
   "execution_count": 1,
   "metadata": {
    "collapsed": true
   },
   "outputs": [],
   "source": [
    "import bokeh.plotting"
   ]
  },
  {
   "cell_type": "code",
   "execution_count": 2,
   "metadata": {
    "collapsed": false
   },
   "outputs": [
    {
     "data": {
      "text/html": [
       "\n",
       "    <div class=\"bk-root\">\n",
       "        <a href=\"http://bokeh.pydata.org\" target=\"_blank\" class=\"bk-logo bk-logo-small bk-logo-notebook\"></a>\n",
       "        <span id=\"e8b31e14-615e-4e9a-9087-ff1b1abc29cb\">Loading BokehJS ...</span>\n",
       "    </div>"
      ]
     },
     "metadata": {},
     "output_type": "display_data"
    },
    {
     "data": {
      "application/javascript": [
       "\n",
       "(function(global) {\n",
       "  function now() {\n",
       "    return new Date();\n",
       "  }\n",
       "\n",
       "  var force = \"1\";\n",
       "\n",
       "  if (typeof (window._bokeh_onload_callbacks) === \"undefined\" || force !== \"\") {\n",
       "    window._bokeh_onload_callbacks = [];\n",
       "    window._bokeh_is_loading = undefined;\n",
       "  }\n",
       "\n",
       "  function run_callbacks() {\n",
       "    window._bokeh_onload_callbacks.forEach(function(callback) { callback() });\n",
       "    delete window._bokeh_onload_callbacks\n",
       "    console.info(\"Bokeh: all callbacks have finished\");\n",
       "  }\n",
       "\n",
       "  function load_libs(js_urls, callback) {\n",
       "    window._bokeh_onload_callbacks.push(callback);\n",
       "    if (window._bokeh_is_loading > 0) {\n",
       "      console.log(\"Bokeh: BokehJS is being loaded, scheduling callback at\", now());\n",
       "      return null;\n",
       "    }\n",
       "    if (js_urls == null || js_urls.length === 0) {\n",
       "      run_callbacks();\n",
       "      return null;\n",
       "    }\n",
       "    console.log(\"Bokeh: BokehJS not loaded, scheduling load and callback at\", now());\n",
       "    window._bokeh_is_loading = js_urls.length;\n",
       "    for (var i = 0; i < js_urls.length; i++) {\n",
       "      var url = js_urls[i];\n",
       "      var s = document.createElement('script');\n",
       "      s.src = url;\n",
       "      s.async = false;\n",
       "      s.onreadystatechange = s.onload = function() {\n",
       "        window._bokeh_is_loading--;\n",
       "        if (window._bokeh_is_loading === 0) {\n",
       "          console.log(\"Bokeh: all BokehJS libraries loaded\");\n",
       "          run_callbacks()\n",
       "        }\n",
       "      };\n",
       "      s.onerror = function() {\n",
       "        console.warn(\"failed to load library \" + url);\n",
       "      };\n",
       "      console.log(\"Bokeh: injecting script tag for BokehJS library: \", url);\n",
       "      document.getElementsByTagName(\"head\")[0].appendChild(s);\n",
       "    }\n",
       "  };\n",
       "\n",
       "  var js_urls = ['https://cdn.pydata.org/bokeh/release/bokeh-0.12.1.min.js', 'https://cdn.pydata.org/bokeh/release/bokeh-widgets-0.12.1.min.js', 'https://cdn.pydata.org/bokeh/release/bokeh-compiler-0.12.1.min.js'];\n",
       "\n",
       "  var inline_js = [\n",
       "    function(Bokeh) {\n",
       "      Bokeh.set_log_level(\"info\");\n",
       "    },\n",
       "    \n",
       "    function(Bokeh) {\n",
       "      \n",
       "      Bokeh.$(\"#e8b31e14-615e-4e9a-9087-ff1b1abc29cb\").text(\"BokehJS successfully loaded\");\n",
       "      var kernel = Jupyter.notebook.kernel\n",
       "      if (kernel.execute !== undefined) {\n",
       "          kernel.execute(\"import bokeh.io; bokeh.io._nb_loaded = True\");\n",
       "      }\n",
       "    },\n",
       "    function(Bokeh) {\n",
       "      console.log(\"Bokeh: injecting CSS: https://cdn.pydata.org/bokeh/release/bokeh-0.12.1.min.css\");\n",
       "      Bokeh.embed.inject_css(\"https://cdn.pydata.org/bokeh/release/bokeh-0.12.1.min.css\");\n",
       "      console.log(\"Bokeh: injecting CSS: https://cdn.pydata.org/bokeh/release/bokeh-widgets-0.12.1.min.css\");\n",
       "      Bokeh.embed.inject_css(\"https://cdn.pydata.org/bokeh/release/bokeh-widgets-0.12.1.min.css\");\n",
       "    }\n",
       "  ];\n",
       "\n",
       "  function run_inline_js() {\n",
       "    for (var i = 0; i < inline_js.length; i++) {\n",
       "      inline_js[i](window.Bokeh);\n",
       "    }\n",
       "  }\n",
       "\n",
       "  if (window._bokeh_is_loading === 0) {\n",
       "    console.log(\"Bokeh: BokehJS loaded, going straight to plotting\");\n",
       "    run_inline_js();\n",
       "  } else {\n",
       "    load_libs(js_urls, function() {\n",
       "      console.log(\"Bokeh: BokehJS plotting callback run at\", now());\n",
       "      run_inline_js();\n",
       "    });\n",
       "  }\n",
       "}(this));"
      ]
     },
     "metadata": {},
     "output_type": "display_data"
    }
   ],
   "source": [
    "bokeh.plotting.output_notebook()"
   ]
  },
  {
   "cell_type": "markdown",
   "metadata": {},
   "source": [
    "# Imports"
   ]
  },
  {
   "cell_type": "code",
   "execution_count": 3,
   "metadata": {
    "collapsed": true
   },
   "outputs": [],
   "source": [
    "import numpy as np\n",
    "from scipy.spatial import ConvexHull\n",
    "from scipy.spatial import distance\n",
    "import matplotlib.pyplot as plt\n",
    "import networkx as nx\n",
    "from itertools import chain, combinations\n",
    "import pdb\n",
    "import triangle\n",
    "import triangle.plot\n",
    "from bokeh.plotting import figure, show, output_file\n",
    "\n",
    "%matplotlib inline"
   ]
  },
  {
   "cell_type": "markdown",
   "metadata": {},
   "source": [
    "# Points"
   ]
  },
  {
   "cell_type": "code",
   "execution_count": 4,
   "metadata": {
    "collapsed": false
   },
   "outputs": [],
   "source": [
    "# points = np.random.rand(30, 2)   # 30 random points in 2-D\n",
    "\n",
    "bookmarkJSON = {\"maps\":{\"idOthers\":{\"label\":\"Others\",\"state\":1,\"bkmrk\":{}}},\"portals\":{\"id1436081056637\":{\"label\":\"0A2198FE: Inwood Recharge\",\"state\":0,\"bkmrk\":{\"id1436081177062\":{\"guid\":\"76cbeac0b8884a61999911370f3ef7b3.16\",\"latlng\":\"40.862411,-73.920096\",\"label\":\"204th Graffiti\"},\"id1436081203050\":{\"guid\":\"d45f78c7330f415295dad5a2a88c1b2d.16\",\"latlng\":\"40.864628,-73.918741\",\"label\":\"207 St. Station\"},\"id1436081219785\":{\"guid\":\"27fad55af4574b46a6dcc74d35251773.16\",\"latlng\":\"40.869281,-73.915268\",\"label\":\"215 St Station\"},\"id1436081249244\":{\"guid\":\"1c66a05a92cb40a9aa1d13517c3068d2.16\",\"latlng\":\"40.869941,-73.915052\",\"label\":\"215 Street Subway Station\"},\"id1436081269757\":{\"guid\":\"1537b020c1594d378e8283ce7b8b5d89.16\",\"latlng\":\"40.87446,-73.909914\",\"label\":\"225 St Station Train\"},\"id1445475245664\":{\"guid\":\"14419aaeb5b34d6983e156e19854bb12.16\",\"latlng\":\"40.864574,-73.929394\",\"label\":\"Aardvark Sculpture\"},\"id1436083329163\":{\"guid\":\"c3eddf56a4bb416d8d0ba48a043e902f.16\",\"latlng\":\"40.866229,-73.924762\",\"label\":\"Academy Street Art\"},\"id1436081282965\":{\"guid\":\"e27db2c68cc2465a99e4c9e7a3632b21.16\",\"latlng\":\"40.868224,-73.922308\",\"label\":\"Alexander's Garden\"},\"id1440854735540\":{\"guid\":\"0790aca399c2441ca74340868ee96d15.16\",\"latlng\":\"40.865499,-73.928236\",\"label\":\"Anne Loftus Playground\"},\"id1436081295648\":{\"guid\":\"5f86f6d37d8c4db88eb0319d90f29284.16\",\"latlng\":\"40.864711,-73.918982\",\"label\":\"Barber \"},\"id1436083319902\":{\"guid\":\"90bb29efc45c43d2aac4a0097f13e027.16\",\"latlng\":\"40.866656,-73.923711\",\"label\":\"Boat Medallion\"},\"id1436081401719\":{\"guid\":\"5174cf82814648539e06bf55f3fb7b2a.16\",\"latlng\":\"40.869955,-73.917582\",\"label\":\"Bruce's Garden\"},\"id1436081439355\":{\"guid\":\"b9d690fa1a9a430fbf61ff40310892b2.16\",\"latlng\":\"40.875367,-73.909051\",\"label\":\"Carolina Baptist Church\"},\"id1436083315745\":{\"guid\":\"29ef421b4da9426f8a868129c0dbc8e3.16\",\"latlng\":\"40.866979,-73.922238\",\"label\":\"Castle Black Beehive\"},\"id1436081460351\":{\"guid\":\"51294cc16211439291f9fbe95bc922f6.16\",\"latlng\":\"40.868301,-73.918366\",\"label\":\"Castle Black Lion\"},\"id1436081536916\":{\"guid\":\"f27206297cc045c7871e3bbbf4447108.16\",\"latlng\":\"40.868246,-73.92018\",\"label\":\"Church of Good Shepherd\"},\"id1436081555126\":{\"guid\":\"f547f7f594f34f0db48b01a701cd552d.16\",\"latlng\":\"40.863069,-73.919757\",\"label\":\"Church of Saint Jude\"},\"id1440851892601\":{\"guid\":\"3c78d65a41024ca999a0f7b4c1dc5f0f.16\",\"latlng\":\"40.86405,-73.925274\",\"label\":\"Cloud City Mural\"},\"id1436081578516\":{\"guid\":\"1bb87d6614e647289bf6ebb53e9505ff.16\",\"latlng\":\"40.86902,-73.916993\",\"label\":\"College\"},\"id1436083293069\":{\"guid\":\"8499cad992434f7c9373d6e02220de56.16\",\"latlng\":\"40.873607,-73.918067\",\"label\":\"Columbia Boathouse\"},\"id1436081592358\":{\"guid\":\"d3b8c29677aa4017b332d7859dea9da2.16\",\"latlng\":\"40.872244,-73.916094\",\"label\":\"Columbia Stadium Gates\"},\"id1436081606034\":{\"guid\":\"ce6663098aad44639d5be272c385115d.16\",\"latlng\":\"40.86621,-73.918347\",\"label\":\"Cone Mural\"},\"id1436081619761\":{\"guid\":\"c8c1d62cd4b94f82b71e1e403f3c29a3.16\",\"latlng\":\"40.86857,-73.921463\",\"label\":\"Cooper St Mural\"},\"id1436083285538\":{\"guid\":\"6c4b409141774deb8b6aaea3e9afcec8.16\",\"latlng\":\"40.873866,-73.917486\",\"label\":\"Dick Savitt Tennis Center\"},\"id1436081636248\":{\"guid\":\"9f84864f5c4f48c399b3bc752a33c3d4.16\",\"latlng\":\"40.864674,-73.919485\",\"label\":\"Dig This Mural\"},\"id1436081649236\":{\"guid\":\"be5d7e2dce184f3681e4bbcc44b3baed.16\",\"latlng\":\"40.874053,-73.909239\",\"label\":\"Duarte Statue\"},\"id1436081662827\":{\"guid\":\"c7adbe65efd445f99e9a282ba19a7733.12\",\"latlng\":\"40.867262,-73.923\",\"label\":\"Dyckman Farmhouse Museum\"},\"id1440854666328\":{\"guid\":\"747082f4897a4d60a886a8755fb45cf1.16\",\"latlng\":\"40.860579,-73.925597\",\"label\":\"Dyckman Street Station\"},\"id1436081676502\":{\"guid\":\"b3b4838187df4e488c5f086386b97f4d.16\",\"latlng\":\"40.869418,-73.922118\",\"label\":\"Emerson Playground\"},\"id1436081690819\":{\"guid\":\"8731ad8ea53646218bd8fcabf19ac6b1.16\",\"latlng\":\"40.869893,-73.915561\",\"label\":\"Faces on Face Mural\"},\"id1436081707204\":{\"guid\":\"e96576dae3514070b03a74ecaa65f149.16\",\"latlng\":\"40.869423,-73.915564\",\"label\":\"Father Time\"},\"id1436083296708\":{\"guid\":\"0467135003ba4df690681ca5583c09ad.16\",\"latlng\":\"40.872602,-73.921309\",\"label\":\"Forest Restoration Sign\"},\"id1440853156288\":{\"guid\":\"241253aaff234a86819a00be65694128.16\",\"latlng\":\"40.865803,-73.929862\",\"label\":\"Fort Tryon Park\"},\"id1440852378084\":{\"guid\":\"facc926858ed4c38978b02a181c30ee2.16\",\"latlng\":\"40.865323,-73.92818\",\"label\":\"Fort Tryon Park\"},\"id1440852343401\":{\"guid\":\"b918c319ed2747b39898044f8b40a19b.16\",\"latlng\":\"40.864974,-73.928845\",\"label\":\"Fort Tryon Play Area\"},\"id1436081869197\":{\"guid\":\"81df69e66bc14408afc6a11d0b34962b.16\",\"latlng\":\"40.867824,-73.930212\",\"label\":\"Fort Washington Park\"},\"id1436081849483\":{\"guid\":\"caecfb23810b4a8880ae610d3952835b.16\",\"latlng\":\"40.867053,-73.927125\",\"label\":\"Fountain on Seaman Ave\"},\"id1436083281515\":{\"guid\":\"eeb933102e964810963fb09751c68a01.16\",\"latlng\":\"40.867428,-73.921741\",\"label\":\"Four Eyed Lion\"},\"id1436081910674\":{\"guid\":\"ce0fc2b8921c41739489c86a7283937c.16\",\"latlng\":\"40.867344,-73.926723\",\"label\":\"Gargoyle Statue\"},\"id1444213639809\":{\"guid\":\"a5c68fd48652457a95e923785cba758a.16\",\"latlng\":\"40.864119,-73.928419\",\"label\":\"Golden Eagle Plates\"},\"id1436081943521\":{\"guid\":\"5e6b8e9d8bec4c02a498368943d7f9f4.16\",\"latlng\":\"40.871186,-73.913661\",\"label\":\"Grand Theft Auto Mural\"},\"id1436081958474\":{\"guid\":\"ce6d12aa1ea1481bbe24d481740bf898.16\",\"latlng\":\"40.876083,-73.923811\",\"label\":\"Henry Hudson Bridge\"},\"id1444213775035\":{\"guid\":\"4411ab8569b64136997d41ac52fe447e.16\",\"latlng\":\"40.85881,-73.923048\",\"label\":\"Highbridge Park\"},\"id1436083337147\":{\"guid\":\"6b56fc94b5c34f5db1a59979eb42fefe.16\",\"latlng\":\"40.866586,-73.92668\",\"label\":\"Holy Trinity Episcopal Church\"},\"id1436082079435\":{\"guid\":\"f6469ce1260444f9addd7a4b55af9efc.16\",\"latlng\":\"40.871049,-73.921674\",\"label\":\"Homer's Run \"},\"id1436082095213\":{\"guid\":\"fae015c9a9d74f7e82217fd255c046d0.16\",\"latlng\":\"40.869824,-73.916185\",\"label\":\"Hong Mural\"},\"id1436083289459\":{\"guid\":\"c9d56d10b2974ddf926628275b38bf0d.16\",\"latlng\":\"40.873832,-73.91774\",\"label\":\"Horace E. Daveport Class 1929\"},\"id1436083975973\":{\"guid\":\"41416be363544a24bc692a8af39e5e16.16\",\"latlng\":\"40.866271,-73.921721\",\"label\":\"Iglesia Adventista Del 7mo DIA\"},\"id1440852576416\":{\"guid\":\"b7e476d662a54175a224ad07c97deb1e.16\",\"latlng\":\"40.863943,-73.926389\",\"label\":\"Iglesia Cristiana Church\"},\"id1436082118628\":{\"guid\":\"f8cef2105ff34679b807c11cc85c2123.16\",\"latlng\":\"40.863672,-73.919204\",\"label\":\"In Memory\"},\"id1436082131612\":{\"guid\":\"12dda8dd3413487b9273e7e4ea412840.16\",\"latlng\":\"40.871782,-73.919893\",\"label\":\"Indian Road Playground \"},\"id1436083341701\":{\"guid\":\"ebffadcd874d4bdca184d94c48eb60d1.16\",\"latlng\":\"40.867349,-73.928038\",\"label\":\"Inwood Hill Park\"},\"id1436082150147\":{\"guid\":\"e979c340763c4c518034bbaf3b2dcc5c.16\",\"latlng\":\"40.867989,-73.927118\",\"label\":\"Inwood Hill Park\"},\"id1436082170060\":{\"guid\":\"2205e1b538ef43299672e6b9a8b530b4.16\",\"latlng\":\"40.873109,-73.91879\",\"label\":\"Inwood Hill Park\"},\"id1436082173539\":{\"guid\":\"bd681759fbf24e00864b29b9a25e4b1b.16\",\"latlng\":\"40.870084,-73.921009\",\"label\":\"Inwood Hill Park\"},\"id1440852727944\":{\"guid\":\"f6106d3da6c843e4ad987912d2824837.16\",\"latlng\":\"40.8701,-73.922285\",\"label\":\"Inwood Hill Park Tennis Courts\"},\"id1436082394221\":{\"guid\":\"0ab9319403864190875739b985cf7bb4.16\",\"latlng\":\"40.871286,-73.919098\",\"label\":\"Isham Gardens\"},\"id1436082305797\":{\"guid\":\"99c353b019e14485b98265cc90eb6a15.16\",\"latlng\":\"40.869168,-73.917479\",\"label\":\"Isham Park\"},\"id1436082312642\":{\"guid\":\"c87b343c267f467886b3392ffc765a3e.16\",\"latlng\":\"40.869238,-73.919735\",\"label\":\"Isham Park \"},\"id1436082320884\":{\"guid\":\"d9611f74347a4e5297eb145c79dc9a7e.16\",\"latlng\":\"40.870657,-73.919259\",\"label\":\"Isham Park Lower Entrance\"},\"id1436083276779\":{\"guid\":\"a158916097f24e30ae39d3be86b0afb0.16\",\"latlng\":\"40.868447,-73.919259\",\"label\":\"Isham Park South Broadway\"},\"id1444213968913\":{\"guid\":\"51f9db63f69b432c8633e4a83cca5315.16\",\"latlng\":\"40.863664,-73.927068\",\"label\":\"Jesus Saves Church\"},\"id1436083270678\":{\"guid\":\"e499e2503a734bb28506203941646bcc.16\",\"latlng\":\"40.874102,-73.917842\",\"label\":\"Kayak And Canoe Launch\"},\"id1440853062084\":{\"guid\":\"0ac8e52c9ec94fdeaff19c267c9b5d89.16\",\"latlng\":\"40.862571,-73.922754\",\"label\":\"Live Free Mural\"},\"id1436082340785\":{\"guid\":\"59ce41d2352544dc9e8dc2c882ea681a.16\",\"latlng\":\"40.86825,-73.925251\",\"label\":\"Lorraine Court\"},\"id1436082352510\":{\"guid\":\"90709bd04c344c9493e35449f13b09ee.16\",\"latlng\":\"40.866197,-73.927722\",\"label\":\"Mama Sushi\"},\"id1440853025993\":{\"guid\":\"9e84736ef7ef4a48b54c78fa80946105.16\",\"latlng\":\"40.862962,-73.920601\",\"label\":\"Monsignor Kett Playground\"},\"id1436084002922\":{\"guid\":\"3b3641bc8a4048cfb0e3500247010e1f.16\",\"latlng\":\"40.865964,-73.923133\",\"label\":\"Mt. Washington Presbyterian Church \"},\"id1436082366546\":{\"guid\":\"932591e81df444f18edce8f214a4d1f2.16\",\"latlng\":\"40.870903,-73.913964\",\"label\":\"MTA Sign\"},\"id1436082377213\":{\"guid\":\"bbf9e7a1f9a1405c8db3446b3f0c6201.16\",\"latlng\":\"40.872895,-73.917737\",\"label\":\"Muscota Marsh Park\"},\"id1436082386155\":{\"guid\":\"af3b9a7b95484f6fbfd16efc723006f7.16\",\"latlng\":\"40.871583,-73.914381\",\"label\":\"New millennium campbell sport recreation center\"},\"id1436083332768\":{\"guid\":\"4d8baee038504608926d1fe8313828c6.12\",\"latlng\":\"40.865895,-73.925905\",\"label\":\"New York Public Library - Inwood Branch\"},\"id1445475250885\":{\"guid\":\"d4bb0b0d23b0422d8eeca7c728c620c9.16\",\"latlng\":\"40.863582,-73.928065\",\"label\":\"Our Lady Queen of Martyrs Church\"},\"id1436082423153\":{\"guid\":\"2e171f152ac344ef877161e9a08d2426.16\",\"latlng\":\"40.866977,-73.928573\",\"label\":\"Payson Playground\"},\"id1436083346209\":{\"guid\":\"37d8300ec4b0490e854f7f35427f5779.16\",\"latlng\":\"40.867346,-73.929108\",\"label\":\"Payson Playground Cabin\"},\"id1436082472067\":{\"guid\":\"b566274121054256936c27e50fd6a72a.16\",\"latlng\":\"40.864197,-73.918496\",\"label\":\"Prissy\"},\"id1444214130865\":{\"guid\":\"7e2667d2bc384473aa15610c1bc5f99f.16\",\"latlng\":\"40.865749,-73.927685\",\"label\":\"R.I.N.G. Garden\"},\"id1436082490518\":{\"guid\":\"6cf14e93dc384c32910e2ac1a0104ffd.16\",\"latlng\":\"40.864891,-73.918955\",\"label\":\"Ree Graffiti at 10 Ave\"},\"id1436082503173\":{\"guid\":\"0366e5fd149149c3b18246dc4300d7db.16\",\"latlng\":\"40.865296,-73.91933\",\"label\":\"Roof BANDIT Graffiti \"},\"id1444214164253\":{\"guid\":\"1087ae74aea24e709c9d9ec00a1f9c6f.16\",\"latlng\":\"40.862592,-73.920577\",\"label\":\"Sealion Statue\"},\"id1436082516933\":{\"guid\":\"fa3fb421430447bea453753abf23b043.16\",\"latlng\":\"40.859522,-73.9224\",\"label\":\"Sherman Park\"},\"id1436083258880\":{\"guid\":\"492a06af29614ffbbe21265be5c0eab1.16\",\"latlng\":\"40.873512,-73.923694\",\"label\":\"Shorakkopoch\"},\"id1436082543620\":{\"guid\":\"aa81162d9bbd47d8a2c336e72edcf54e.16\",\"latlng\":\"40.86853,-73.920186\",\"label\":\"The Capuchin Franciscans Statue\"},\"id1436082561711\":{\"guid\":\"6d96eed6ff65426b8c7a4b1e16b2c7a7.11\",\"latlng\":\"40.866077,-73.929535\",\"label\":\"The Church of Jesus Christ\"},\"id1436083352123\":{\"guid\":\"e402f49e4d2949ab8175167796cbe470.12\",\"latlng\":\"40.867702,-73.922804\",\"label\":\"The Hessian Military Hut\"},\"id1436083323564\":{\"guid\":\"284c86a6cf474d6d8948167cc610f7ad.16\",\"latlng\":\"40.866723,-73.924374\",\"label\":\"The Stack\"},\"id1436082574221\":{\"guid\":\"88e0915d99754473a97c508c4e3e86d6.16\",\"latlng\":\"40.86541,-73.921922\",\"label\":\"Tree Shadow\"},\"id1440852888744\":{\"guid\":\"2e82e416016b42d0aaa6fd1bc55dd824.16\",\"latlng\":\"40.864958,-73.927906\",\"label\":\"Trying Public House Mural\"},\"id1436082586647\":{\"guid\":\"d1fbeb14a45e41569e672e983a67bcd4.16\",\"latlng\":\"40.869691,-73.915213\",\"label\":\"Turtles\"},\"id1436082646313\":{\"guid\":\"6d7004606e1c4ebaba44910a985506cc.12\",\"latlng\":\"40.877309,-73.906197\",\"label\":\"US Post Office, Bdwy, Bronx, NY\"},\"id1436082659356\":{\"guid\":\"383d266255fe46dbbd36f380efd842f7.12\",\"latlng\":\"40.866056,-73.922796\",\"label\":\"US Post Office, Vermilyea Ave, New York\"},\"id1436082677318\":{\"guid\":\"333e0f28e4d449489f3b4432da7c0b62.16\",\"latlng\":\"40.871378,-73.913484\",\"label\":\"V&S Mural the Sting is Real\"},\"id1436082692289\":{\"guid\":\"eea501d04d8242fcbb39edb5162c532a.16\",\"latlng\":\"40.865936,-73.918093\",\"label\":\"WataahWall\"},\"id1436082705656\":{\"guid\":\"dfb173e677524d80b3587ced97e1a6d6.16\",\"latlng\":\"40.874589,-73.910658\",\"label\":\"Welcome To The Bronx Mural\"},\"id1436082726199\":{\"guid\":\"bab976ede27643e98b86dc3eb190a5ac.16\",\"latlng\":\"40.87287,-73.911575\",\"label\":\"Yoshi Mural\"},\"id1436082748693\":{\"guid\":\"e4e38d1607044994ad409b3eb6bc7875.12\",\"latlng\":\"40.866657,-73.929252\",\"label\":\"Zipcar-270 Dyckman Street\"},\"id1436083360193\":{\"guid\":\"42550ab7815d4a7389a11c67ca134b2f.12\",\"latlng\":\"40.86785,-73.916895\",\"label\":\"Zipcar-3976 10th Avenue\"}}},\"id1436083228889\":{\"label\":\"To Get\",\"state\":0,\"bkmrk\":{\"id1436083254414\":{\"guid\":\"aaac81351f7d40dd8360a7793f0bbd57.16\",\"latlng\":\"40.875549,-73.927594\",\"label\":\"Drone Graffiti\"},\"id1436083263367\":{\"guid\":\"a48b0900a55d46049f3e60c694d0c548.16\",\"latlng\":\"40.874221,-73.920161\",\"label\":\"Inwood Hill Nature Center\"},\"id1436084327544\":{\"guid\":\"41bc9baf78684e95bffae5bc57e86566.16\",\"latlng\":\"40.865874,-73.919147\",\"label\":\"Fountain\"},\"id1436083301292\":{\"guid\":\"f47e4d743f004fa2b6c0b6a0d903d73f.16\",\"latlng\":\"40.86985,-73.924415\",\"label\":\"Inwood Hill Park Forest Restoration\"},\"id1445336527369\":{\"guid\":\"ce7565d3122c45108b85ce0c372b18f3.16\",\"latlng\":\"40.868688,-73.931721\",\"label\":\"Fort Washington Park\"}}},\"idOthers\":{\"label\":\"Others\",\"state\":1,\"bkmrk\":{}},\"id1446382806673\":{\"label\":\"Convex Hull\",\"state\":0,\"bkmrk\":{}},\"id1446382847766\":{\"label\":\"Folder\",\"state\":1,\"bkmrk\":{}}}}\n",
    "\n",
    "class BookmarkReader(object):\n",
    "    \"\"\"A BookmarkReader reads a bookmark JSON object copied from\n",
    "    BookmarkOpts in the Ingress Intel Map.\"\"\"\n",
    "    \n",
    "    def __init__(self,bookmarkJSON):\n",
    "        self.bookmarkJSON = bookmarkJSON\n",
    "        \n",
    "        portals = bookmarkJSON['portals']\n",
    "        for key, value in portals.items():\n",
    "            if value['label'] == '0A2198FE: Inwood Recharge':\n",
    "                self.portalsJSON = portals[key]['bkmrk']\n",
    "                break\n",
    "                \n",
    "        graph = nx.Graph()\n",
    "        node_positions = {}\n",
    "        node_labels = {}\n",
    "        for key, value in self.portalsJSON.items():\n",
    "            label = self.portalsJSON[key]['label']\n",
    "            latlng = self.portalsJSON[key]['latlng'].split(',')\n",
    "            latitude = float(latlng[0])\n",
    "            longitude = float(latlng[1])\n",
    "            graph.add_node(key, label = label, latitude = latitude, longitude = longitude)\n",
    "            node_positions[key] = (longitude, latitude * 2.0)\n",
    "            node_labels[key] = label\n",
    "        self.graph = graph\n",
    "        self.node_positions = node_positions\n",
    "        self.node_labels = node_labels\n",
    "        \n",
    "        point_array = np.asarray([point for point in self.node_positions.values()])\n",
    "        label_array = np.asarray([label for label in self.node_labels.values()])\n",
    "        self.point_array = point_array\n",
    "        self.label_array = label_array\n",
    "    \n",
    "    def hull(self):\n",
    "        hull = ConvexHull(self.point_array)\n",
    "        \n",
    "        # hull.simplices is a list (in counter clockwise order) of edges in the Convex Hull,\n",
    "        # where each edge is a list of two items, namely, the indexes (within the supplied point array) of the edge's endpoints\n",
    "        \n",
    "        # reverse the dictionary to lookup by position\n",
    "        p = dict(zip(self.node_positions.values(),self.node_positions.keys()))\n",
    "        # print(p)\n",
    "        print(self.node_positions)\n",
    "        print(self.point_array)\n",
    "        \n",
    "        for simplex in hull.simplices:\n",
    "            self.graph.add_edge(p[self.point_array[simplex[0]]],p[self.point_array[simplex[1]]])\n",
    "            print(simplex)\n",
    "\n",
    "#    def rng(self):\n",
    "    \n",
    "    def draw(self):\n",
    "        nx.draw(\n",
    "            self.graph,\n",
    "            pos = self.node_positions,\n",
    "            labels = self.node_labels,\n",
    "            node_shape = '.'\n",
    "        )\n",
    "\n",
    "wright = BookmarkReader(bookmarkJSON)\n",
    "points = wright.point_array"
   ]
  },
  {
   "cell_type": "markdown",
   "metadata": {},
   "source": [
    "# Graph"
   ]
  },
  {
   "cell_type": "code",
   "execution_count": 5,
   "metadata": {
    "collapsed": false
   },
   "outputs": [],
   "source": [
    "G = nx.Graph()\n",
    "it = np.nditer(points, flags=['multi_index'])\n",
    "while not it.finished:\n",
    "    index = it.multi_index[0]\n",
    "    G.add_node(index,pos=(points[index,0],points[index,1]),label=index)\n",
    "    it.iternext()\n",
    "    it.iternext()\n",
    "pos = nx.get_node_attributes(G,'pos')"
   ]
  },
  {
   "cell_type": "markdown",
   "metadata": {},
   "source": [
    "# Hull"
   ]
  },
  {
   "cell_type": "code",
   "execution_count": 6,
   "metadata": {
    "collapsed": false
   },
   "outputs": [],
   "source": [
    "hull = ConvexHull(points)\n",
    "for simplex in hull.simplices:\n",
    "    G.add_edge(simplex[0],simplex[1])"
   ]
  },
  {
   "cell_type": "markdown",
   "metadata": {},
   "source": [
    "# RNG Edges"
   ]
  },
  {
   "cell_type": "code",
   "execution_count": 7,
   "metadata": {
    "collapsed": false
   },
   "outputs": [],
   "source": [
    "for i in G.nodes():\n",
    "    for j in [j for j in G.nodes() if j != i]:\n",
    "        closerNeighborFound = False\n",
    "        distij = distance.euclidean(pos[i],pos[j])\n",
    "        for k in [k for k in G.nodes() if k != i and k != j]:\n",
    "            distik = distance.euclidean(pos[i],pos[k])\n",
    "            distjk = distance.euclidean(pos[j],pos[k])\n",
    "            if distik < distij and distjk < distij:\n",
    "                closerNeighborFound = True\n",
    "                break\n",
    "        if not closerNeighborFound:\n",
    "            G.add_edge(i,j)"
   ]
  },
  {
   "cell_type": "code",
   "execution_count": 8,
   "metadata": {
    "collapsed": false
   },
   "outputs": [],
   "source": [
    "forced_edges = []\n",
    "nops = range(len(wright.point_array))\n",
    "for i in nops:\n",
    "    for j in [j for j in nops if j != i]:\n",
    "        closerNeighborFound = False\n",
    "        distij = distance.euclidean(wright.point_array[i],wright.point_array[j])\n",
    "        for k in [k for k in nops if k != i and k != j]:\n",
    "            distik = distance.euclidean(wright.point_array[i],wright.point_array[k])\n",
    "            distjk = distance.euclidean(wright.point_array[j],wright.point_array[k])\n",
    "            if distik < distij and distjk < distij:\n",
    "                closerNeighborFound = True\n",
    "                break\n",
    "        if not closerNeighborFound:\n",
    "            forced_edges.append([i,j])"
   ]
  },
  {
   "cell_type": "markdown",
   "metadata": {},
   "source": [
    "# Draw"
   ]
  },
  {
   "cell_type": "markdown",
   "metadata": {},
   "source": [
    "## Bokeh"
   ]
  },
  {
   "cell_type": "code",
   "execution_count": 9,
   "metadata": {
    "collapsed": false
   },
   "outputs": [],
   "source": [
    "tris=triangle.triangulate({\"vertices\":wright.point_array,\"segments\":forced_edges})"
   ]
  },
  {
   "cell_type": "code",
   "execution_count": 10,
   "metadata": {
    "collapsed": false
   },
   "outputs": [],
   "source": [
    "xs = []\n",
    "ys = []\n",
    "x0 = []\n",
    "x1 = []\n",
    "y0 = []\n",
    "y1 = []\n",
    "for triangle in tris['triangles']:\n",
    "    # fields\n",
    "    xs.append([wright.point_array[triangle[0]][0],wright.point_array[triangle[1]][0],wright.point_array[triangle[2]][0]])\n",
    "    ys.append([wright.point_array[triangle[0]][1],wright.point_array[triangle[1]][1],wright.point_array[triangle[2]][1]])\n",
    "    \n",
    "    # links\n",
    "    x0.append(wright.point_array[triangle[0]][0])\n",
    "    x1.append(wright.point_array[triangle[1]][0])\n",
    "    y0.append(wright.point_array[triangle[0]][1])\n",
    "    y1.append(wright.point_array[triangle[1]][1])\n",
    "    \n",
    "    x0.append(wright.point_array[triangle[1]][0])\n",
    "    x1.append(wright.point_array[triangle[2]][0])\n",
    "    y0.append(wright.point_array[triangle[1]][1])\n",
    "    y1.append(wright.point_array[triangle[2]][1])\n",
    "    \n",
    "    x0.append(wright.point_array[triangle[2]][0])\n",
    "    x1.append(wright.point_array[triangle[0]][0])\n",
    "    y0.append(wright.point_array[triangle[2]][1])\n",
    "    y1.append(wright.point_array[triangle[0]][1])\n",
    "\n",
    "circlex = []\n",
    "circley = []\n",
    "for point in wright.point_array:\n",
    "    circlex.append(point[0])\n",
    "    circley.append(point[1])"
   ]
  },
  {
   "cell_type": "code",
   "execution_count": 11,
   "metadata": {
    "collapsed": false
   },
   "outputs": [
    {
     "data": {
      "text/html": [
       "\n",
       "\n",
       "    <div class=\"bk-root\">\n",
       "        <div class=\"plotdiv\" id=\"d740610a-844d-4032-9e6a-a88b4ebf5da8\"></div>\n",
       "    </div>\n",
       "<script type=\"text/javascript\">\n",
       "  \n",
       "  (function(global) {\n",
       "    function now() {\n",
       "      return new Date();\n",
       "    }\n",
       "  \n",
       "    var force = \"\";\n",
       "  \n",
       "    if (typeof (window._bokeh_onload_callbacks) === \"undefined\" || force !== \"\") {\n",
       "      window._bokeh_onload_callbacks = [];\n",
       "      window._bokeh_is_loading = undefined;\n",
       "    }\n",
       "  \n",
       "    function run_callbacks() {\n",
       "      window._bokeh_onload_callbacks.forEach(function(callback) { callback() });\n",
       "      delete window._bokeh_onload_callbacks\n",
       "      console.info(\"Bokeh: all callbacks have finished\");\n",
       "    }\n",
       "  \n",
       "    function load_libs(js_urls, callback) {\n",
       "      window._bokeh_onload_callbacks.push(callback);\n",
       "      if (window._bokeh_is_loading > 0) {\n",
       "        console.log(\"Bokeh: BokehJS is being loaded, scheduling callback at\", now());\n",
       "        return null;\n",
       "      }\n",
       "      if (js_urls == null || js_urls.length === 0) {\n",
       "        run_callbacks();\n",
       "        return null;\n",
       "      }\n",
       "      console.log(\"Bokeh: BokehJS not loaded, scheduling load and callback at\", now());\n",
       "      window._bokeh_is_loading = js_urls.length;\n",
       "      for (var i = 0; i < js_urls.length; i++) {\n",
       "        var url = js_urls[i];\n",
       "        var s = document.createElement('script');\n",
       "        s.src = url;\n",
       "        s.async = false;\n",
       "        s.onreadystatechange = s.onload = function() {\n",
       "          window._bokeh_is_loading--;\n",
       "          if (window._bokeh_is_loading === 0) {\n",
       "            console.log(\"Bokeh: all BokehJS libraries loaded\");\n",
       "            run_callbacks()\n",
       "          }\n",
       "        };\n",
       "        s.onerror = function() {\n",
       "          console.warn(\"failed to load library \" + url);\n",
       "        };\n",
       "        console.log(\"Bokeh: injecting script tag for BokehJS library: \", url);\n",
       "        document.getElementsByTagName(\"head\")[0].appendChild(s);\n",
       "      }\n",
       "    };var element = document.getElementById(\"d740610a-844d-4032-9e6a-a88b4ebf5da8\");\n",
       "    if (element == null) {\n",
       "      console.log(\"Bokeh: ERROR: autoload.js configured with elementid 'd740610a-844d-4032-9e6a-a88b4ebf5da8' but no matching script tag was found. \")\n",
       "      return false;\n",
       "    }\n",
       "  \n",
       "    var js_urls = [];\n",
       "  \n",
       "    var inline_js = [\n",
       "      function(Bokeh) {\n",
       "        Bokeh.$(function() {\n",
       "            var docs_json = {\"f57bea37-acb3-48a4-ac48-e7a5d7e7bd89\":{\"roots\":{\"references\":[{\"attributes\":{\"dimension\":1,\"plot\":{\"id\":\"0c117672-db4e-437c-b2cf-bbb1188be13a\",\"subtype\":\"Figure\",\"type\":\"Plot\"},\"ticker\":{\"id\":\"ad0a879c-08ba-4050-83dd-54ae47881cda\",\"type\":\"BasicTicker\"}},\"id\":\"826eb5aa-b0ba-4b07-9fe5-3cce5bae69f7\",\"type\":\"Grid\"},{\"attributes\":{},\"id\":\"ad0a879c-08ba-4050-83dd-54ae47881cda\",\"type\":\"BasicTicker\"},{\"attributes\":{\"plot\":null,\"text\":null},\"id\":\"3b9e484b-2879-4e50-820e-5fabcb30b750\",\"type\":\"Title\"},{\"attributes\":{\"below\":[{\"id\":\"ca8c538f-a647-4c45-90a7-e84f4adb1639\",\"type\":\"LinearAxis\"}],\"left\":[{\"id\":\"790ac942-78fb-492e-ba49-cf28057f04ba\",\"type\":\"LinearAxis\"}],\"renderers\":[{\"id\":\"ca8c538f-a647-4c45-90a7-e84f4adb1639\",\"type\":\"LinearAxis\"},{\"id\":\"2cc27c8a-35e6-404a-9d4e-e6edfc06b6ce\",\"type\":\"Grid\"},{\"id\":\"790ac942-78fb-492e-ba49-cf28057f04ba\",\"type\":\"LinearAxis\"},{\"id\":\"826eb5aa-b0ba-4b07-9fe5-3cce5bae69f7\",\"type\":\"Grid\"},{\"id\":\"22f38205-e494-4944-818f-8d9c5cc63635\",\"type\":\"BoxAnnotation\"},{\"id\":\"bb1f2f1a-693e-4c83-9446-bb5702f3585b\",\"type\":\"BoxAnnotation\"},{\"id\":\"20228f0f-541c-4cf6-878b-eed477fef70c\",\"type\":\"PolyAnnotation\"},{\"id\":\"a12ca0e0-22be-47cf-9e61-28a95c22dea9\",\"type\":\"PolyAnnotation\"},{\"id\":\"10de9b76-9e36-4a9f-ad93-8f90764c64c4\",\"type\":\"GlyphRenderer\"},{\"id\":\"847f9d0a-374c-4169-a1ad-c820a2cb1854\",\"type\":\"GlyphRenderer\"},{\"id\":\"67ef73d8-b92b-4b50-96a5-1a07ba41cf7b\",\"type\":\"GlyphRenderer\"}],\"title\":{\"id\":\"3b9e484b-2879-4e50-820e-5fabcb30b750\",\"type\":\"Title\"},\"tool_events\":{\"id\":\"d5c6bb72-0c37-4921-8731-e8918d9af16a\",\"type\":\"ToolEvents\"},\"toolbar\":{\"id\":\"47033ccf-d9bf-4349-9b1e-39b91438f819\",\"type\":\"Toolbar\"},\"x_range\":{\"id\":\"839f406d-f6ad-46d7-aa7f-717f0b8fe691\",\"type\":\"DataRange1d\"},\"y_range\":{\"id\":\"add07c5f-6096-4186-8e0d-9e9810e6b98c\",\"type\":\"DataRange1d\"}},\"id\":\"0c117672-db4e-437c-b2cf-bbb1188be13a\",\"subtype\":\"Figure\",\"type\":\"Plot\"},{\"attributes\":{\"plot\":{\"id\":\"0c117672-db4e-437c-b2cf-bbb1188be13a\",\"subtype\":\"Figure\",\"type\":\"Plot\"}},\"id\":\"de2ec78c-545d-4fcd-8c3f-e850b894b9d6\",\"type\":\"RedoTool\"},{\"attributes\":{\"plot\":{\"id\":\"0c117672-db4e-437c-b2cf-bbb1188be13a\",\"subtype\":\"Figure\",\"type\":\"Plot\"}},\"id\":\"62cf62d9-0217-4203-b2ec-b8bcc709ffcd\",\"type\":\"CrosshairTool\"},{\"attributes\":{\"data_source\":{\"id\":\"042fe0a0-2b0a-4ba3-bdc8-03ecc33ad94c\",\"type\":\"ColumnDataSource\"},\"glyph\":{\"id\":\"3644f182-695e-4fd7-96f6-feff1b3e29bc\",\"type\":\"Circle\"},\"hover_glyph\":null,\"nonselection_glyph\":{\"id\":\"89f8fdec-2454-4590-804b-13ce38d0b1c8\",\"type\":\"Circle\"},\"selection_glyph\":null},\"id\":\"67ef73d8-b92b-4b50-96a5-1a07ba41cf7b\",\"type\":\"GlyphRenderer\"},{\"attributes\":{\"bottom_units\":\"screen\",\"fill_alpha\":{\"value\":0.5},\"fill_color\":{\"value\":\"lightgrey\"},\"left_units\":\"screen\",\"level\":\"overlay\",\"line_alpha\":{\"value\":1.0},\"line_color\":{\"value\":\"black\"},\"line_dash\":[4,4],\"line_width\":{\"value\":2},\"plot\":null,\"render_mode\":\"css\",\"right_units\":\"screen\",\"top_units\":\"screen\"},\"id\":\"bb1f2f1a-693e-4c83-9446-bb5702f3585b\",\"type\":\"BoxAnnotation\"},{\"attributes\":{\"plot\":{\"id\":\"0c117672-db4e-437c-b2cf-bbb1188be13a\",\"subtype\":\"Figure\",\"type\":\"Plot\"},\"ticker\":{\"id\":\"c511b338-f6de-4714-b94d-f139b4f52f95\",\"type\":\"BasicTicker\"}},\"id\":\"2cc27c8a-35e6-404a-9d4e-e6edfc06b6ce\",\"type\":\"Grid\"},{\"attributes\":{\"line_color\":{\"value\":\"#F4A582\"},\"line_width\":{\"value\":3},\"x0\":{\"field\":\"x0\"},\"x1\":{\"field\":\"x1\"},\"y0\":{\"field\":\"y0\"},\"y1\":{\"field\":\"y1\"}},\"id\":\"b343765e-6ad4-40ff-8900-5dd9e0458675\",\"type\":\"Segment\"},{\"attributes\":{\"fill_alpha\":{\"value\":0.5},\"fill_color\":{\"value\":\"lightgrey\"},\"level\":\"overlay\",\"line_alpha\":{\"value\":1.0},\"line_color\":{\"value\":\"black\"},\"line_dash\":[4,4],\"line_width\":{\"value\":2},\"plot\":null,\"xs_units\":\"screen\",\"ys_units\":\"screen\"},\"id\":\"20228f0f-541c-4cf6-878b-eed477fef70c\",\"type\":\"PolyAnnotation\"},{\"attributes\":{\"line_alpha\":{\"value\":0.1},\"line_color\":{\"value\":\"#1f77b4\"},\"line_width\":{\"value\":3},\"x0\":{\"field\":\"x0\"},\"x1\":{\"field\":\"x1\"},\"y0\":{\"field\":\"y0\"},\"y1\":{\"field\":\"y1\"}},\"id\":\"bb513c0d-7997-4ec8-9940-53a2de4f56b0\",\"type\":\"Segment\"},{\"attributes\":{\"plot\":{\"id\":\"0c117672-db4e-437c-b2cf-bbb1188be13a\",\"subtype\":\"Figure\",\"type\":\"Plot\"}},\"id\":\"9418ef05-a981-447c-9567-d990545b1f15\",\"type\":\"ResetTool\"},{\"attributes\":{\"callback\":null,\"column_names\":[\"y0\",\"x1\",\"y1\",\"x0\"],\"data\":{\"x0\":[-73.929394,-73.928419,-73.928845,-73.928419,-73.929394,-73.928065,-73.928845,-73.928419,-73.927906,-73.929394,-73.928845,-73.929862,-73.928419,-73.926389,-73.927906,-73.927068,-73.928065,-73.925597,-73.927685,-73.927906,-73.925905,-73.927068,-73.928419,-73.928065,-73.929394,-73.925597,-73.928065,-73.928845,-73.927906,-73.92818,-73.929862,-73.928236,-73.929535,-73.929862,-73.928845,-73.928236,-73.929535,-73.928236,-73.927722,-73.929862,-73.929535,-73.930212,-73.927685,-73.927722,-73.928236,-73.927685,-73.92818,-73.927906,-73.925905,-73.927722,-73.927685,-73.927685,-73.928236,-73.92818,-73.928845,-73.92818,-73.928236,-73.929535,-73.927722,-73.929252,-73.927068,-73.926389,-73.928419,-73.926389,-73.927068,-73.925274,-73.922754,-73.927068,-73.925597,-73.927068,-73.922754,-73.925274,-73.925274,-73.925905,-73.927906,-73.9224,-73.922754,-73.925597,-73.9224,-73.923048,-73.906197,-73.920601,-73.925274,-73.922754,-73.9224,-73.925597,-73.923048,-73.921922,-73.925274,-73.920601,-73.925905,-73.923133,-73.924762,-73.925905,-73.925274,-73.923133,-73.923711,-73.924762,-73.923133,-73.927722,-73.925905,-73.92668,-73.922796,-73.921922,-73.921721,-73.921922,-73.922796,-73.923133,-73.91933,-73.921721,-73.921922,-73.923711,-73.923133,-73.922796,-73.925274,-73.921922,-73.923133,-73.92668,-73.925905,-73.924762,-73.921741,-73.921721,-73.918347,-73.925274,-73.927906,-73.926389,-73.921721,-73.922238,-73.922796,-73.927722,-73.927125,-73.928573,-73.928573,-73.929252,-73.927722,-73.928038,-73.928573,-73.927125,-73.929252,-73.928573,-73.929108,-73.926723,-73.92668,-73.924374,-73.92668,-73.926723,-73.927125,-73.92668,-73.924762,-73.924374,-73.926723,-73.924374,-73.925251,-73.92668,-73.927125,-73.927722,-73.928038,-73.927125,-73.926723,-73.927118,-73.930212,-73.929108,-73.929108,-73.930212,-73.929252,-73.928038,-73.929108,-73.928573,-73.927118,-73.929108,-73.928038,-73.923694,-73.930212,-73.927118,-73.927118,-73.928038,-73.926723,-73.925251,-73.922285,-73.927118,-73.930212,-73.923694,-73.923811,-73.926723,-73.925251,-73.927118,-73.925251,-73.924374,-73.923,-73.929252,-73.930212,-73.929535,-73.923,-73.922804,-73.925251,-73.923,-73.923711,-73.922238,-73.922804,-73.923,-73.921741,-73.925251,-73.922804,-73.922308,-73.922804,-73.921741,-73.922308,-73.921741,-73.923,-73.922238,-73.921741,-73.922238,-73.921721,-73.921463,-73.922308,-73.92018,-73.923711,-73.922796,-73.922238,-73.922308,-73.922118,-73.925251,-73.922285,-73.923694,-73.927118,-73.925251,-73.922118,-73.922285,-73.921674,-73.922285,-73.921009,-73.923694,-73.922285,-73.921674,-73.921309,-73.921674,-73.919893,-73.922285,-73.922118,-73.921009,-73.921463,-73.919735,-73.922118,-73.921674,-73.921309,-73.923694,-73.922118,-73.922308,-73.921463,-73.923811,-73.923694,-73.917842,-73.92018,-73.922308,-73.921741,-73.923711,-73.923,-73.924374,-73.924762,-73.923711,-73.924374,-73.91879,-73.923694,-73.921309,-73.9224,-73.920096,-73.922754,-73.919757,-73.920601,-73.920577,-73.920577,-73.920601,-73.922754,-73.920096,-73.920577,-73.922754,-73.919757,-73.920577,-73.920096,-73.919204,-73.919485,-73.920601,-73.919204,-73.919757,-73.920096,-73.918982,-73.919485,-73.918741,-73.919204,-73.920601,-73.919757,-73.920096,-73.918496,-73.919204,-73.919485,-73.91933,-73.921922,-73.919735,-73.920186,-73.919259,-73.920186,-73.921463,-73.92018,-73.919259,-73.920186,-73.92018,-73.919735,-73.921009,-73.922118,-73.92018,-73.921741,-73.918347,-73.919485,-73.918955,-73.91933,-73.918982,-73.918955,-73.919485,-73.92018,-73.918366,-73.919259,-73.91933,-73.918347,-73.921721,-73.919735,-73.919259,-73.917479,-73.919485,-73.919204,-73.918496,-73.920186,-73.919735,-73.921463,-73.918982,-73.918741,-73.918955,-73.918741,-73.919485,-73.918496,-73.918741,-73.918496,-73.918093,-73.918955,-73.918741,-73.918093,-73.918347,-73.918093,-73.916895,-73.918347,-73.91933,-73.918093,-73.915268,-73.916895,-73.918093,-73.918347,-73.916895,-73.918366,-73.918093,-73.918496,-73.915268,-73.918347,-73.918366,-73.92018,-73.918366,-73.916993,-73.917479,-73.918366,-73.916895,-73.916993,-73.916185,-73.917479,-73.916993,-73.918366,-73.917479,-73.919259,-73.915564,-73.915268,-73.915213,-73.915268,-73.915564,-73.916993,-73.915213,-73.915268,-73.915052,-73.916185,-73.916993,-73.915564,-73.916895,-73.915268,-73.916993,-73.919735,-73.917479,-73.917582,-73.918496,-73.909239,-73.915268,-73.91933,-73.918955,-73.918093,-73.9224,-73.918496,-73.920096,-73.915213,-73.915561,-73.915564,-73.919098,-73.921674,-73.919259,-73.921009,-73.919735,-73.919259,-73.921674,-73.919098,-73.919893,-73.919259,-73.921674,-73.921009,-73.916094,-73.919098,-73.917582,-73.917582,-73.919098,-73.919259,-73.919259,-73.919735,-73.917582,-73.919893,-73.919098,-73.917737,-73.917479,-73.916185,-73.917582,-73.916094,-73.917737,-73.919098,-73.91879,-73.918067,-73.917842,-73.918067,-73.91879,-73.917737,-73.917842,-73.918067,-73.91774,-73.91879,-73.917842,-73.923694,-73.918067,-73.917486,-73.91774,-73.917486,-73.918067,-73.917737,-73.916094,-73.917486,-73.917737,-73.91774,-73.917486,-73.917842,-73.91879,-73.919893,-73.917737,-73.917842,-73.917486,-73.910658,-73.916185,-73.914381,-73.917582,-73.919893,-73.91879,-73.921309,-73.914381,-73.915561,-73.913964,-73.915561,-73.916185,-73.915564,-73.913964,-73.915561,-73.915052,-73.914381,-73.916094,-73.917582,-73.913661,-73.913484,-73.914381,-73.913964,-73.915268,-73.913661,-73.913484,-73.913661,-73.911575,-73.913661,-73.914381,-73.913964,-73.915268,-73.913964,-73.915052,-73.914381,-73.913484,-73.911575,-73.911575,-73.910658,-73.917486,-73.911575,-73.916094,-73.914381,-73.910658,-73.911575,-73.909239,-73.909051,-73.917842,-73.910658,-73.909914,-73.909239,-73.909051,-73.909239,-73.909914,-73.910658,-73.923811,-73.909051,-73.906197,-73.906197,-73.909051,-73.909239,-73.9224,-73.909239,-73.918496,-73.909914,-73.909051,-73.910658,-73.911575,-73.913661,-73.909239,-73.917486,-73.916094,-73.911575,-73.909239,-73.913661,-73.915268,-73.914381,-73.916185,-73.915561,-73.915213,-73.915052,-73.915561,-73.909051,-73.923811,-73.917842,-73.9224,-73.906197,-73.909239,-73.920601,-73.919485,-73.921922],\"x1\":[-73.928419,-73.928845,-73.929394,-73.929394,-73.928065,-73.928419,-73.928419,-73.927906,-73.928845,-73.928845,-73.929862,-73.929394,-73.926389,-73.927906,-73.928419,-73.928065,-73.925597,-73.927068,-73.927906,-73.925905,-73.927685,-73.928419,-73.928065,-73.927068,-73.925597,-73.928065,-73.929394,-73.927906,-73.92818,-73.928845,-73.928236,-73.929535,-73.929862,-73.928845,-73.928236,-73.929862,-73.928236,-73.927722,-73.929535,-73.929535,-73.930212,-73.929862,-73.927722,-73.928236,-73.927685,-73.92818,-73.927906,-73.927685,-73.927722,-73.927685,-73.925905,-73.928236,-73.92818,-73.927685,-73.92818,-73.928236,-73.928845,-73.927722,-73.929252,-73.929535,-73.926389,-73.928419,-73.927068,-73.927068,-73.925274,-73.926389,-73.927068,-73.925597,-73.922754,-73.922754,-73.925274,-73.927068,-73.925905,-73.927906,-73.925274,-73.922754,-73.925597,-73.9224,-73.923048,-73.906197,-73.9224,-73.925274,-73.922754,-73.920601,-73.925597,-73.923048,-73.9224,-73.925274,-73.920601,-73.921922,-73.923133,-73.924762,-73.925905,-73.925274,-73.923133,-73.925905,-73.924762,-73.923133,-73.923711,-73.925905,-73.92668,-73.927722,-73.921922,-73.921721,-73.922796,-73.922796,-73.923133,-73.921922,-73.921721,-73.921922,-73.91933,-73.923133,-73.922796,-73.923711,-73.921922,-73.923133,-73.925274,-73.925905,-73.924762,-73.92668,-73.921721,-73.918347,-73.921741,-73.927906,-73.926389,-73.925274,-73.922238,-73.922796,-73.921721,-73.927125,-73.928573,-73.927722,-73.929252,-73.927722,-73.928573,-73.928573,-73.927125,-73.928038,-73.928573,-73.929108,-73.929252,-73.92668,-73.924374,-73.926723,-73.926723,-73.927125,-73.92668,-73.924762,-73.924374,-73.92668,-73.924374,-73.925251,-73.926723,-73.927125,-73.927722,-73.92668,-73.927125,-73.926723,-73.928038,-73.930212,-73.929108,-73.927118,-73.930212,-73.929252,-73.929108,-73.929108,-73.928573,-73.928038,-73.929108,-73.928038,-73.927118,-73.930212,-73.927118,-73.923694,-73.928038,-73.926723,-73.927118,-73.922285,-73.927118,-73.925251,-73.923694,-73.923811,-73.930212,-73.925251,-73.927118,-73.926723,-73.924374,-73.923,-73.925251,-73.930212,-73.929535,-73.929252,-73.922804,-73.925251,-73.923,-73.923711,-73.922238,-73.923,-73.923,-73.921741,-73.922804,-73.922804,-73.922308,-73.925251,-73.921741,-73.922308,-73.922804,-73.923,-73.922238,-73.921741,-73.922238,-73.921721,-73.921741,-73.922308,-73.92018,-73.921463,-73.922796,-73.922238,-73.923711,-73.922118,-73.925251,-73.922308,-73.923694,-73.927118,-73.922285,-73.922118,-73.922285,-73.925251,-73.922285,-73.921009,-73.921674,-73.922285,-73.921674,-73.923694,-73.921674,-73.919893,-73.921309,-73.922118,-73.921009,-73.922285,-73.919735,-73.922118,-73.921463,-73.921309,-73.923694,-73.921674,-73.922308,-73.921463,-73.922118,-73.923694,-73.917842,-73.923811,-73.922308,-73.921741,-73.92018,-73.923,-73.924374,-73.923711,-73.923711,-73.924374,-73.924762,-73.923694,-73.921309,-73.91879,-73.920096,-73.922754,-73.9224,-73.920601,-73.920577,-73.919757,-73.920601,-73.922754,-73.920577,-73.920577,-73.922754,-73.920096,-73.920577,-73.920096,-73.919757,-73.919485,-73.920601,-73.919204,-73.919757,-73.920096,-73.919204,-73.919485,-73.918741,-73.918982,-73.920601,-73.919757,-73.919204,-73.918496,-73.919204,-73.920096,-73.91933,-73.921922,-73.919485,-73.920186,-73.919259,-73.919735,-73.921463,-73.92018,-73.920186,-73.920186,-73.92018,-73.919259,-73.921009,-73.922118,-73.919735,-73.921741,-73.918347,-73.92018,-73.918955,-73.91933,-73.919485,-73.918955,-73.919485,-73.918982,-73.918366,-73.919259,-73.92018,-73.918347,-73.921721,-73.91933,-73.919259,-73.917479,-73.919735,-73.919204,-73.918496,-73.919485,-73.919735,-73.921463,-73.920186,-73.918741,-73.918955,-73.918982,-73.919485,-73.918496,-73.918741,-73.918496,-73.918093,-73.918741,-73.918741,-73.918093,-73.918955,-73.918093,-73.916895,-73.918347,-73.91933,-73.918093,-73.918347,-73.916895,-73.918093,-73.915268,-73.916895,-73.918366,-73.918347,-73.918496,-73.915268,-73.918093,-73.918366,-73.92018,-73.918347,-73.916993,-73.917479,-73.918366,-73.916895,-73.916993,-73.918366,-73.917479,-73.916993,-73.916185,-73.917479,-73.919259,-73.918366,-73.915268,-73.915213,-73.915564,-73.915564,-73.916993,-73.915268,-73.915268,-73.915052,-73.915213,-73.916993,-73.915564,-73.916185,-73.915268,-73.916993,-73.916895,-73.917479,-73.917582,-73.919735,-73.909239,-73.915268,-73.918496,-73.918955,-73.918093,-73.91933,-73.918496,-73.920096,-73.9224,-73.915561,-73.915564,-73.915213,-73.921674,-73.919259,-73.919098,-73.919735,-73.919259,-73.921009,-73.919098,-73.919893,-73.921674,-73.921674,-73.921009,-73.919259,-73.919098,-73.917582,-73.916094,-73.919098,-73.919259,-73.917582,-73.919735,-73.917582,-73.919259,-73.919098,-73.917737,-73.919893,-73.916185,-73.917582,-73.917479,-73.917737,-73.919098,-73.916094,-73.918067,-73.917842,-73.91879,-73.91879,-73.917737,-73.918067,-73.918067,-73.91774,-73.917842,-73.917842,-73.923694,-73.91879,-73.917486,-73.91774,-73.918067,-73.918067,-73.917737,-73.917486,-73.917486,-73.917737,-73.916094,-73.917486,-73.917842,-73.91774,-73.919893,-73.917737,-73.91879,-73.917486,-73.910658,-73.917842,-73.914381,-73.917582,-73.916185,-73.91879,-73.921309,-73.919893,-73.915561,-73.913964,-73.914381,-73.916185,-73.915564,-73.915561,-73.915561,-73.915052,-73.913964,-73.916094,-73.917582,-73.914381,-73.913484,-73.914381,-73.913661,-73.915268,-73.913661,-73.913964,-73.913661,-73.911575,-73.913484,-73.914381,-73.913964,-73.913661,-73.913964,-73.915052,-73.915268,-73.913484,-73.911575,-73.914381,-73.910658,-73.917486,-73.911575,-73.916094,-73.914381,-73.911575,-73.911575,-73.909239,-73.910658,-73.917842,-73.910658,-73.909051,-73.909239,-73.909051,-73.909914,-73.909914,-73.910658,-73.909239,-73.909051,-73.906197,-73.923811,-73.909051,-73.909239,-73.906197,-73.909239,-73.918496,-73.9224,-73.909051,-73.910658,-73.909914,-73.913661,-73.909239,-73.911575,-73.916094,-73.911575,-73.917486,-73.913661,-73.915268,-73.909239,-73.916185,-73.915561,-73.914381,-73.915052,-73.915561,-73.915213,-73.923811,-73.917842,-73.909051,-73.906197,-73.909239,-73.9224,-73.919485,-73.921922,-73.920601],\"y0\":[81.729148,81.728238,81.729948,81.728238,81.729148,81.727164,81.729948,81.728238,81.729916,81.729148,81.729948,81.731606,81.728238,81.727886,81.729916,81.727328,81.727164,81.721158,81.731498,81.729916,81.73179,81.727328,81.728238,81.727164,81.729148,81.721158,81.727164,81.729948,81.729916,81.730646,81.731606,81.730998,81.732154,81.731606,81.729948,81.730998,81.732154,81.730998,81.732394,81.731606,81.732154,81.735648,81.731498,81.732394,81.730998,81.731498,81.730646,81.729916,81.73179,81.732394,81.731498,81.731498,81.730998,81.730646,81.729948,81.730646,81.730998,81.732154,81.732394,81.733314,81.727328,81.727886,81.728238,81.727886,81.727328,81.7281,81.725142,81.727328,81.721158,81.727328,81.725142,81.7281,81.7281,81.73179,81.729916,81.719044,81.725142,81.721158,81.719044,81.71762,81.754618,81.725924,81.7281,81.725142,81.719044,81.721158,81.71762,81.73082,81.7281,81.725924,81.73179,81.731928,81.732458,81.73179,81.7281,81.731928,81.733312,81.732458,81.731928,81.732394,81.73179,81.733172,81.732112,81.73082,81.732542,81.73082,81.732112,81.731928,81.730592,81.732542,81.73082,81.733312,81.731928,81.732112,81.7281,81.73082,81.731928,81.733172,81.73179,81.732458,81.734856,81.732542,81.73242,81.7281,81.729916,81.727886,81.732542,81.733958,81.732112,81.732394,81.734106,81.733954,81.733954,81.733314,81.732394,81.734698,81.733954,81.734106,81.733314,81.733954,81.734692,81.734688,81.733172,81.733446,81.733172,81.734688,81.734106,81.733172,81.732458,81.733446,81.734688,81.733446,81.7365,81.733172,81.734106,81.732394,81.734698,81.734106,81.734688,81.735978,81.735648,81.734692,81.734692,81.735648,81.733314,81.734698,81.734692,81.733954,81.735978,81.734692,81.734698,81.747024,81.735648,81.735978,81.735978,81.734698,81.734688,81.7365,81.7402,81.735978,81.735648,81.747024,81.752166,81.734688,81.7365,81.735978,81.7365,81.733446,81.734524,81.733314,81.735648,81.732154,81.734524,81.735404,81.7365,81.734524,81.733312,81.733958,81.735404,81.734524,81.734856,81.7365,81.735404,81.736448,81.735404,81.734856,81.736448,81.734856,81.734524,81.733958,81.734856,81.733958,81.732542,81.73714,81.736448,81.736492,81.733312,81.732112,81.733958,81.736448,81.738836,81.7365,81.7402,81.747024,81.735978,81.7365,81.738836,81.7402,81.742098,81.7402,81.740168,81.747024,81.7402,81.742098,81.745204,81.742098,81.743564,81.7402,81.738836,81.740168,81.73714,81.738476,81.738836,81.742098,81.745204,81.747024,81.738836,81.736448,81.73714,81.752166,81.747024,81.748204,81.736492,81.736448,81.734856,81.733312,81.734524,81.733446,81.732458,81.733312,81.733446,81.746218,81.747024,81.745204,81.719044,81.724822,81.725142,81.726138,81.725924,81.725184,81.725184,81.725924,81.725142,81.724822,81.725184,81.725142,81.726138,81.725184,81.724822,81.727344,81.729348,81.725924,81.727344,81.726138,81.724822,81.729422,81.729348,81.729256,81.727344,81.725924,81.726138,81.724822,81.728394,81.727344,81.729348,81.730592,81.73082,81.738476,81.73706,81.736894,81.73706,81.73714,81.736492,81.736894,81.73706,81.736492,81.738476,81.740168,81.738836,81.736492,81.734856,81.73242,81.729348,81.729782,81.730592,81.729422,81.729782,81.729348,81.736492,81.736602,81.736894,81.730592,81.73242,81.732542,81.738476,81.736894,81.738336,81.729348,81.727344,81.728394,81.73706,81.738476,81.73714,81.729422,81.729256,81.729782,81.729256,81.729348,81.728394,81.729256,81.728394,81.731872,81.729782,81.729256,81.731872,81.73242,81.731872,81.7357,81.73242,81.730592,81.731872,81.738562,81.7357,81.731872,81.73242,81.7357,81.736602,81.731872,81.728394,81.738562,81.73242,81.736602,81.736492,81.736602,81.73804,81.738336,81.736602,81.7357,81.73804,81.739648,81.738336,81.73804,81.736602,81.738336,81.736894,81.738846,81.738562,81.739382,81.738562,81.738846,81.73804,81.739382,81.738562,81.739882,81.739648,81.73804,81.738846,81.7357,81.738562,81.73804,81.738476,81.738336,81.73991,81.728394,81.748106,81.738562,81.730592,81.729782,81.731872,81.719044,81.728394,81.724822,81.739382,81.739786,81.738846,81.742572,81.742098,81.741314,81.740168,81.738476,81.741314,81.742098,81.742572,81.743564,81.741314,81.742098,81.740168,81.744488,81.742572,81.73991,81.73991,81.742572,81.741314,81.741314,81.738476,81.73991,81.743564,81.742572,81.74579,81.738336,81.739648,81.73991,81.744488,81.74579,81.742572,81.746218,81.747214,81.748204,81.747214,81.746218,81.74579,81.748204,81.747214,81.747664,81.746218,81.748204,81.747024,81.747214,81.747732,81.747664,81.747732,81.747214,81.74579,81.744488,81.747732,81.74579,81.747664,81.747732,81.748204,81.746218,81.743564,81.74579,81.748204,81.747732,81.749178,81.739648,81.743166,81.73991,81.743564,81.746218,81.745204,81.743166,81.739786,81.741806,81.739786,81.739648,81.738846,81.741806,81.739786,81.739882,81.743166,81.744488,81.73991,81.742372,81.742756,81.743166,81.741806,81.738562,81.742372,81.742756,81.742372,81.74574,81.742372,81.743166,81.741806,81.738562,81.741806,81.739882,81.743166,81.742756,81.74574,81.74574,81.749178,81.747732,81.74574,81.744488,81.743166,81.749178,81.74574,81.748106,81.750734,81.748204,81.749178,81.74892,81.748106,81.750734,81.748106,81.74892,81.749178,81.752166,81.750734,81.754618,81.754618,81.750734,81.748106,81.719044,81.748106,81.728394,81.74892,81.750734,81.749178,81.74574,81.742372,81.748106,81.747732,81.744488,81.74574,81.748106,81.742372,81.738562,81.743166,81.739648,81.739786,81.739382,81.739882,81.739786,81.750734,81.752166,81.748204,81.719044,81.754618,81.748106,81.725924,81.729348,81.73082],\"y1\":[81.728238,81.729948,81.729148,81.729148,81.727164,81.728238,81.728238,81.729916,81.729948,81.729948,81.731606,81.729148,81.727886,81.729916,81.728238,81.727164,81.721158,81.727328,81.729916,81.73179,81.731498,81.728238,81.727164,81.727328,81.721158,81.727164,81.729148,81.729916,81.730646,81.729948,81.730998,81.732154,81.731606,81.729948,81.730998,81.731606,81.730998,81.732394,81.732154,81.732154,81.735648,81.731606,81.732394,81.730998,81.731498,81.730646,81.729916,81.731498,81.732394,81.731498,81.73179,81.730998,81.730646,81.731498,81.730646,81.730998,81.729948,81.732394,81.733314,81.732154,81.727886,81.728238,81.727328,81.727328,81.7281,81.727886,81.727328,81.721158,81.725142,81.725142,81.7281,81.727328,81.73179,81.729916,81.7281,81.725142,81.721158,81.719044,81.71762,81.754618,81.719044,81.7281,81.725142,81.725924,81.721158,81.71762,81.719044,81.7281,81.725924,81.73082,81.731928,81.732458,81.73179,81.7281,81.731928,81.73179,81.732458,81.731928,81.733312,81.73179,81.733172,81.732394,81.73082,81.732542,81.732112,81.732112,81.731928,81.73082,81.732542,81.73082,81.730592,81.731928,81.732112,81.733312,81.73082,81.731928,81.7281,81.73179,81.732458,81.733172,81.732542,81.73242,81.734856,81.729916,81.727886,81.7281,81.733958,81.732112,81.732542,81.734106,81.733954,81.732394,81.733314,81.732394,81.733954,81.733954,81.734106,81.734698,81.733954,81.734692,81.733314,81.733172,81.733446,81.734688,81.734688,81.734106,81.733172,81.732458,81.733446,81.733172,81.733446,81.7365,81.734688,81.734106,81.732394,81.733172,81.734106,81.734688,81.734698,81.735648,81.734692,81.735978,81.735648,81.733314,81.734692,81.734692,81.733954,81.734698,81.734692,81.734698,81.735978,81.735648,81.735978,81.747024,81.734698,81.734688,81.735978,81.7402,81.735978,81.7365,81.747024,81.752166,81.735648,81.7365,81.735978,81.734688,81.733446,81.734524,81.7365,81.735648,81.732154,81.733314,81.735404,81.7365,81.734524,81.733312,81.733958,81.734524,81.734524,81.734856,81.735404,81.735404,81.736448,81.7365,81.734856,81.736448,81.735404,81.734524,81.733958,81.734856,81.733958,81.732542,81.734856,81.736448,81.736492,81.73714,81.732112,81.733958,81.733312,81.738836,81.7365,81.736448,81.747024,81.735978,81.7402,81.738836,81.7402,81.7365,81.7402,81.740168,81.742098,81.7402,81.742098,81.747024,81.742098,81.743564,81.745204,81.738836,81.740168,81.7402,81.738476,81.738836,81.73714,81.745204,81.747024,81.742098,81.736448,81.73714,81.738836,81.747024,81.748204,81.752166,81.736448,81.734856,81.736492,81.734524,81.733446,81.733312,81.733312,81.733446,81.732458,81.747024,81.745204,81.746218,81.724822,81.725142,81.719044,81.725924,81.725184,81.726138,81.725924,81.725142,81.725184,81.725184,81.725142,81.724822,81.725184,81.724822,81.726138,81.729348,81.725924,81.727344,81.726138,81.724822,81.727344,81.729348,81.729256,81.729422,81.725924,81.726138,81.727344,81.728394,81.727344,81.724822,81.730592,81.73082,81.729348,81.73706,81.736894,81.738476,81.73714,81.736492,81.73706,81.73706,81.736492,81.736894,81.740168,81.738836,81.738476,81.734856,81.73242,81.736492,81.729782,81.730592,81.729348,81.729782,81.729348,81.729422,81.736602,81.736894,81.736492,81.73242,81.732542,81.730592,81.736894,81.738336,81.738476,81.727344,81.728394,81.729348,81.738476,81.73714,81.73706,81.729256,81.729782,81.729422,81.729348,81.728394,81.729256,81.728394,81.731872,81.729256,81.729256,81.731872,81.729782,81.731872,81.7357,81.73242,81.730592,81.731872,81.73242,81.7357,81.731872,81.738562,81.7357,81.736602,81.73242,81.728394,81.738562,81.731872,81.736602,81.736492,81.73242,81.73804,81.738336,81.736602,81.7357,81.73804,81.736602,81.738336,81.73804,81.739648,81.738336,81.736894,81.736602,81.738562,81.739382,81.738846,81.738846,81.73804,81.738562,81.738562,81.739882,81.739382,81.73804,81.738846,81.739648,81.738562,81.73804,81.7357,81.738336,81.73991,81.738476,81.748106,81.738562,81.728394,81.729782,81.731872,81.730592,81.728394,81.724822,81.719044,81.739786,81.738846,81.739382,81.742098,81.741314,81.742572,81.738476,81.741314,81.740168,81.742572,81.743564,81.742098,81.742098,81.740168,81.741314,81.742572,81.73991,81.744488,81.742572,81.741314,81.73991,81.738476,81.73991,81.741314,81.742572,81.74579,81.743564,81.739648,81.73991,81.738336,81.74579,81.742572,81.744488,81.747214,81.748204,81.746218,81.746218,81.74579,81.747214,81.747214,81.747664,81.748204,81.748204,81.747024,81.746218,81.747732,81.747664,81.747214,81.747214,81.74579,81.747732,81.747732,81.74579,81.744488,81.747732,81.748204,81.747664,81.743564,81.74579,81.746218,81.747732,81.749178,81.748204,81.743166,81.73991,81.739648,81.746218,81.745204,81.743564,81.739786,81.741806,81.743166,81.739648,81.738846,81.739786,81.739786,81.739882,81.741806,81.744488,81.73991,81.743166,81.742756,81.743166,81.742372,81.738562,81.742372,81.741806,81.742372,81.74574,81.742756,81.743166,81.741806,81.742372,81.741806,81.739882,81.738562,81.742756,81.74574,81.743166,81.749178,81.747732,81.74574,81.744488,81.743166,81.74574,81.74574,81.748106,81.749178,81.748204,81.749178,81.750734,81.748106,81.750734,81.74892,81.74892,81.749178,81.748106,81.750734,81.754618,81.752166,81.750734,81.748106,81.754618,81.748106,81.728394,81.719044,81.750734,81.749178,81.74892,81.742372,81.748106,81.74574,81.744488,81.74574,81.747732,81.742372,81.738562,81.748106,81.739648,81.739786,81.743166,81.739882,81.739786,81.739382,81.752166,81.748204,81.750734,81.754618,81.748106,81.719044,81.729348,81.73082,81.725924]}},\"id\":\"3f2ba88d-3cbb-418e-8cf1-61713e41acfe\",\"type\":\"ColumnDataSource\"},{\"attributes\":{\"overlay\":{\"id\":\"20228f0f-541c-4cf6-878b-eed477fef70c\",\"type\":\"PolyAnnotation\"},\"plot\":{\"id\":\"0c117672-db4e-437c-b2cf-bbb1188be13a\",\"subtype\":\"Figure\",\"type\":\"Plot\"}},\"id\":\"10b6001b-1a6a-4e01-9c39-0f392fb805a4\",\"type\":\"PolySelectTool\"},{\"attributes\":{},\"id\":\"2a830263-41db-45a5-b3f5-79e5236fb078\",\"type\":\"BasicTickFormatter\"},{\"attributes\":{\"plot\":{\"id\":\"0c117672-db4e-437c-b2cf-bbb1188be13a\",\"subtype\":\"Figure\",\"type\":\"Plot\"}},\"id\":\"1e9f7a20-e6a1-48fe-b8b1-621d9b41afed\",\"type\":\"WheelZoomTool\"},{\"attributes\":{},\"id\":\"d5c6bb72-0c37-4921-8731-e8918d9af16a\",\"type\":\"ToolEvents\"},{\"attributes\":{\"data_source\":{\"id\":\"35292b2b-5881-4a8e-b523-763225563724\",\"type\":\"ColumnDataSource\"},\"glyph\":{\"id\":\"3abe1186-d7ea-4c7d-b2e2-e6d4d383a58f\",\"type\":\"Patches\"},\"hover_glyph\":null,\"nonselection_glyph\":{\"id\":\"cf137317-fec6-47c7-b290-6215524491a8\",\"type\":\"Patches\"},\"selection_glyph\":null},\"id\":\"10de9b76-9e36-4a9f-ad93-8f90764c64c4\",\"type\":\"GlyphRenderer\"},{\"attributes\":{\"callback\":null},\"id\":\"add07c5f-6096-4186-8e0d-9e9810e6b98c\",\"type\":\"DataRange1d\"},{\"attributes\":{\"callback\":null,\"column_names\":[\"y\",\"x\"],\"data\":{\"x\":[-73.929862,-73.928065,-73.921309,-73.921463,-73.926723,-73.915564,-73.927685,-73.914381,-73.917582,-73.919259,-73.913661,-73.917479,-73.910658,-73.915213,-73.915268,-73.922285,-73.928573,-73.927722,-73.922804,-73.921674,-73.909239,-73.927906,-73.923133,-73.917737,-73.925274,-73.924374,-73.928038,-73.927068,-73.920601,-73.917486,-73.929252,-73.915561,-73.922796,-73.91879,-73.918366,-73.92818,-73.919893,-73.906197,-73.925597,-73.922238,-73.919485,-73.921009,-73.91774,-73.909051,-73.920577,-73.918347,-73.923711,-73.930212,-73.923048,-73.919757,-73.921922,-73.919259,-73.923811,-73.924762,-73.920096,-73.921741,-73.919098,-73.916094,-73.918955,-73.92668,-73.928236,-73.918982,-73.911575,-73.927125,-73.922308,-73.925905,-73.919204,-73.918496,-73.909914,-73.913484,-73.928845,-73.919735,-73.925251,-73.922754,-73.9224,-73.916895,-73.915052,-73.926389,-73.920186,-73.918067,-73.918093,-73.928419,-73.91933,-73.921721,-73.929394,-73.927118,-73.916993,-73.929535,-73.916185,-73.923,-73.917842,-73.918741,-73.92018,-73.913964,-73.929108,-73.922118,-73.923694],\"y\":[81.731606,81.727164,81.745204,81.73714,81.734688,81.738846,81.731498,81.743166,81.73991,81.741314,81.742372,81.738336,81.749178,81.739382,81.738562,81.7402,81.733954,81.732394,81.735404,81.742098,81.748106,81.729916,81.731928,81.74579,81.7281,81.733446,81.734698,81.727328,81.725924,81.747732,81.733314,81.739786,81.732112,81.746218,81.736602,81.730646,81.743564,81.754618,81.721158,81.733958,81.729348,81.740168,81.747664,81.750734,81.725184,81.73242,81.733312,81.735648,81.71762,81.726138,81.73082,81.736894,81.752166,81.732458,81.724822,81.734856,81.742572,81.744488,81.729782,81.733172,81.730998,81.729422,81.74574,81.734106,81.736448,81.73179,81.727344,81.728394,81.74892,81.742756,81.729948,81.738476,81.7365,81.725142,81.719044,81.7357,81.739882,81.727886,81.73706,81.747214,81.731872,81.728238,81.730592,81.732542,81.729148,81.735978,81.73804,81.732154,81.739648,81.734524,81.748204,81.729256,81.736492,81.741806,81.734692,81.738836,81.747024]}},\"id\":\"042fe0a0-2b0a-4ba3-bdc8-03ecc33ad94c\",\"type\":\"ColumnDataSource\"},{\"attributes\":{\"callback\":null,\"column_names\":[\"xs\",\"ys\"],\"data\":{\"xs\":[[-73.929394,-73.928419,-73.928845],[-73.928419,-73.929394,-73.928065],[-73.928845,-73.928419,-73.927906],[-73.929394,-73.928845,-73.929862],[-73.928419,-73.926389,-73.927906],[-73.927068,-73.928065,-73.925597],[-73.927685,-73.927906,-73.925905],[-73.927068,-73.928419,-73.928065],[-73.929394,-73.925597,-73.928065],[-73.928845,-73.927906,-73.92818],[-73.929862,-73.928236,-73.929535],[-73.929862,-73.928845,-73.928236],[-73.929535,-73.928236,-73.927722],[-73.929862,-73.929535,-73.930212],[-73.927685,-73.927722,-73.928236],[-73.927685,-73.92818,-73.927906],[-73.925905,-73.927722,-73.927685],[-73.927685,-73.928236,-73.92818],[-73.928845,-73.92818,-73.928236],[-73.929535,-73.927722,-73.929252],[-73.927068,-73.926389,-73.928419],[-73.926389,-73.927068,-73.925274],[-73.922754,-73.927068,-73.925597],[-73.927068,-73.922754,-73.925274],[-73.925274,-73.925905,-73.927906],[-73.9224,-73.922754,-73.925597],[-73.9224,-73.923048,-73.906197],[-73.920601,-73.925274,-73.922754],[-73.9224,-73.925597,-73.923048],[-73.921922,-73.925274,-73.920601],[-73.925905,-73.923133,-73.924762],[-73.925905,-73.925274,-73.923133],[-73.923711,-73.924762,-73.923133],[-73.927722,-73.925905,-73.92668],[-73.922796,-73.921922,-73.921721],[-73.921922,-73.922796,-73.923133],[-73.91933,-73.921721,-73.921922],[-73.923711,-73.923133,-73.922796],[-73.925274,-73.921922,-73.923133],[-73.92668,-73.925905,-73.924762],[-73.921741,-73.921721,-73.918347],[-73.925274,-73.927906,-73.926389],[-73.921721,-73.922238,-73.922796],[-73.927722,-73.927125,-73.928573],[-73.928573,-73.929252,-73.927722],[-73.928038,-73.928573,-73.927125],[-73.929252,-73.928573,-73.929108],[-73.926723,-73.92668,-73.924374],[-73.92668,-73.926723,-73.927125],[-73.92668,-73.924762,-73.924374],[-73.926723,-73.924374,-73.925251],[-73.92668,-73.927125,-73.927722],[-73.928038,-73.927125,-73.926723],[-73.927118,-73.930212,-73.929108],[-73.929108,-73.930212,-73.929252],[-73.928038,-73.929108,-73.928573],[-73.927118,-73.929108,-73.928038],[-73.923694,-73.930212,-73.927118],[-73.927118,-73.928038,-73.926723],[-73.925251,-73.922285,-73.927118],[-73.930212,-73.923694,-73.923811],[-73.926723,-73.925251,-73.927118],[-73.925251,-73.924374,-73.923],[-73.929252,-73.930212,-73.929535],[-73.923,-73.922804,-73.925251],[-73.923,-73.923711,-73.922238],[-73.922804,-73.923,-73.921741],[-73.925251,-73.922804,-73.922308],[-73.922804,-73.921741,-73.922308],[-73.921741,-73.923,-73.922238],[-73.921741,-73.922238,-73.921721],[-73.921463,-73.922308,-73.92018],[-73.923711,-73.922796,-73.922238],[-73.922308,-73.922118,-73.925251],[-73.922285,-73.923694,-73.927118],[-73.925251,-73.922118,-73.922285],[-73.921674,-73.922285,-73.921009],[-73.923694,-73.922285,-73.921674],[-73.921309,-73.921674,-73.919893],[-73.922285,-73.922118,-73.921009],[-73.921463,-73.919735,-73.922118],[-73.921674,-73.921309,-73.923694],[-73.922118,-73.922308,-73.921463],[-73.923811,-73.923694,-73.917842],[-73.92018,-73.922308,-73.921741],[-73.923711,-73.923,-73.924374],[-73.924762,-73.923711,-73.924374],[-73.91879,-73.923694,-73.921309],[-73.9224,-73.920096,-73.922754],[-73.919757,-73.920601,-73.920577],[-73.920577,-73.920601,-73.922754],[-73.920096,-73.920577,-73.922754],[-73.919757,-73.920577,-73.920096],[-73.919204,-73.919485,-73.920601],[-73.919204,-73.919757,-73.920096],[-73.918982,-73.919485,-73.918741],[-73.919204,-73.920601,-73.919757],[-73.920096,-73.918496,-73.919204],[-73.919485,-73.91933,-73.921922],[-73.919735,-73.920186,-73.919259],[-73.920186,-73.921463,-73.92018],[-73.919259,-73.920186,-73.92018],[-73.919735,-73.921009,-73.922118],[-73.92018,-73.921741,-73.918347],[-73.919485,-73.918955,-73.91933],[-73.918982,-73.918955,-73.919485],[-73.92018,-73.918366,-73.919259],[-73.91933,-73.918347,-73.921721],[-73.919735,-73.919259,-73.917479],[-73.919485,-73.919204,-73.918496],[-73.920186,-73.919735,-73.921463],[-73.918982,-73.918741,-73.918955],[-73.918741,-73.919485,-73.918496],[-73.918741,-73.918496,-73.918093],[-73.918955,-73.918741,-73.918093],[-73.918347,-73.918093,-73.916895],[-73.918347,-73.91933,-73.918093],[-73.915268,-73.916895,-73.918093],[-73.918347,-73.916895,-73.918366],[-73.918093,-73.918496,-73.915268],[-73.918347,-73.918366,-73.92018],[-73.918366,-73.916993,-73.917479],[-73.918366,-73.916895,-73.916993],[-73.916185,-73.917479,-73.916993],[-73.918366,-73.917479,-73.919259],[-73.915564,-73.915268,-73.915213],[-73.915268,-73.915564,-73.916993],[-73.915213,-73.915268,-73.915052],[-73.916185,-73.916993,-73.915564],[-73.916895,-73.915268,-73.916993],[-73.919735,-73.917479,-73.917582],[-73.918496,-73.909239,-73.915268],[-73.91933,-73.918955,-73.918093],[-73.9224,-73.918496,-73.920096],[-73.915213,-73.915561,-73.915564],[-73.919098,-73.921674,-73.919259],[-73.921009,-73.919735,-73.919259],[-73.921674,-73.919098,-73.919893],[-73.919259,-73.921674,-73.921009],[-73.916094,-73.919098,-73.917582],[-73.917582,-73.919098,-73.919259],[-73.919259,-73.919735,-73.917582],[-73.919893,-73.919098,-73.917737],[-73.917479,-73.916185,-73.917582],[-73.916094,-73.917737,-73.919098],[-73.91879,-73.918067,-73.917842],[-73.918067,-73.91879,-73.917737],[-73.917842,-73.918067,-73.91774],[-73.91879,-73.917842,-73.923694],[-73.918067,-73.917486,-73.91774],[-73.917486,-73.918067,-73.917737],[-73.916094,-73.917486,-73.917737],[-73.91774,-73.917486,-73.917842],[-73.91879,-73.919893,-73.917737],[-73.917842,-73.917486,-73.910658],[-73.916185,-73.914381,-73.917582],[-73.919893,-73.91879,-73.921309],[-73.914381,-73.915561,-73.913964],[-73.915561,-73.916185,-73.915564],[-73.913964,-73.915561,-73.915052],[-73.914381,-73.916094,-73.917582],[-73.913661,-73.913484,-73.914381],[-73.913964,-73.915268,-73.913661],[-73.913484,-73.913661,-73.911575],[-73.913661,-73.914381,-73.913964],[-73.915268,-73.913964,-73.915052],[-73.914381,-73.913484,-73.911575],[-73.911575,-73.910658,-73.917486],[-73.911575,-73.916094,-73.914381],[-73.910658,-73.911575,-73.909239],[-73.909051,-73.917842,-73.910658],[-73.909914,-73.909239,-73.909051],[-73.909239,-73.909914,-73.910658],[-73.923811,-73.909051,-73.906197],[-73.906197,-73.909051,-73.909239],[-73.9224,-73.909239,-73.918496],[-73.909914,-73.909051,-73.910658],[-73.911575,-73.913661,-73.909239],[-73.917486,-73.916094,-73.911575],[-73.909239,-73.913661,-73.915268],[-73.914381,-73.916185,-73.915561],[-73.915213,-73.915052,-73.915561],[-73.909051,-73.923811,-73.917842],[-73.9224,-73.906197,-73.909239],[-73.920601,-73.919485,-73.921922]],\"ys\":[[81.729148,81.728238,81.729948],[81.728238,81.729148,81.727164],[81.729948,81.728238,81.729916],[81.729148,81.729948,81.731606],[81.728238,81.727886,81.729916],[81.727328,81.727164,81.721158],[81.731498,81.729916,81.73179],[81.727328,81.728238,81.727164],[81.729148,81.721158,81.727164],[81.729948,81.729916,81.730646],[81.731606,81.730998,81.732154],[81.731606,81.729948,81.730998],[81.732154,81.730998,81.732394],[81.731606,81.732154,81.735648],[81.731498,81.732394,81.730998],[81.731498,81.730646,81.729916],[81.73179,81.732394,81.731498],[81.731498,81.730998,81.730646],[81.729948,81.730646,81.730998],[81.732154,81.732394,81.733314],[81.727328,81.727886,81.728238],[81.727886,81.727328,81.7281],[81.725142,81.727328,81.721158],[81.727328,81.725142,81.7281],[81.7281,81.73179,81.729916],[81.719044,81.725142,81.721158],[81.719044,81.71762,81.754618],[81.725924,81.7281,81.725142],[81.719044,81.721158,81.71762],[81.73082,81.7281,81.725924],[81.73179,81.731928,81.732458],[81.73179,81.7281,81.731928],[81.733312,81.732458,81.731928],[81.732394,81.73179,81.733172],[81.732112,81.73082,81.732542],[81.73082,81.732112,81.731928],[81.730592,81.732542,81.73082],[81.733312,81.731928,81.732112],[81.7281,81.73082,81.731928],[81.733172,81.73179,81.732458],[81.734856,81.732542,81.73242],[81.7281,81.729916,81.727886],[81.732542,81.733958,81.732112],[81.732394,81.734106,81.733954],[81.733954,81.733314,81.732394],[81.734698,81.733954,81.734106],[81.733314,81.733954,81.734692],[81.734688,81.733172,81.733446],[81.733172,81.734688,81.734106],[81.733172,81.732458,81.733446],[81.734688,81.733446,81.7365],[81.733172,81.734106,81.732394],[81.734698,81.734106,81.734688],[81.735978,81.735648,81.734692],[81.734692,81.735648,81.733314],[81.734698,81.734692,81.733954],[81.735978,81.734692,81.734698],[81.747024,81.735648,81.735978],[81.735978,81.734698,81.734688],[81.7365,81.7402,81.735978],[81.735648,81.747024,81.752166],[81.734688,81.7365,81.735978],[81.7365,81.733446,81.734524],[81.733314,81.735648,81.732154],[81.734524,81.735404,81.7365],[81.734524,81.733312,81.733958],[81.735404,81.734524,81.734856],[81.7365,81.735404,81.736448],[81.735404,81.734856,81.736448],[81.734856,81.734524,81.733958],[81.734856,81.733958,81.732542],[81.73714,81.736448,81.736492],[81.733312,81.732112,81.733958],[81.736448,81.738836,81.7365],[81.7402,81.747024,81.735978],[81.7365,81.738836,81.7402],[81.742098,81.7402,81.740168],[81.747024,81.7402,81.742098],[81.745204,81.742098,81.743564],[81.7402,81.738836,81.740168],[81.73714,81.738476,81.738836],[81.742098,81.745204,81.747024],[81.738836,81.736448,81.73714],[81.752166,81.747024,81.748204],[81.736492,81.736448,81.734856],[81.733312,81.734524,81.733446],[81.732458,81.733312,81.733446],[81.746218,81.747024,81.745204],[81.719044,81.724822,81.725142],[81.726138,81.725924,81.725184],[81.725184,81.725924,81.725142],[81.724822,81.725184,81.725142],[81.726138,81.725184,81.724822],[81.727344,81.729348,81.725924],[81.727344,81.726138,81.724822],[81.729422,81.729348,81.729256],[81.727344,81.725924,81.726138],[81.724822,81.728394,81.727344],[81.729348,81.730592,81.73082],[81.738476,81.73706,81.736894],[81.73706,81.73714,81.736492],[81.736894,81.73706,81.736492],[81.738476,81.740168,81.738836],[81.736492,81.734856,81.73242],[81.729348,81.729782,81.730592],[81.729422,81.729782,81.729348],[81.736492,81.736602,81.736894],[81.730592,81.73242,81.732542],[81.738476,81.736894,81.738336],[81.729348,81.727344,81.728394],[81.73706,81.738476,81.73714],[81.729422,81.729256,81.729782],[81.729256,81.729348,81.728394],[81.729256,81.728394,81.731872],[81.729782,81.729256,81.731872],[81.73242,81.731872,81.7357],[81.73242,81.730592,81.731872],[81.738562,81.7357,81.731872],[81.73242,81.7357,81.736602],[81.731872,81.728394,81.738562],[81.73242,81.736602,81.736492],[81.736602,81.73804,81.738336],[81.736602,81.7357,81.73804],[81.739648,81.738336,81.73804],[81.736602,81.738336,81.736894],[81.738846,81.738562,81.739382],[81.738562,81.738846,81.73804],[81.739382,81.738562,81.739882],[81.739648,81.73804,81.738846],[81.7357,81.738562,81.73804],[81.738476,81.738336,81.73991],[81.728394,81.748106,81.738562],[81.730592,81.729782,81.731872],[81.719044,81.728394,81.724822],[81.739382,81.739786,81.738846],[81.742572,81.742098,81.741314],[81.740168,81.738476,81.741314],[81.742098,81.742572,81.743564],[81.741314,81.742098,81.740168],[81.744488,81.742572,81.73991],[81.73991,81.742572,81.741314],[81.741314,81.738476,81.73991],[81.743564,81.742572,81.74579],[81.738336,81.739648,81.73991],[81.744488,81.74579,81.742572],[81.746218,81.747214,81.748204],[81.747214,81.746218,81.74579],[81.748204,81.747214,81.747664],[81.746218,81.748204,81.747024],[81.747214,81.747732,81.747664],[81.747732,81.747214,81.74579],[81.744488,81.747732,81.74579],[81.747664,81.747732,81.748204],[81.746218,81.743564,81.74579],[81.748204,81.747732,81.749178],[81.739648,81.743166,81.73991],[81.743564,81.746218,81.745204],[81.743166,81.739786,81.741806],[81.739786,81.739648,81.738846],[81.741806,81.739786,81.739882],[81.743166,81.744488,81.73991],[81.742372,81.742756,81.743166],[81.741806,81.738562,81.742372],[81.742756,81.742372,81.74574],[81.742372,81.743166,81.741806],[81.738562,81.741806,81.739882],[81.743166,81.742756,81.74574],[81.74574,81.749178,81.747732],[81.74574,81.744488,81.743166],[81.749178,81.74574,81.748106],[81.750734,81.748204,81.749178],[81.74892,81.748106,81.750734],[81.748106,81.74892,81.749178],[81.752166,81.750734,81.754618],[81.754618,81.750734,81.748106],[81.719044,81.748106,81.728394],[81.74892,81.750734,81.749178],[81.74574,81.742372,81.748106],[81.747732,81.744488,81.74574],[81.748106,81.742372,81.738562],[81.743166,81.739648,81.739786],[81.739382,81.739882,81.739786],[81.750734,81.752166,81.748204],[81.719044,81.754618,81.748106],[81.725924,81.729348,81.73082]]}},\"id\":\"35292b2b-5881-4a8e-b523-763225563724\",\"type\":\"ColumnDataSource\"},{\"attributes\":{\"data_source\":{\"id\":\"3f2ba88d-3cbb-418e-8cf1-61713e41acfe\",\"type\":\"ColumnDataSource\"},\"glyph\":{\"id\":\"b343765e-6ad4-40ff-8900-5dd9e0458675\",\"type\":\"Segment\"},\"hover_glyph\":null,\"nonselection_glyph\":{\"id\":\"bb513c0d-7997-4ec8-9940-53a2de4f56b0\",\"type\":\"Segment\"},\"selection_glyph\":null},\"id\":\"847f9d0a-374c-4169-a1ad-c820a2cb1854\",\"type\":\"GlyphRenderer\"},{\"attributes\":{\"fill_alpha\":{\"value\":0.5},\"fill_color\":{\"value\":\"lightgrey\"},\"level\":\"overlay\",\"line_alpha\":{\"value\":1.0},\"line_color\":{\"value\":\"black\"},\"line_dash\":[4,4],\"line_width\":{\"value\":2},\"plot\":null,\"xs_units\":\"screen\",\"ys_units\":\"screen\"},\"id\":\"a12ca0e0-22be-47cf-9e61-28a95c22dea9\",\"type\":\"PolyAnnotation\"},{\"attributes\":{\"plot\":{\"id\":\"0c117672-db4e-437c-b2cf-bbb1188be13a\",\"subtype\":\"Figure\",\"type\":\"Plot\"}},\"id\":\"952881fa-994d-4c9a-9ffa-f17baa306f44\",\"type\":\"PanTool\"},{\"attributes\":{},\"id\":\"12932351-4c4f-44b5-a4ff-937f33b7baf4\",\"type\":\"BasicTickFormatter\"},{\"attributes\":{\"formatter\":{\"id\":\"12932351-4c4f-44b5-a4ff-937f33b7baf4\",\"type\":\"BasicTickFormatter\"},\"plot\":{\"id\":\"0c117672-db4e-437c-b2cf-bbb1188be13a\",\"subtype\":\"Figure\",\"type\":\"Plot\"},\"ticker\":{\"id\":\"c511b338-f6de-4714-b94d-f139b4f52f95\",\"type\":\"BasicTicker\"}},\"id\":\"ca8c538f-a647-4c45-90a7-e84f4adb1639\",\"type\":\"LinearAxis\"},{\"attributes\":{\"bottom_units\":\"screen\",\"fill_alpha\":{\"value\":0.5},\"fill_color\":{\"value\":\"lightgrey\"},\"left_units\":\"screen\",\"level\":\"overlay\",\"line_alpha\":{\"value\":1.0},\"line_color\":{\"value\":\"black\"},\"line_dash\":[4,4],\"line_width\":{\"value\":2},\"plot\":null,\"render_mode\":\"css\",\"right_units\":\"screen\",\"top_units\":\"screen\"},\"id\":\"22f38205-e494-4944-818f-8d9c5cc63635\",\"type\":\"BoxAnnotation\"},{\"attributes\":{\"fill_alpha\":{\"value\":0.5},\"fill_color\":{\"value\":\"navy\"},\"line_alpha\":{\"value\":0.5},\"line_color\":{\"value\":\"navy\"},\"size\":{\"units\":\"screen\",\"value\":10},\"x\":{\"field\":\"x\"},\"y\":{\"field\":\"y\"}},\"id\":\"3644f182-695e-4fd7-96f6-feff1b3e29bc\",\"type\":\"Circle\"},{\"attributes\":{\"callback\":null},\"id\":\"839f406d-f6ad-46d7-aa7f-717f0b8fe691\",\"type\":\"DataRange1d\"},{\"attributes\":{\"active_drag\":\"auto\",\"active_scroll\":\"auto\",\"active_tap\":\"auto\",\"tools\":[{\"id\":\"62cf62d9-0217-4203-b2ec-b8bcc709ffcd\",\"type\":\"CrosshairTool\"},{\"id\":\"952881fa-994d-4c9a-9ffa-f17baa306f44\",\"type\":\"PanTool\"},{\"id\":\"1e9f7a20-e6a1-48fe-b8b1-621d9b41afed\",\"type\":\"WheelZoomTool\"},{\"id\":\"879ec05e-ea31-42ef-997f-d4554a7911f3\",\"type\":\"BoxZoomTool\"},{\"id\":\"1027239d-f265-4ae4-858e-cf5d18f4a572\",\"type\":\"UndoTool\"},{\"id\":\"de2ec78c-545d-4fcd-8c3f-e850b894b9d6\",\"type\":\"RedoTool\"},{\"id\":\"9418ef05-a981-447c-9567-d990545b1f15\",\"type\":\"ResetTool\"},{\"id\":\"f8ead40c-386e-4033-93a9-e111b0e70604\",\"type\":\"TapTool\"},{\"id\":\"50a0896f-a645-45d5-a926-f29275a07325\",\"type\":\"SaveTool\"},{\"id\":\"f692025f-ad76-4904-94fb-74c5ff359f6b\",\"type\":\"BoxSelectTool\"},{\"id\":\"10b6001b-1a6a-4e01-9c39-0f392fb805a4\",\"type\":\"PolySelectTool\"},{\"id\":\"af37eff1-f878-4682-a780-7f4cb1d526ef\",\"type\":\"LassoSelectTool\"}]},\"id\":\"47033ccf-d9bf-4349-9b1e-39b91438f819\",\"type\":\"Toolbar\"},{\"attributes\":{\"fill_alpha\":{\"value\":0.1},\"fill_color\":{\"value\":\"#1f77b4\"},\"line_alpha\":{\"value\":0.1},\"line_color\":{\"value\":\"#1f77b4\"},\"xs\":{\"field\":\"xs\"},\"ys\":{\"field\":\"ys\"}},\"id\":\"cf137317-fec6-47c7-b290-6215524491a8\",\"type\":\"Patches\"},{\"attributes\":{\"fill_alpha\":{\"value\":0.1},\"fill_color\":{\"value\":\"#1f77b4\"},\"line_alpha\":{\"value\":0.1},\"line_color\":{\"value\":\"#1f77b4\"},\"size\":{\"units\":\"screen\",\"value\":10},\"x\":{\"field\":\"x\"},\"y\":{\"field\":\"y\"}},\"id\":\"89f8fdec-2454-4590-804b-13ce38d0b1c8\",\"type\":\"Circle\"},{\"attributes\":{\"callback\":null,\"overlay\":{\"id\":\"bb1f2f1a-693e-4c83-9446-bb5702f3585b\",\"type\":\"BoxAnnotation\"},\"plot\":{\"id\":\"0c117672-db4e-437c-b2cf-bbb1188be13a\",\"subtype\":\"Figure\",\"type\":\"Plot\"},\"renderers\":[{\"id\":\"10de9b76-9e36-4a9f-ad93-8f90764c64c4\",\"type\":\"GlyphRenderer\"},{\"id\":\"847f9d0a-374c-4169-a1ad-c820a2cb1854\",\"type\":\"GlyphRenderer\"},{\"id\":\"67ef73d8-b92b-4b50-96a5-1a07ba41cf7b\",\"type\":\"GlyphRenderer\"}]},\"id\":\"f692025f-ad76-4904-94fb-74c5ff359f6b\",\"type\":\"BoxSelectTool\"},{\"attributes\":{\"overlay\":{\"id\":\"22f38205-e494-4944-818f-8d9c5cc63635\",\"type\":\"BoxAnnotation\"},\"plot\":{\"id\":\"0c117672-db4e-437c-b2cf-bbb1188be13a\",\"subtype\":\"Figure\",\"type\":\"Plot\"}},\"id\":\"879ec05e-ea31-42ef-997f-d4554a7911f3\",\"type\":\"BoxZoomTool\"},{\"attributes\":{\"formatter\":{\"id\":\"2a830263-41db-45a5-b3f5-79e5236fb078\",\"type\":\"BasicTickFormatter\"},\"plot\":{\"id\":\"0c117672-db4e-437c-b2cf-bbb1188be13a\",\"subtype\":\"Figure\",\"type\":\"Plot\"},\"ticker\":{\"id\":\"ad0a879c-08ba-4050-83dd-54ae47881cda\",\"type\":\"BasicTicker\"}},\"id\":\"790ac942-78fb-492e-ba49-cf28057f04ba\",\"type\":\"LinearAxis\"},{\"attributes\":{\"callback\":null,\"overlay\":{\"id\":\"a12ca0e0-22be-47cf-9e61-28a95c22dea9\",\"type\":\"PolyAnnotation\"},\"plot\":{\"id\":\"0c117672-db4e-437c-b2cf-bbb1188be13a\",\"subtype\":\"Figure\",\"type\":\"Plot\"}},\"id\":\"af37eff1-f878-4682-a780-7f4cb1d526ef\",\"type\":\"LassoSelectTool\"},{\"attributes\":{\"callback\":null,\"plot\":{\"id\":\"0c117672-db4e-437c-b2cf-bbb1188be13a\",\"subtype\":\"Figure\",\"type\":\"Plot\"}},\"id\":\"f8ead40c-386e-4033-93a9-e111b0e70604\",\"type\":\"TapTool\"},{\"attributes\":{\"fill_color\":{\"value\":\"#1f77b4\"},\"line_color\":{\"value\":\"#1f77b4\"},\"xs\":{\"field\":\"xs\"},\"ys\":{\"field\":\"ys\"}},\"id\":\"3abe1186-d7ea-4c7d-b2e2-e6d4d383a58f\",\"type\":\"Patches\"},{\"attributes\":{\"plot\":{\"id\":\"0c117672-db4e-437c-b2cf-bbb1188be13a\",\"subtype\":\"Figure\",\"type\":\"Plot\"}},\"id\":\"1027239d-f265-4ae4-858e-cf5d18f4a572\",\"type\":\"UndoTool\"},{\"attributes\":{\"plot\":{\"id\":\"0c117672-db4e-437c-b2cf-bbb1188be13a\",\"subtype\":\"Figure\",\"type\":\"Plot\"}},\"id\":\"50a0896f-a645-45d5-a926-f29275a07325\",\"type\":\"SaveTool\"},{\"attributes\":{},\"id\":\"c511b338-f6de-4714-b94d-f139b4f52f95\",\"type\":\"BasicTicker\"}],\"root_ids\":[\"0c117672-db4e-437c-b2cf-bbb1188be13a\"]},\"title\":\"Bokeh Application\",\"version\":\"0.12.1\"}};\n",
       "            var render_items = [{\"docid\":\"f57bea37-acb3-48a4-ac48-e7a5d7e7bd89\",\"elementid\":\"d740610a-844d-4032-9e6a-a88b4ebf5da8\",\"modelid\":\"0c117672-db4e-437c-b2cf-bbb1188be13a\",\"notebook_comms_target\":\"7e0862a3-c454-4a83-8c28-3a687ed407a7\"}];\n",
       "            \n",
       "            Bokeh.embed.embed_items(docs_json, render_items);\n",
       "        });\n",
       "      },\n",
       "      function(Bokeh) {\n",
       "      }\n",
       "    ];\n",
       "  \n",
       "    function run_inline_js() {\n",
       "      for (var i = 0; i < inline_js.length; i++) {\n",
       "        inline_js[i](window.Bokeh);\n",
       "      }\n",
       "    }\n",
       "  \n",
       "    if (window._bokeh_is_loading === 0) {\n",
       "      console.log(\"Bokeh: BokehJS loaded, going straight to plotting\");\n",
       "      run_inline_js();\n",
       "    } else {\n",
       "      load_libs(js_urls, function() {\n",
       "        console.log(\"Bokeh: BokehJS plotting callback run at\", now());\n",
       "        run_inline_js();\n",
       "      });\n",
       "    }\n",
       "  }(this));\n",
       "</script>"
      ]
     },
     "metadata": {},
     "output_type": "display_data"
    },
    {
     "data": {
      "text/html": [
       "<p><code>&lt;Bokeh Notebook handle for <strong>In[11]</strong>&gt;</code></p>"
      ],
      "text/plain": [
       "<bokeh.io._CommsHandle at 0x119f33278>"
      ]
     },
     "execution_count": 11,
     "metadata": {},
     "output_type": "execute_result"
    }
   ],
   "source": [
    "TOOLS=\"crosshair,pan,wheel_zoom,box_zoom,undo,redo,reset,tap,save,box_select,poly_select,lasso_select\"\n",
    "p = figure(tools=TOOLS)\n",
    "p.patches(xs = xs, ys = ys)\n",
    "p.segment(x0=x0, y0=y0, x1=x1,\n",
    "            y1=y1, color=\"#F4A582\",\n",
    "            line_width=3)\n",
    "\n",
    "p.circle(circlex, circley, size=10, color=\"navy\", alpha=0.5)\n",
    "show(p)"
   ]
  },
  {
   "cell_type": "markdown",
   "metadata": {},
   "source": [
    "## NetworkX"
   ]
  },
  {
   "cell_type": "code",
   "execution_count": null,
   "metadata": {
    "collapsed": false
   },
   "outputs": [],
   "source": [
    "triangle.plot.compare(plt,{\"vertices\":wright.point_array},tris)"
   ]
  },
  {
   "cell_type": "code",
   "execution_count": null,
   "metadata": {
    "collapsed": false
   },
   "outputs": [],
   "source": [
    "# networkx\n",
    "# nx.draw(G,pos)\n",
    "# nx.draw_networkx_labels(G,pos)"
   ]
  },
  {
   "cell_type": "markdown",
   "metadata": {},
   "source": [
    "# Region Enumeration\n",
    "1. Find a cycle basis, containing $c$ cycles\n",
    "1. iterate over the $2^{c}-1$ distinct, non-empty Eulerian subgraphs (do this by iterating over the powerset of the cycle basis and finding the symmetric difference of that powerset-element's elements.\n",
    "  1. check the subgraph for several conditions.    If these conditions are satisfied, we claim that the subgraph is a simply connected region.\n",
    "    1. Each vertex in the subgraph has degree 2\n",
    "    1. The edges of the complete graph on the vertices of the subgraph intersect only edges in the subgraph (and no other edges from the graph)"
   ]
  },
  {
   "cell_type": "code",
   "execution_count": null,
   "metadata": {
    "collapsed": false
   },
   "outputs": [],
   "source": [
    "def powerset(iterable):\n",
    "    \"\"\"\n",
    "    Enumerate all non-empty subsets of an iterable.\n",
    "    For example: powerset([1,2,3]) --> (1,) (2,) (3,) (1,2) (1,3) (2,3) (1,2,3)\n",
    "    \"\"\"\n",
    "    s = list(iterable)\n",
    "    return chain.from_iterable(combinations(s, r) for r in range(1,len(s)+1,1))\n",
    "\n",
    "def symmetric_difference_graph(cycle_tuple,graph):\n",
    "    \"\"\"\n",
    "    Given a tuple of lists of nodes, cycle_tuple, an element from the\n",
    "    powerset of the cycle basis of a given graph, G, where each list\n",
    "    in the given tuple represents a cycle of its contained nodes, return\n",
    "    the graph defined by the symmetric difference of the cycles\n",
    "    represented by the input tuple's lists.\n",
    "    \"\"\"\n",
    "    G = nx.Graph()\n",
    "    \n",
    "    for cycle in cycle_tuple:\n",
    "        cycle_length = len(cycle)\n",
    "        cycle_edges = [(cycle[idx],cycle[idx+1]) for idx in range(cycle_length-1)]\n",
    "        # Close the loop\n",
    "        cycle_edges.append((cycle[cycle_length-1],cycle[0]))\n",
    "        \n",
    "        for edge in cycle_edges:\n",
    "            i,j = edge\n",
    "            if G.has_edge(i,j):\n",
    "                G.remove_edge(i,j)\n",
    "            else:\n",
    "                G.add_edge(i,j)\n",
    "    \n",
    "    # position the nodes in the symmetric difference graph\n",
    "    nx.set_node_attributes(G,'pos',{node:(nx.get_node_attributes(graph,'pos'))[node] for node in nx.nodes(G)})\n",
    "    \n",
    "    return G\n",
    "\n",
    "# def union(cycle_tuple):\n",
    "\n",
    "def difference_graph_subgraph(graph,subgraph):\n",
    "    \"\"\"\n",
    "    (should probably be combined with symmetric_difference_graph function) return a subgraph of graph resulting from the removal of edges in cycle from graph\n",
    "    \"\"\"\n",
    "    \n",
    "    G = nx.Graph()\n",
    "    G.add_edges_from(graph.edges())\n",
    "    G.remove_edges_from(subgraph.edges())\n",
    "    H = nx.Graph()\n",
    "    H.add_edges_from(G.edges())\n",
    "    return H\n",
    "    \n",
    "\n",
    "class Point:\n",
    "    def __init__(self,x,y):\n",
    "        self.x = x\n",
    "        self.y = y\n",
    "\n",
    "def ccw(A,B,C):\n",
    "    return (C.y-A.y) * (B.x-A.x) > (B.y-A.y) * (C.x-A.x)\n",
    "\n",
    "# Return true if line segments AB and CD intersect\n",
    "def intersect(A,B,C,D):\n",
    "    return ccw(A,C,D) != ccw(B,C,D) and ccw(A,B,C) != ccw(A,B,D)\n",
    "\n",
    "def edge_intersection(edge1,edge2,graph):\n",
    "    if edge1[0] != edge2[0] and edge1[0] != edge2[1] and edge1[1] != edge2[0] and edge1[1] != edge2[1]:\n",
    "        pos = nx.get_node_attributes(graph,'pos')\n",
    "        A = Point(pos[edge1[0]][0],pos[edge1[0]][1])\n",
    "        B = Point(pos[edge1[1]][0],pos[edge1[1]][1])\n",
    "        C = Point(pos[edge2[0]][0],pos[edge2[0]][1])\n",
    "        D = Point(pos[edge2[1]][0],pos[edge2[1]][1])\n",
    "        return intersect(A,B,C,D)\n",
    "    return False\n",
    "\n",
    "def check_for_regionness(subgraph,graph):\n",
    "    \"\"\"\n",
    "    Given a subgraph and its containing graph (each of which has position data),\n",
    "    determine whether the subgraph encloses a single, simply connected region in\n",
    "    the current layout of the graph.\n",
    "    \"\"\"\n",
    "    # Is subgraph connected?\n",
    "    if nx.number_connected_components(subgraph) != 1:\n",
    "        return False\n",
    "    \n",
    "    # Does each node in subgraph have degree 2?\n",
    "    for node in subgraph.nodes():\n",
    "        if subgraph.degree(node) != 2:\n",
    "            return False\n",
    "    \n",
    "    # Does each edge in subgraph intersect only subgraph edges (and no other edges in graph)?\n",
    "    # This will fail for many non-convex regions, though\n",
    "    pos = nx.get_node_attributes(graph,'pos')\n",
    "    for subgraph_edge in combinations(subgraph.nodes(),2):\n",
    "        for graph_edge in (difference_graph_subgraph(graph,subgraph)).edges():\n",
    "            if edge_intersection(subgraph_edge,graph_edge,graph):\n",
    "                return False\n",
    "    return True\n",
    "\n",
    "\"\"\"\n",
    "for subset_cycle_basis in powerset(nx.cycle_basis(G)):\n",
    "    #print(\"TESTING:\",(symmetric_difference_graph(subset_cycle_basis,G)).edges())\n",
    "    if check_for_regionness(symmetric_difference_graph(subset_cycle_basis,G),G):\n",
    "        print(\"Yo got dat face:\",(symmetric_difference_graph(subset_cycle_basis,G)).edges())\n",
    "        print(subset_cycle_basis)\n",
    "\"\"\""
   ]
  },
  {
   "cell_type": "markdown",
   "metadata": {},
   "source": [
    "# Next Steps\n",
    "1. since there may exist several minmax length triangulations of a face, one could enumerate all such triangulations and find those that are more ideal with respect to:\n",
    "  1. daily travel\n",
    "  1. opponent activity\n",
    "  1. node degree\n",
    "  1. minimizing the maximum length Hamilton Path on each node and its neighbors\n",
    "    1. since we assume one must walk the HP to collect keys to repair damaged fields\n",
    "1. allow for the input of \"layer nodes,\" which will not be included in the triangulation, but as portals internal to fields for $K_4$ layering\n",
    "1. highlight $K_4$ that naturally occur in the triangulation to alert for link dependencies"
   ]
<<<<<<< HEAD
=======
  },
  {
   "cell_type": "code",
   "execution_count": 9,
   "metadata": {
    "collapsed": false
   },
   "outputs": [
    {
     "data": {
      "image/png": "iVBORw0KGgoAAAANSUhEUgAAAeIAAAFUCAYAAAD4ej/LAAAABHNCSVQICAgIfAhkiAAAAAlwSFlz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\nDGJJkgL6/yEu0pFXTt5oAAAAAElFTkSuQmCC\n",
      "text/plain": [
       "<matplotlib.figure.Figure at 0x109042d30>"
      ]
     },
     "metadata": {},
     "output_type": "display_data"
    }
   ],
   "source": [
    "wright.draw()"
   ]
  },
  {
   "cell_type": "code",
   "execution_count": 10,
   "metadata": {
    "collapsed": false
   },
   "outputs": [
    {
     "data": {
      "text/plain": [
       "{'id1436081177062': '204th Graffiti',\n",
       " 'id1436081203050': '207 St. Station',\n",
       " 'id1436081219785': '215 St Station',\n",
       " 'id1436081249244': '215 Street Subway Station',\n",
       " 'id1436081269757': '225 St Station Train',\n",
       " 'id1436081282965': \"Alexander's Garden\",\n",
       " 'id1436081295648': 'Barber ',\n",
       " 'id1436081401719': \"Bruce's Garden\",\n",
       " 'id1436081439355': 'Carolina Baptist Church',\n",
       " 'id1436081460351': 'Castle Black Lion',\n",
       " 'id1436081536916': 'Church of Good Shepherd',\n",
       " 'id1436081555126': 'Church of Saint Jude',\n",
       " 'id1436081578516': 'College',\n",
       " 'id1436081592358': 'Columbia Stadium Gates',\n",
       " 'id1436081606034': 'Cone Mural',\n",
       " 'id1436081619761': 'Cooper St Mural',\n",
       " 'id1436081636248': 'Dig This Mural',\n",
       " 'id1436081649236': 'Duarte Statue',\n",
       " 'id1436081662827': 'Dyckman Farmhouse Museum',\n",
       " 'id1436081676502': 'Emerson Playground',\n",
       " 'id1436081690819': 'Faces on Face Mural',\n",
       " 'id1436081707204': 'Father Time',\n",
       " 'id1436081849483': 'Fountain on Seaman Ave',\n",
       " 'id1436081869197': 'Fort Washington Park',\n",
       " 'id1436081910674': 'Gargoyle Statue',\n",
       " 'id1436081943521': 'Grand Theft Auto Mural',\n",
       " 'id1436081958474': 'Henry Hudson Bridge',\n",
       " 'id1436082079435': \"Homer's Run \",\n",
       " 'id1436082095213': 'Hong Mural',\n",
       " 'id1436082118628': 'In Memory',\n",
       " 'id1436082131612': 'Indian Road Playground ',\n",
       " 'id1436082150147': 'Inwood Hill Park',\n",
       " 'id1436082170060': 'Inwood Hill Park',\n",
       " 'id1436082173539': 'Inwood Hill Park',\n",
       " 'id1436082305797': 'Isham Park',\n",
       " 'id1436082312642': 'Isham Park ',\n",
       " 'id1436082320884': 'Isham Park Lower Entrance',\n",
       " 'id1436082340785': 'Lorraine Court',\n",
       " 'id1436082352510': 'Mama Sushi',\n",
       " 'id1436082366546': 'MTA Sign',\n",
       " 'id1436082377213': 'Muscota Marsh Park',\n",
       " 'id1436082386155': 'New millennium campbell sport recreation center',\n",
       " 'id1436082394221': 'Isham Gardens',\n",
       " 'id1436082423153': 'Payson Playground',\n",
       " 'id1436082472067': 'Prissy',\n",
       " 'id1436082490518': 'Ree Graffiti at 10 Ave',\n",
       " 'id1436082503173': 'Roof BANDIT Graffiti ',\n",
       " 'id1436082516933': 'Sherman Park',\n",
       " 'id1436082543620': 'The Capuchin Franciscans Statue',\n",
       " 'id1436082561711': 'The Church of Jesus Christ',\n",
       " 'id1436082574221': 'Tree Shadow',\n",
       " 'id1436082586647': 'Turtles',\n",
       " 'id1436082646313': 'US Post Office, Bdwy, Bronx, NY',\n",
       " 'id1436082659356': 'US Post Office, Vermilyea Ave, New York',\n",
       " 'id1436082677318': 'V&S Mural the Sting is Real',\n",
       " 'id1436082692289': 'WataahWall',\n",
       " 'id1436082705656': 'Welcome To The Bronx Mural',\n",
       " 'id1436082726199': 'Yoshi Mural',\n",
       " 'id1436082748693': 'Zipcar-270 Dyckman Street',\n",
       " 'id1436083258880': 'Shorakkopoch',\n",
       " 'id1436083270678': 'Kayak And Canoe Launch',\n",
       " 'id1436083276779': 'Isham Park South Broadway',\n",
       " 'id1436083281515': 'Four Eyed Lion',\n",
       " 'id1436083285538': 'Dick Savitt Tennis Center',\n",
       " 'id1436083289459': 'Horace E. Daveport Class 1929',\n",
       " 'id1436083293069': 'Columbia Boathouse',\n",
       " 'id1436083296708': 'Forest Restoration Sign',\n",
       " 'id1436083315745': 'Castle Black Beehive',\n",
       " 'id1436083319902': 'Boat Medallion',\n",
       " 'id1436083323564': 'The Stack',\n",
       " 'id1436083329163': 'Academy Street Art',\n",
       " 'id1436083332768': 'New York Public Library - Inwood Branch',\n",
       " 'id1436083337147': 'Holy Trinity Episcopal Church',\n",
       " 'id1436083341701': 'Inwood Hill Park',\n",
       " 'id1436083346209': 'Payson Playground Cabin',\n",
       " 'id1436083352123': 'The Hessian Military Hut',\n",
       " 'id1436083360193': 'Zipcar-3976 10th Avenue',\n",
       " 'id1436083975973': 'Iglesia Adventista Del 7mo DIA',\n",
       " 'id1436084002922': 'Mt. Washington Presbyterian Church ',\n",
       " 'id1440851892601': 'Cloud City Mural',\n",
       " 'id1440852343401': 'Fort Tryon Play Area',\n",
       " 'id1440852378084': 'Fort Tryon Park',\n",
       " 'id1440852576416': 'Iglesia Cristiana Church',\n",
       " 'id1440852727944': 'Inwood Hill Park Tennis Courts',\n",
       " 'id1440852888744': 'Trying Public House Mural',\n",
       " 'id1440853025993': 'Monsignor Kett Playground',\n",
       " 'id1440853062084': 'Live Free Mural',\n",
       " 'id1440853156288': 'Fort Tryon Park',\n",
       " 'id1440854666328': 'Dyckman Street Station',\n",
       " 'id1440854735540': 'Anne Loftus Playground',\n",
       " 'id1444213639809': 'Golden Eagle Plates',\n",
       " 'id1444213775035': 'Highbridge Park',\n",
       " 'id1444213968913': 'Jesus Saves Church',\n",
       " 'id1444214130865': 'R.I.N.G. Garden',\n",
       " 'id1444214164253': 'Sealion Statue',\n",
       " 'id1445475245664': 'Aardvark Sculpture',\n",
       " 'id1445475250885': 'Our Lady Queen of Martyrs Church'}"
      ]
     },
     "execution_count": 10,
     "metadata": {},
     "output_type": "execute_result"
    }
   ],
   "source": [
    "wright.node_labels"
   ]
  },
  {
   "cell_type": "markdown",
   "metadata": {
    "collapsed": true
   },
   "source": [
    "* start with $RNG \\bigcup CH$\n",
    "* initial state for simulated annealing\n",
    "  * triangulate with min max length triangulation (?)\n",
    "  * randomly triangulate (?)\n",
    "* cost function\n",
    "  * length of the Hamilton Circuit on neighboring nodes (how much would one have to walk if this node were neutched?) max or sum over nodes\n",
    "  * number of fields incident to node, max or sum (sum seems dumb) over nodes\n",
    "  * length of edges incident to node, max or sum over nodes\n",
    "  * experience gained by opponent for neutching, max or sum (again seems dumb) over nodes\n",
    "  * others!\n",
    "* traverse to new state by picking a pair of vertices $(i,j)$ where $\\overline{i,j}$ is not in $RNG,CH,\\mathrm{current\\ state}$, and ... ?\n",
    "* plot the cooling for all cost functions"
   ]
  },
  {
   "cell_type": "code",
   "execution_count": null,
   "metadata": {
    "collapsed": true
   },
   "outputs": [],
   "source": []
>>>>>>> origin/master
  }
 ],
 "metadata": {
  "anaconda-cloud": {},
  "kernelspec": {
   "display_name": "Python [Root]",
   "language": "python",
   "name": "Python [Root]"
  },
  "language_info": {
   "codemirror_mode": {
    "name": "ipython",
    "version": 3
   },
   "file_extension": ".py",
   "mimetype": "text/x-python",
   "name": "python",
   "nbconvert_exporter": "python",
   "pygments_lexer": "ipython3",
<<<<<<< HEAD
   "version": "3.5.2"
=======
   "version": "3.5.1"
>>>>>>> origin/master
  }
 },
 "nbformat": 4,
 "nbformat_minor": 0
}
